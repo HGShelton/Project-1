{
 "cells": [
  {
   "cell_type": "code",
   "execution_count": 38,
   "id": "ae3c0ec6-3f85-460e-96f3-07027856bd0c",
   "metadata": {},
   "outputs": [
    {
     "data": {
      "application/javascript": "(function(root) {\n  function now() {\n    return new Date();\n  }\n\n  var force = true;\n  var py_version = '3.4.0'.replace('rc', '-rc.').replace('.dev', '-dev.');\n  var reloading = false;\n  var Bokeh = root.Bokeh;\n\n  if (typeof (root._bokeh_timeout) === \"undefined\" || force) {\n    root._bokeh_timeout = Date.now() + 5000;\n    root._bokeh_failed_load = false;\n  }\n\n  function run_callbacks() {\n    try {\n      root._bokeh_onload_callbacks.forEach(function(callback) {\n        if (callback != null)\n          callback();\n      });\n    } finally {\n      delete root._bokeh_onload_callbacks;\n    }\n    console.debug(\"Bokeh: all callbacks have finished\");\n  }\n\n  function load_libs(css_urls, js_urls, js_modules, js_exports, callback) {\n    if (css_urls == null) css_urls = [];\n    if (js_urls == null) js_urls = [];\n    if (js_modules == null) js_modules = [];\n    if (js_exports == null) js_exports = {};\n\n    root._bokeh_onload_callbacks.push(callback);\n\n    if (root._bokeh_is_loading > 0) {\n      console.debug(\"Bokeh: BokehJS is being loaded, scheduling callback at\", now());\n      return null;\n    }\n    if (js_urls.length === 0 && js_modules.length === 0 && Object.keys(js_exports).length === 0) {\n      run_callbacks();\n      return null;\n    }\n    if (!reloading) {\n      console.debug(\"Bokeh: BokehJS not loaded, scheduling load and callback at\", now());\n    }\n\n    function on_load() {\n      root._bokeh_is_loading--;\n      if (root._bokeh_is_loading === 0) {\n        console.debug(\"Bokeh: all BokehJS libraries/stylesheets loaded\");\n        run_callbacks()\n      }\n    }\n    window._bokeh_on_load = on_load\n\n    function on_error() {\n      console.error(\"failed to load \" + url);\n    }\n\n    var skip = [];\n    if (window.requirejs) {\n      window.requirejs.config({'packages': {}, 'paths': {}, 'shim': {}});\n      root._bokeh_is_loading = css_urls.length + 0;\n    } else {\n      root._bokeh_is_loading = css_urls.length + js_urls.length + js_modules.length + Object.keys(js_exports).length;\n    }\n\n    var existing_stylesheets = []\n    var links = document.getElementsByTagName('link')\n    for (var i = 0; i < links.length; i++) {\n      var link = links[i]\n      if (link.href != null) {\n\texisting_stylesheets.push(link.href)\n      }\n    }\n    for (var i = 0; i < css_urls.length; i++) {\n      var url = css_urls[i];\n      if (existing_stylesheets.indexOf(url) !== -1) {\n\ton_load()\n\tcontinue;\n      }\n      const element = document.createElement(\"link\");\n      element.onload = on_load;\n      element.onerror = on_error;\n      element.rel = \"stylesheet\";\n      element.type = \"text/css\";\n      element.href = url;\n      console.debug(\"Bokeh: injecting link tag for BokehJS stylesheet: \", url);\n      document.body.appendChild(element);\n    }    var existing_scripts = []\n    var scripts = document.getElementsByTagName('script')\n    for (var i = 0; i < scripts.length; i++) {\n      var script = scripts[i]\n      if (script.src != null) {\n\texisting_scripts.push(script.src)\n      }\n    }\n    for (var i = 0; i < js_urls.length; i++) {\n      var url = js_urls[i];\n      if (skip.indexOf(url) !== -1 || existing_scripts.indexOf(url) !== -1) {\n\tif (!window.requirejs) {\n\t  on_load();\n\t}\n\tcontinue;\n      }\n      var element = document.createElement('script');\n      element.onload = on_load;\n      element.onerror = on_error;\n      element.async = false;\n      element.src = url;\n      console.debug(\"Bokeh: injecting script tag for BokehJS library: \", url);\n      document.head.appendChild(element);\n    }\n    for (var i = 0; i < js_modules.length; i++) {\n      var url = js_modules[i];\n      if (skip.indexOf(url) !== -1 || existing_scripts.indexOf(url) !== -1) {\n\tif (!window.requirejs) {\n\t  on_load();\n\t}\n\tcontinue;\n      }\n      var element = document.createElement('script');\n      element.onload = on_load;\n      element.onerror = on_error;\n      element.async = false;\n      element.src = url;\n      element.type = \"module\";\n      console.debug(\"Bokeh: injecting script tag for BokehJS library: \", url);\n      document.head.appendChild(element);\n    }\n    for (const name in js_exports) {\n      var url = js_exports[name];\n      if (skip.indexOf(url) >= 0 || root[name] != null) {\n\tif (!window.requirejs) {\n\t  on_load();\n\t}\n\tcontinue;\n      }\n      var element = document.createElement('script');\n      element.onerror = on_error;\n      element.async = false;\n      element.type = \"module\";\n      console.debug(\"Bokeh: injecting script tag for BokehJS library: \", url);\n      element.textContent = `\n      import ${name} from \"${url}\"\n      window.${name} = ${name}\n      window._bokeh_on_load()\n      `\n      document.head.appendChild(element);\n    }\n    if (!js_urls.length && !js_modules.length) {\n      on_load()\n    }\n  };\n\n  function inject_raw_css(css) {\n    const element = document.createElement(\"style\");\n    element.appendChild(document.createTextNode(css));\n    document.body.appendChild(element);\n  }\n\n  var js_urls = [\"https://cdn.bokeh.org/bokeh/release/bokeh-3.4.0.min.js\", \"https://cdn.bokeh.org/bokeh/release/bokeh-gl-3.4.0.min.js\", \"https://cdn.bokeh.org/bokeh/release/bokeh-widgets-3.4.0.min.js\", \"https://cdn.bokeh.org/bokeh/release/bokeh-tables-3.4.0.min.js\", \"https://cdn.holoviz.org/panel/1.4.2/dist/panel.min.js\"];\n  var js_modules = [];\n  var js_exports = {};\n  var css_urls = [];\n  var inline_js = [    function(Bokeh) {\n      Bokeh.set_log_level(\"info\");\n    },\nfunction(Bokeh) {} // ensure no trailing comma for IE\n  ];\n\n  function run_inline_js() {\n    if ((root.Bokeh !== undefined) || (force === true)) {\n      for (var i = 0; i < inline_js.length; i++) {\n\ttry {\n          inline_js[i].call(root, root.Bokeh);\n\t} catch(e) {\n\t  if (!reloading) {\n\t    throw e;\n\t  }\n\t}\n      }\n      // Cache old bokeh versions\n      if (Bokeh != undefined && !reloading) {\n\tvar NewBokeh = root.Bokeh;\n\tif (Bokeh.versions === undefined) {\n\t  Bokeh.versions = new Map();\n\t}\n\tif (NewBokeh.version !== Bokeh.version) {\n\t  Bokeh.versions.set(NewBokeh.version, NewBokeh)\n\t}\n\troot.Bokeh = Bokeh;\n      }} else if (Date.now() < root._bokeh_timeout) {\n      setTimeout(run_inline_js, 100);\n    } else if (!root._bokeh_failed_load) {\n      console.log(\"Bokeh: BokehJS failed to load within specified timeout.\");\n      root._bokeh_failed_load = true;\n    }\n    root._bokeh_is_initializing = false\n  }\n\n  function load_or_wait() {\n    // Implement a backoff loop that tries to ensure we do not load multiple\n    // versions of Bokeh and its dependencies at the same time.\n    // In recent versions we use the root._bokeh_is_initializing flag\n    // to determine whether there is an ongoing attempt to initialize\n    // bokeh, however for backward compatibility we also try to ensure\n    // that we do not start loading a newer (Panel>=1.0 and Bokeh>3) version\n    // before older versions are fully initialized.\n    if (root._bokeh_is_initializing && Date.now() > root._bokeh_timeout) {\n      root._bokeh_is_initializing = false;\n      root._bokeh_onload_callbacks = undefined;\n      console.log(\"Bokeh: BokehJS was loaded multiple times but one version failed to initialize.\");\n      load_or_wait();\n    } else if (root._bokeh_is_initializing || (typeof root._bokeh_is_initializing === \"undefined\" && root._bokeh_onload_callbacks !== undefined)) {\n      setTimeout(load_or_wait, 100);\n    } else {\n      root._bokeh_is_initializing = true\n      root._bokeh_onload_callbacks = []\n      var bokeh_loaded = Bokeh != null && (Bokeh.version === py_version || (Bokeh.versions !== undefined && Bokeh.versions.has(py_version)));\n      if (!reloading && !bokeh_loaded) {\n\troot.Bokeh = undefined;\n      }\n      load_libs(css_urls, js_urls, js_modules, js_exports, function() {\n\tconsole.debug(\"Bokeh: BokehJS plotting callback run at\", now());\n\trun_inline_js();\n      });\n    }\n  }\n  // Give older versions of the autoload script a head-start to ensure\n  // they initialize before we start loading newer version.\n  setTimeout(load_or_wait, 100)\n}(window));",
      "application/vnd.holoviews_load.v0+json": ""
     },
     "metadata": {},
     "output_type": "display_data"
    },
    {
     "data": {
      "application/javascript": "\nif ((window.PyViz === undefined) || (window.PyViz instanceof HTMLElement)) {\n  window.PyViz = {comms: {}, comm_status:{}, kernels:{}, receivers: {}, plot_index: []}\n}\n\n\n    function JupyterCommManager() {\n    }\n\n    JupyterCommManager.prototype.register_target = function(plot_id, comm_id, msg_handler) {\n      if (window.comm_manager || ((window.Jupyter !== undefined) && (Jupyter.notebook.kernel != null))) {\n        var comm_manager = window.comm_manager || Jupyter.notebook.kernel.comm_manager;\n        comm_manager.register_target(comm_id, function(comm) {\n          comm.on_msg(msg_handler);\n        });\n      } else if ((plot_id in window.PyViz.kernels) && (window.PyViz.kernels[plot_id])) {\n        window.PyViz.kernels[plot_id].registerCommTarget(comm_id, function(comm) {\n          comm.onMsg = msg_handler;\n        });\n      } else if (typeof google != 'undefined' && google.colab.kernel != null) {\n        google.colab.kernel.comms.registerTarget(comm_id, (comm) => {\n          var messages = comm.messages[Symbol.asyncIterator]();\n          function processIteratorResult(result) {\n            var message = result.value;\n            console.log(message)\n            var content = {data: message.data, comm_id};\n            var buffers = []\n            for (var buffer of message.buffers || []) {\n              buffers.push(new DataView(buffer))\n            }\n            var metadata = message.metadata || {};\n            var msg = {content, buffers, metadata}\n            msg_handler(msg);\n            return messages.next().then(processIteratorResult);\n          }\n          return messages.next().then(processIteratorResult);\n        })\n      }\n    }\n\n    JupyterCommManager.prototype.get_client_comm = function(plot_id, comm_id, msg_handler) {\n      if (comm_id in window.PyViz.comms) {\n        return window.PyViz.comms[comm_id];\n      } else if (window.comm_manager || ((window.Jupyter !== undefined) && (Jupyter.notebook.kernel != null))) {\n        var comm_manager = window.comm_manager || Jupyter.notebook.kernel.comm_manager;\n        var comm = comm_manager.new_comm(comm_id, {}, {}, {}, comm_id);\n        if (msg_handler) {\n          comm.on_msg(msg_handler);\n        }\n      } else if ((plot_id in window.PyViz.kernels) && (window.PyViz.kernels[plot_id])) {\n        var comm = window.PyViz.kernels[plot_id].connectToComm(comm_id);\n        comm.open();\n        if (msg_handler) {\n          comm.onMsg = msg_handler;\n        }\n      } else if (typeof google != 'undefined' && google.colab.kernel != null) {\n        var comm_promise = google.colab.kernel.comms.open(comm_id)\n        comm_promise.then((comm) => {\n          window.PyViz.comms[comm_id] = comm;\n          if (msg_handler) {\n            var messages = comm.messages[Symbol.asyncIterator]();\n            function processIteratorResult(result) {\n              var message = result.value;\n              var content = {data: message.data};\n              var metadata = message.metadata || {comm_id};\n              var msg = {content, metadata}\n              msg_handler(msg);\n              return messages.next().then(processIteratorResult);\n            }\n            return messages.next().then(processIteratorResult);\n          }\n        }) \n        var sendClosure = (data, metadata, buffers, disposeOnDone) => {\n          return comm_promise.then((comm) => {\n            comm.send(data, metadata, buffers, disposeOnDone);\n          });\n        };\n        var comm = {\n          send: sendClosure\n        };\n      }\n      window.PyViz.comms[comm_id] = comm;\n      return comm;\n    }\n    window.PyViz.comm_manager = new JupyterCommManager();\n    \n\n\nvar JS_MIME_TYPE = 'application/javascript';\nvar HTML_MIME_TYPE = 'text/html';\nvar EXEC_MIME_TYPE = 'application/vnd.holoviews_exec.v0+json';\nvar CLASS_NAME = 'output';\n\n/**\n * Render data to the DOM node\n */\nfunction render(props, node) {\n  var div = document.createElement(\"div\");\n  var script = document.createElement(\"script\");\n  node.appendChild(div);\n  node.appendChild(script);\n}\n\n/**\n * Handle when a new output is added\n */\nfunction handle_add_output(event, handle) {\n  var output_area = handle.output_area;\n  var output = handle.output;\n  if ((output.data == undefined) || (!output.data.hasOwnProperty(EXEC_MIME_TYPE))) {\n    return\n  }\n  var id = output.metadata[EXEC_MIME_TYPE][\"id\"];\n  var toinsert = output_area.element.find(\".\" + CLASS_NAME.split(' ')[0]);\n  if (id !== undefined) {\n    var nchildren = toinsert.length;\n    var html_node = toinsert[nchildren-1].children[0];\n    html_node.innerHTML = output.data[HTML_MIME_TYPE];\n    var scripts = [];\n    var nodelist = html_node.querySelectorAll(\"script\");\n    for (var i in nodelist) {\n      if (nodelist.hasOwnProperty(i)) {\n        scripts.push(nodelist[i])\n      }\n    }\n\n    scripts.forEach( function (oldScript) {\n      var newScript = document.createElement(\"script\");\n      var attrs = [];\n      var nodemap = oldScript.attributes;\n      for (var j in nodemap) {\n        if (nodemap.hasOwnProperty(j)) {\n          attrs.push(nodemap[j])\n        }\n      }\n      attrs.forEach(function(attr) { newScript.setAttribute(attr.name, attr.value) });\n      newScript.appendChild(document.createTextNode(oldScript.innerHTML));\n      oldScript.parentNode.replaceChild(newScript, oldScript);\n    });\n    if (JS_MIME_TYPE in output.data) {\n      toinsert[nchildren-1].children[1].textContent = output.data[JS_MIME_TYPE];\n    }\n    output_area._hv_plot_id = id;\n    if ((window.Bokeh !== undefined) && (id in Bokeh.index)) {\n      window.PyViz.plot_index[id] = Bokeh.index[id];\n    } else {\n      window.PyViz.plot_index[id] = null;\n    }\n  } else if (output.metadata[EXEC_MIME_TYPE][\"server_id\"] !== undefined) {\n    var bk_div = document.createElement(\"div\");\n    bk_div.innerHTML = output.data[HTML_MIME_TYPE];\n    var script_attrs = bk_div.children[0].attributes;\n    for (var i = 0; i < script_attrs.length; i++) {\n      toinsert[toinsert.length - 1].childNodes[1].setAttribute(script_attrs[i].name, script_attrs[i].value);\n    }\n    // store reference to server id on output_area\n    output_area._bokeh_server_id = output.metadata[EXEC_MIME_TYPE][\"server_id\"];\n  }\n}\n\n/**\n * Handle when an output is cleared or removed\n */\nfunction handle_clear_output(event, handle) {\n  var id = handle.cell.output_area._hv_plot_id;\n  var server_id = handle.cell.output_area._bokeh_server_id;\n  if (((id === undefined) || !(id in PyViz.plot_index)) && (server_id !== undefined)) { return; }\n  var comm = window.PyViz.comm_manager.get_client_comm(\"hv-extension-comm\", \"hv-extension-comm\", function () {});\n  if (server_id !== null) {\n    comm.send({event_type: 'server_delete', 'id': server_id});\n    return;\n  } else if (comm !== null) {\n    comm.send({event_type: 'delete', 'id': id});\n  }\n  delete PyViz.plot_index[id];\n  if ((window.Bokeh !== undefined) & (id in window.Bokeh.index)) {\n    var doc = window.Bokeh.index[id].model.document\n    doc.clear();\n    const i = window.Bokeh.documents.indexOf(doc);\n    if (i > -1) {\n      window.Bokeh.documents.splice(i, 1);\n    }\n  }\n}\n\n/**\n * Handle kernel restart event\n */\nfunction handle_kernel_cleanup(event, handle) {\n  delete PyViz.comms[\"hv-extension-comm\"];\n  window.PyViz.plot_index = {}\n}\n\n/**\n * Handle update_display_data messages\n */\nfunction handle_update_output(event, handle) {\n  handle_clear_output(event, {cell: {output_area: handle.output_area}})\n  handle_add_output(event, handle)\n}\n\nfunction register_renderer(events, OutputArea) {\n  function append_mime(data, metadata, element) {\n    // create a DOM node to render to\n    var toinsert = this.create_output_subarea(\n    metadata,\n    CLASS_NAME,\n    EXEC_MIME_TYPE\n    );\n    this.keyboard_manager.register_events(toinsert);\n    // Render to node\n    var props = {data: data, metadata: metadata[EXEC_MIME_TYPE]};\n    render(props, toinsert[0]);\n    element.append(toinsert);\n    return toinsert\n  }\n\n  events.on('output_added.OutputArea', handle_add_output);\n  events.on('output_updated.OutputArea', handle_update_output);\n  events.on('clear_output.CodeCell', handle_clear_output);\n  events.on('delete.Cell', handle_clear_output);\n  events.on('kernel_ready.Kernel', handle_kernel_cleanup);\n\n  OutputArea.prototype.register_mime_type(EXEC_MIME_TYPE, append_mime, {\n    safe: true,\n    index: 0\n  });\n}\n\nif (window.Jupyter !== undefined) {\n  try {\n    var events = require('base/js/events');\n    var OutputArea = require('notebook/js/outputarea').OutputArea;\n    if (OutputArea.prototype.mime_types().indexOf(EXEC_MIME_TYPE) == -1) {\n      register_renderer(events, OutputArea);\n    }\n  } catch(err) {\n  }\n}\n",
      "application/vnd.holoviews_load.v0+json": ""
     },
     "metadata": {},
     "output_type": "display_data"
    },
    {
     "data": {
      "text/html": [
       "<style>*[data-root-id],\n",
       "*[data-root-id] > * {\n",
       "  box-sizing: border-box;\n",
       "  font-family: var(--jp-ui-font-family);\n",
       "  font-size: var(--jp-ui-font-size1);\n",
       "  color: var(--vscode-editor-foreground, var(--jp-ui-font-color1));\n",
       "}\n",
       "\n",
       "/* Override VSCode background color */\n",
       ".cell-output-ipywidget-background:has(\n",
       "    > .cell-output-ipywidget-background > .lm-Widget > *[data-root-id]\n",
       "  ),\n",
       ".cell-output-ipywidget-background:has(> .lm-Widget > *[data-root-id]) {\n",
       "  background-color: transparent !important;\n",
       "}\n",
       "</style>"
      ]
     },
     "metadata": {},
     "output_type": "display_data"
    },
    {
     "data": {
      "application/vnd.holoviews_exec.v0+json": "",
      "text/html": [
       "<div id='p1002'>\n",
       "  <div id=\"d955d33b-1c6b-4551-92c7-e0a6336eae31\" data-root-id=\"p1002\" style=\"display: contents;\"></div>\n",
       "</div>\n",
       "<script type=\"application/javascript\">(function(root) {\n",
       "  var docs_json = {\"209b9853-2bf7-4d60-bd7a-8ddc00973cc8\":{\"version\":\"3.4.0\",\"title\":\"Bokeh Application\",\"roots\":[{\"type\":\"object\",\"name\":\"panel.models.browser.BrowserInfo\",\"id\":\"p1002\"},{\"type\":\"object\",\"name\":\"panel.models.comm_manager.CommManager\",\"id\":\"p1003\",\"attributes\":{\"plot_id\":\"p1002\",\"comm_id\":\"a57d93498bf346d797b591938980a76e\",\"client_comm_id\":\"4684b12eb36b430c8bec039a3117091c\"}}],\"defs\":[{\"type\":\"model\",\"name\":\"ReactiveHTML1\"},{\"type\":\"model\",\"name\":\"FlexBox1\",\"properties\":[{\"name\":\"align_content\",\"kind\":\"Any\",\"default\":\"flex-start\"},{\"name\":\"align_items\",\"kind\":\"Any\",\"default\":\"flex-start\"},{\"name\":\"flex_direction\",\"kind\":\"Any\",\"default\":\"row\"},{\"name\":\"flex_wrap\",\"kind\":\"Any\",\"default\":\"wrap\"},{\"name\":\"gap\",\"kind\":\"Any\",\"default\":\"\"},{\"name\":\"justify_content\",\"kind\":\"Any\",\"default\":\"flex-start\"}]},{\"type\":\"model\",\"name\":\"FloatPanel1\",\"properties\":[{\"name\":\"config\",\"kind\":\"Any\",\"default\":{\"type\":\"map\"}},{\"name\":\"contained\",\"kind\":\"Any\",\"default\":true},{\"name\":\"position\",\"kind\":\"Any\",\"default\":\"right-top\"},{\"name\":\"offsetx\",\"kind\":\"Any\",\"default\":null},{\"name\":\"offsety\",\"kind\":\"Any\",\"default\":null},{\"name\":\"theme\",\"kind\":\"Any\",\"default\":\"primary\"},{\"name\":\"status\",\"kind\":\"Any\",\"default\":\"normalized\"}]},{\"type\":\"model\",\"name\":\"GridStack1\",\"properties\":[{\"name\":\"mode\",\"kind\":\"Any\",\"default\":\"warn\"},{\"name\":\"ncols\",\"kind\":\"Any\",\"default\":null},{\"name\":\"nrows\",\"kind\":\"Any\",\"default\":null},{\"name\":\"allow_resize\",\"kind\":\"Any\",\"default\":true},{\"name\":\"allow_drag\",\"kind\":\"Any\",\"default\":true},{\"name\":\"state\",\"kind\":\"Any\",\"default\":[]}]},{\"type\":\"model\",\"name\":\"drag1\",\"properties\":[{\"name\":\"slider_width\",\"kind\":\"Any\",\"default\":5},{\"name\":\"slider_color\",\"kind\":\"Any\",\"default\":\"black\"},{\"name\":\"value\",\"kind\":\"Any\",\"default\":50}]},{\"type\":\"model\",\"name\":\"click1\",\"properties\":[{\"name\":\"terminal_output\",\"kind\":\"Any\",\"default\":\"\"},{\"name\":\"debug_name\",\"kind\":\"Any\",\"default\":\"\"},{\"name\":\"clears\",\"kind\":\"Any\",\"default\":0}]},{\"type\":\"model\",\"name\":\"FastWrapper1\",\"properties\":[{\"name\":\"object\",\"kind\":\"Any\",\"default\":null},{\"name\":\"style\",\"kind\":\"Any\",\"default\":null}]},{\"type\":\"model\",\"name\":\"NotificationAreaBase1\",\"properties\":[{\"name\":\"js_events\",\"kind\":\"Any\",\"default\":{\"type\":\"map\"}},{\"name\":\"position\",\"kind\":\"Any\",\"default\":\"bottom-right\"},{\"name\":\"_clear\",\"kind\":\"Any\",\"default\":0}]},{\"type\":\"model\",\"name\":\"NotificationArea1\",\"properties\":[{\"name\":\"js_events\",\"kind\":\"Any\",\"default\":{\"type\":\"map\"}},{\"name\":\"notifications\",\"kind\":\"Any\",\"default\":[]},{\"name\":\"position\",\"kind\":\"Any\",\"default\":\"bottom-right\"},{\"name\":\"_clear\",\"kind\":\"Any\",\"default\":0},{\"name\":\"types\",\"kind\":\"Any\",\"default\":[{\"type\":\"map\",\"entries\":[[\"type\",\"warning\"],[\"background\",\"#ffc107\"],[\"icon\",{\"type\":\"map\",\"entries\":[[\"className\",\"fas fa-exclamation-triangle\"],[\"tagName\",\"i\"],[\"color\",\"white\"]]}]]},{\"type\":\"map\",\"entries\":[[\"type\",\"info\"],[\"background\",\"#007bff\"],[\"icon\",{\"type\":\"map\",\"entries\":[[\"className\",\"fas fa-info-circle\"],[\"tagName\",\"i\"],[\"color\",\"white\"]]}]]}]}]},{\"type\":\"model\",\"name\":\"Notification\",\"properties\":[{\"name\":\"background\",\"kind\":\"Any\",\"default\":null},{\"name\":\"duration\",\"kind\":\"Any\",\"default\":3000},{\"name\":\"icon\",\"kind\":\"Any\",\"default\":null},{\"name\":\"message\",\"kind\":\"Any\",\"default\":\"\"},{\"name\":\"notification_type\",\"kind\":\"Any\",\"default\":null},{\"name\":\"_destroyed\",\"kind\":\"Any\",\"default\":false}]},{\"type\":\"model\",\"name\":\"TemplateActions1\",\"properties\":[{\"name\":\"open_modal\",\"kind\":\"Any\",\"default\":0},{\"name\":\"close_modal\",\"kind\":\"Any\",\"default\":0}]},{\"type\":\"model\",\"name\":\"BootstrapTemplateActions1\",\"properties\":[{\"name\":\"open_modal\",\"kind\":\"Any\",\"default\":0},{\"name\":\"close_modal\",\"kind\":\"Any\",\"default\":0}]},{\"type\":\"model\",\"name\":\"TemplateEditor1\",\"properties\":[{\"name\":\"layout\",\"kind\":\"Any\",\"default\":[]}]},{\"type\":\"model\",\"name\":\"MaterialTemplateActions1\",\"properties\":[{\"name\":\"open_modal\",\"kind\":\"Any\",\"default\":0},{\"name\":\"close_modal\",\"kind\":\"Any\",\"default\":0}]},{\"type\":\"model\",\"name\":\"copy_to_clipboard1\",\"properties\":[{\"name\":\"fill\",\"kind\":\"Any\",\"default\":\"none\"},{\"name\":\"value\",\"kind\":\"Any\",\"default\":null}]}]}};\n",
       "  var render_items = [{\"docid\":\"209b9853-2bf7-4d60-bd7a-8ddc00973cc8\",\"roots\":{\"p1002\":\"d955d33b-1c6b-4551-92c7-e0a6336eae31\"},\"root_ids\":[\"p1002\"]}];\n",
       "  var docs = Object.values(docs_json)\n",
       "  if (!docs) {\n",
       "    return\n",
       "  }\n",
       "  const py_version = docs[0].version.replace('rc', '-rc.').replace('.dev', '-dev.')\n",
       "  function embed_document(root) {\n",
       "    var Bokeh = get_bokeh(root)\n",
       "    Bokeh.embed.embed_items_notebook(docs_json, render_items);\n",
       "    for (const render_item of render_items) {\n",
       "      for (const root_id of render_item.root_ids) {\n",
       "\tconst id_el = document.getElementById(root_id)\n",
       "\tif (id_el.children.length && (id_el.children[0].className === 'bk-root')) {\n",
       "\t  const root_el = id_el.children[0]\n",
       "\t  root_el.id = root_el.id + '-rendered'\n",
       "\t}\n",
       "      }\n",
       "    }\n",
       "  }\n",
       "  function get_bokeh(root) {\n",
       "    if (root.Bokeh === undefined) {\n",
       "      return null\n",
       "    } else if (root.Bokeh.version !== py_version) {\n",
       "      if (root.Bokeh.versions === undefined || !root.Bokeh.versions.has(py_version)) {\n",
       "\treturn null\n",
       "      }\n",
       "      return root.Bokeh.versions.get(py_version);\n",
       "    } else if (root.Bokeh.version === py_version) {\n",
       "      return root.Bokeh\n",
       "    }\n",
       "    return null\n",
       "  }\n",
       "  function is_loaded(root) {\n",
       "    var Bokeh = get_bokeh(root)\n",
       "    return (Bokeh != null && Bokeh.Panel !== undefined)\n",
       "  }\n",
       "  if (is_loaded(root)) {\n",
       "    embed_document(root);\n",
       "  } else {\n",
       "    var attempts = 0;\n",
       "    var timer = setInterval(function(root) {\n",
       "      if (is_loaded(root)) {\n",
       "        clearInterval(timer);\n",
       "        embed_document(root);\n",
       "      } else if (document.readyState == \"complete\") {\n",
       "        attempts++;\n",
       "        if (attempts > 200) {\n",
       "          clearInterval(timer);\n",
       "\t  var Bokeh = get_bokeh(root)\n",
       "\t  if (Bokeh == null || Bokeh.Panel == null) {\n",
       "            console.warn(\"Panel: ERROR: Unable to run Panel code because Bokeh or Panel library is missing\");\n",
       "\t  } else {\n",
       "\t    console.warn(\"Panel: WARNING: Attempting to render but not all required libraries could be resolved.\")\n",
       "\t    embed_document(root)\n",
       "\t  }\n",
       "        }\n",
       "      }\n",
       "    }, 25, root)\n",
       "  }\n",
       "})(window);</script>"
      ]
     },
     "metadata": {
      "application/vnd.holoviews_exec.v0+json": {
       "id": "p1002"
      }
     },
     "output_type": "display_data"
    }
   ],
   "source": [
    "#importing libraries\n",
    "import pandas as pd\n",
    "import numpy as np\n",
    "# import matplotlib.pyplot as plt\n",
    "import geopandas as gpd\n",
    "from shapely.geometry import Point, Polygon, MultiPolygon\n",
    "import hvplot.pandas\n",
    "import scipy.stats as stats\n",
    "import random"
   ]
  },
  {
   "cell_type": "code",
   "execution_count": 2,
   "id": "df096da6",
   "metadata": {},
   "outputs": [],
   "source": [
    "def read_gpd(path):\n",
    "    gdf = pd.read_csv(path)\n",
    "    gdf[\"geometry\"] = gpd.GeoSeries.from_wkt(gdf[\"geometry\"])\n",
    "    gdf = gpd.GeoDataFrame(gdf, geometry=\"geometry\")\n",
    "    return gdf"
   ]
  },
  {
   "cell_type": "code",
   "execution_count": 47,
   "id": "76df5065",
   "metadata": {},
   "outputs": [],
   "source": [
    "#importing data from previous chunk of code\n",
    "# reduced_r_public_gdf = read_gpd(\"output_data/reduced_r_public_gdf.csv\")\n",
    "# reduced_q_public_gdf = read_gpd(\"output_data/reduced_r_public_gdf.csv\")\n",
    "# reduced_k_public_gdf = read_gpd(\"output_data/reduced_r_public_gdf.csv\")\n",
    "# reduced_x_public_gdf = read_gpd(\"output_data/reduced_r_public_gdf.csv\")\n",
    "# reduced_m_public_gdf = read_gpd(\"output_data/reduced_r_public_gdf.csv\")\n",
    "\n",
    "r_crimes_gdf = read_gpd(\"output_data/r_crimes_gdf.csv\")\n",
    "q_crimes_gdf = read_gpd(\"output_data/q_crimes_gdf.csv\")\n",
    "k_crimes_gdf = read_gpd(\"output_data/k_crimes_gdf.csv\")\n",
    "x_crimes_gdf = read_gpd(\"output_data/x_crimes_gdf.csv\")\n",
    "m_crimes_gdf = read_gpd(\"output_data/m_crimes_gdf.csv\")"
   ]
  },
  {
   "cell_type": "code",
   "execution_count": 5,
   "id": "90a00762",
   "metadata": {},
   "outputs": [
    {
     "data": {
      "text/plain": [
       "OBJECTID        int64\n",
       "Offense        object\n",
       "Latitude      float64\n",
       "Longitude     float64\n",
       "geometry     geometry\n",
       "dtype: object"
      ]
     },
     "execution_count": 5,
     "metadata": {},
     "output_type": "execute_result"
    }
   ],
   "source": []
  },
  {
   "cell_type": "markdown",
   "id": "74ed723e",
   "metadata": {},
   "source": [
    "**Finding the Control Data**\n",
    "\n",
    "- what i want to do is grab a random series of coordinates within staten island and see the number of crimes occured in the same radius\n",
    "- then compare them to library/park data to see if there is a significant difference"
   ]
  },
  {
   "cell_type": "code",
   "execution_count": 6,
   "id": "d67dc536",
   "metadata": {},
   "outputs": [
    {
     "data": {
      "image/svg+xml": [
       "<svg xmlns=\"http://www.w3.org/2000/svg\" xmlns:xlink=\"http://www.w3.org/1999/xlink\" width=\"100.0\" height=\"100.0\" viewBox=\"40.492839818221626 -74.25636966077991 0.15609675503701936 0.20615844726563637\" preserveAspectRatio=\"xMinYMin meet\"><g transform=\"matrix(1,0,0,-1,0,-148.30658087429418)\"><path fill-rule=\"evenodd\" fill=\"#66cc99\" stroke=\"#555555\" stroke-width=\"0.004123168945312727\" opacity=\"0.6\" d=\"M 40.5004753162685,-74.24873416273303 L 40.54484131402899,-74.24221103040881 L 40.554754403637595,-74.20753543226428 L 40.6379143073708,-74.19174258558459 L 40.64130107521177,-74.07844607679553 L 40.60195187161857,-74.05784671156115 L 40.5411887532192,-74.1261679395885 L 40.5004753162685,-74.24873416273303 z\" /></g></svg>"
      ],
      "text/plain": [
       "<POLYGON ((40.5 -74.2, 40.5 -74.2, 40.6 -74.2, 40.6 -74.2, 40.6 -74.1, 40.6 ...>"
      ]
     },
     "execution_count": 6,
     "metadata": {},
     "output_type": "execute_result"
    }
   ],
   "source": [
    "# Coordinates for the polygon of staten island\n",
    "# Coordinates determined by HeadWall photonics (http://apps.headwallphotonics.com)\n",
    "\n",
    "staten_island_poly = Polygon([\n",
    "    (40.5004753162685, -74.24873416273303),\n",
    "    (40.54484131402899, -74.24221103040881),\n",
    "    (40.554754403637595, -74.20753543226428),\n",
    "    (40.6379143073708, -74.19174258558459),\n",
    "    (40.64130107521177, -74.07844607679553),\n",
    "    (40.60195187161857, -74.05784671156115),\n",
    "    (40.5411887532192, -74.1261679395885)\n",
    "])\n",
    "staten_island_poly"
   ]
  },
  {
   "cell_type": "code",
   "execution_count": 7,
   "id": "55ecf7fb",
   "metadata": {},
   "outputs": [],
   "source": [
    "# Coordinates for the polygon of Queens\n",
    "# Coordinates determined by HeadWall photonics (http://apps.headwallphotonics.com)\n",
    "queens_annex_poly = Polygon([\n",
    "(40.544722434447046, -73.93797369602206),\n",
    "(40.555385486761516, -73.90892000797274),\n",
    "(40.56430266845497, -73.87422295215609),\n",
    "(40.575826406702106, -73.83815260532381),\n",
    "(40.58804885372343, -73.7889287054825),\n",
    "(40.594533991890565, -73.7371298849869),\n",
    "(40.61069521681332, -73.74365301731112),\n",
    "(40.613431811532955, -73.76854391696932),\n",
    "(40.60614795792396, -73.78278036894753),\n",
    "(40.59782058407185, -73.80319663049605),\n",
    "(40.584291633723474, -73.83029624343683),\n",
    "(40.58121867054795, -73.85256645320513),\n",
    "(40.57262741027578, -73.8694636565261),\n",
    "(40.567027360883614, -73.8789422264483),\n",
    "(40.56768636153804, -73.89254066941739),\n",
    "(40.5643238418201, -73.91088555213356),\n",
    "(40.5557723879539, -73.93727563494873)\n",
    "\n",
    "])\n",
    "queens_poly = Polygon([\n",
    "(40.65034357145685, -73.82444294504265),\n",
    "(40.646436276566554, -73.8491621833239),\n",
    "(40.69161667259464, -73.86512669138054),\n",
    "(40.67801369382192, -73.89731319955925),\n",
    "(40.683220903619834, -73.9052096228991),\n",
    "(40.692983325573486, -73.89851482919792),\n",
    "(40.708990601507054, -73.9216891150866),\n",
    "(40.71284805224667, -73.91665389230275),\n",
    "(40.72870471211942, -73.92895333667934),\n",
    "(40.739615309797415, -73.96116550078247),\n",
    "(40.769882760654, -73.93627460112427),\n",
    "(40.788700149775686, -73.91001041045044),\n",
    "(40.77752188089111, -73.89284427275513),\n",
    "(40.77258204651135, -73.88391788115356),\n",
    "(40.779861674239875, -73.87636478056763),\n",
    "(40.76920194820335, -73.86022861113403),\n",
    "(40.76317126236197, -73.86134294326233),\n",
    "(40.75714002927082, -73.84597778320312),\n",
    "(40.790339654182766, -73.85172990615295),\n",
    "(40.79857705399254, -73.82040317168091),\n",
    "(40.79438604712569, -73.79748637785767),\n",
    "(40.788375226649194, -73.79242236723755),\n",
    "(40.79584805631508, -73.77783115019653),\n",
    "(40.788050301932834, -73.77199466338013),\n",
    "(40.783436199383075, -73.77276713957642),\n",
    "(40.763806435034766, -73.75388438811157),\n",
    "(40.777261898765104, -73.75474269499634),\n",
    "(40.782461347967335, -73.75100906004761),\n",
    "(40.777222312480966, -73.74372204116173),\n",
    "(40.77410244574748, -73.73350818923302),\n",
    "(40.7520036188566, -73.70152473449707),\n",
    "(40.73930688199643, -73.70016912880567),\n",
    "(40.73454276165232, -73.71391972428614),\n",
    "(40.72549366362228, -73.72354160405762),\n",
    "(40.71592289198027, -73.72870028802832),\n",
    "(40.686755018399005, -73.72391145479783),\n",
    "(40.66509279923652, -73.72922658200358),\n",
    "(40.65295818817826, -73.72226135596561),\n",
    "(40.64752931634277, -73.74387774919037),\n",
    "(40.63276215230612, -73.74625512792501),\n",
    "(40.64517152217268, -73.7499799171326),\n",
    "(40.66399382571134, -73.78901518890714),\n",
    "(40.66230886467904, -73.82108048343278),\n",
    "\n",
    "])\n",
    "list = [queens_poly, queens_annex_poly]\n",
    "queens_poly = MultiPolygon(list)"
   ]
  },
  {
   "cell_type": "code",
   "execution_count": 8,
   "id": "1bfa2668",
   "metadata": {},
   "outputs": [
    {
     "data": {
      "image/svg+xml": [
       "<svg xmlns=\"http://www.w3.org/2000/svg\" xmlns:xlink=\"http://www.w3.org/1999/xlink\" width=\"100.0\" height=\"100.0\" viewBox=\"40.53428257956797 -73.97160535566154 0.27473432930364083 0.2818760817349357\" preserveAspectRatio=\"xMinYMin meet\"><g transform=\"matrix(1,0,0,-1,0,-147.66133462958814)\"><g><path fill-rule=\"evenodd\" fill=\"#66cc99\" stroke=\"#555555\" stroke-width=\"0.005637521634698714\" opacity=\"0.6\" d=\"M 40.65034357145685,-73.82444294504265 L 40.646436276566554,-73.8491621833239 L 40.69161667259464,-73.86512669138054 L 40.67801369382192,-73.89731319955925 L 40.683220903619834,-73.9052096228991 L 40.692983325573486,-73.89851482919792 L 40.708990601507054,-73.9216891150866 L 40.71284805224667,-73.91665389230275 L 40.72870471211942,-73.92895333667934 L 40.739615309797415,-73.96116550078247 L 40.769882760654,-73.93627460112427 L 40.788700149775686,-73.91001041045044 L 40.77752188089111,-73.89284427275513 L 40.77258204651135,-73.88391788115356 L 40.779861674239875,-73.87636478056763 L 40.76920194820335,-73.86022861113403 L 40.76317126236197,-73.86134294326233 L 40.75714002927082,-73.84597778320312 L 40.790339654182766,-73.85172990615295 L 40.79857705399254,-73.82040317168091 L 40.79438604712569,-73.79748637785767 L 40.788375226649194,-73.79242236723755 L 40.79584805631508,-73.77783115019653 L 40.788050301932834,-73.77199466338013 L 40.783436199383075,-73.77276713957642 L 40.763806435034766,-73.75388438811157 L 40.777261898765104,-73.75474269499634 L 40.782461347967335,-73.75100906004761 L 40.777222312480966,-73.74372204116173 L 40.77410244574748,-73.73350818923302 L 40.7520036188566,-73.70152473449707 L 40.73930688199643,-73.70016912880567 L 40.73454276165232,-73.71391972428614 L 40.72549366362228,-73.72354160405762 L 40.71592289198027,-73.72870028802832 L 40.686755018399005,-73.72391145479783 L 40.66509279923652,-73.72922658200358 L 40.65295818817826,-73.72226135596561 L 40.64752931634277,-73.74387774919037 L 40.63276215230612,-73.74625512792501 L 40.64517152217268,-73.7499799171326 L 40.66399382571134,-73.78901518890714 L 40.66230886467904,-73.82108048343278 L 40.65034357145685,-73.82444294504265 z\" /><path fill-rule=\"evenodd\" fill=\"#66cc99\" stroke=\"#555555\" stroke-width=\"0.005637521634698714\" opacity=\"0.6\" d=\"M 40.544722434447046,-73.93797369602206 L 40.555385486761516,-73.90892000797274 L 40.56430266845497,-73.87422295215609 L 40.575826406702106,-73.83815260532381 L 40.58804885372343,-73.7889287054825 L 40.594533991890565,-73.7371298849869 L 40.61069521681332,-73.74365301731112 L 40.613431811532955,-73.76854391696932 L 40.60614795792396,-73.78278036894753 L 40.59782058407185,-73.80319663049605 L 40.584291633723474,-73.83029624343683 L 40.58121867054795,-73.85256645320513 L 40.57262741027578,-73.8694636565261 L 40.567027360883614,-73.8789422264483 L 40.56768636153804,-73.89254066941739 L 40.5643238418201,-73.91088555213356 L 40.5557723879539,-73.93727563494873 L 40.544722434447046,-73.93797369602206 z\" /></g></g></svg>"
      ],
      "text/plain": [
       "<MULTIPOLYGON (((40.7 -73.8, 40.6 -73.8, 40.7 -73.9, 40.7 -73.9, 40.7 -73.9,...>"
      ]
     },
     "execution_count": 8,
     "metadata": {},
     "output_type": "execute_result"
    }
   ],
   "source": [
    "queens_poly"
   ]
  },
  {
   "cell_type": "code",
   "execution_count": 32,
   "id": "c9e46234",
   "metadata": {},
   "outputs": [
    {
     "data": {
      "image/svg+xml": [
       "<svg xmlns=\"http://www.w3.org/2000/svg\" xmlns:xlink=\"http://www.w3.org/1999/xlink\" width=\"100.0\" height=\"100.0\" viewBox=\"40.564326735903904 -74.0493619992742 0.18287206095716613 0.22061920166015625\" preserveAspectRatio=\"xMinYMin meet\"><g transform=\"matrix(1,0,0,-1,0,-147.87810479688824)\"><path fill-rule=\"evenodd\" fill=\"#66cc99\" stroke=\"#555555\" stroke-width=\"0.004412384033203125\" opacity=\"0.6\" d=\"M 40.64127636633028,-74.03672772193043 L 40.665206807122736,-74.00273876929373 L 40.680797672117805,-74.01544171118826 L 40.70471393521108,-73.97527294898123 L 40.7390277153181,-73.95982342505545 L 40.735186589776674,-73.94724922919363 L 40.6803339046364,-73.89347630286306 L 40.69867873585417,-73.86008816504568 L 40.66247233400528,-73.84275036597342 L 40.64733304413664,-73.83691387915701 L 40.648358717407405,-73.86214810156912 L 40.62958477279449,-73.88738232398123 L 40.58263496256981,-73.93373089575856 L 40.57249781744687,-73.97286968970388 L 40.57644203395298,-74.01132183814138 L 40.58023934501919,-73.98883419776053 L 40.592900923152676,-73.99999218726248 L 40.605706721531234,-74.02780133032888 L 40.621148619215376,-74.04119091773123 L 40.64127636633028,-74.03672772193043 z\" /></g></svg>"
      ],
      "text/plain": [
       "<POLYGON ((40.6 -74, 40.7 -74, 40.7 -74, 40.7 -74, 40.7 -74, 40.7 -73.9, 40....>"
      ]
     },
     "execution_count": 32,
     "metadata": {},
     "output_type": "execute_result"
    }
   ],
   "source": [
    "#brooklyn polygon\n",
    "\n",
    "brooklyn_poly = Polygon([\n",
    "(40.64127636633028, -74.03672772193043),\n",
    "(40.665206807122736, -74.00273876929373),\n",
    "(40.680797672117805, -74.01544171118826),\n",
    "(40.70471393521108, -73.97527294898123),\n",
    "(40.7390277153181, -73.95982342505545),\n",
    "(40.735186589776674, -73.94724922919363),\n",
    "(40.6803339046364, -73.89347630286306),\n",
    "(40.69867873585417, -73.86008816504568),\n",
    "(40.66247233400528, -73.84275036597342),\n",
    "(40.64733304413664, -73.83691387915701),\n",
    "(40.648358717407405, -73.86214810156912),\n",
    "(40.62958477279449, -73.88738232398123),\n",
    "(40.58263496256981, -73.93373089575856),\n",
    "(40.57249781744687, -73.97286968970388),\n",
    "(40.57644203395298, -74.01132183814138),\n",
    "(40.58023934501919, -73.98883419776053),\n",
    "(40.592900923152676, -73.99999218726248),\n",
    "(40.605706721531234, -74.02780133032888),\n",
    "(40.621148619215376, -74.04119091773123)\n",
    "])\n",
    "brooklyn_poly\n"
   ]
  },
  {
   "cell_type": "code",
   "execution_count": 10,
   "id": "19908877",
   "metadata": {},
   "outputs": [
    {
     "data": {
      "image/svg+xml": [
       "<svg xmlns=\"http://www.w3.org/2000/svg\" xmlns:xlink=\"http://www.w3.org/1999/xlink\" width=\"100.0\" height=\"100.0\" viewBox=\"40.78942029299575 -73.93784228795009 0.13168168175828043 0.16122761017268772\" preserveAspectRatio=\"xMinYMin meet\"><g transform=\"matrix(1,0,0,-1,0,-147.7144569657275)\"><path fill-rule=\"evenodd\" fill=\"#66cc99\" stroke=\"#555555\" stroke-width=\"0.003224552203453754\" opacity=\"0.6\" d=\"M 40.91513058178467,-73.91080710258225 L 40.88204341007443,-73.79356238212327 L 40.86911004099939,-73.80326625829538 L 40.866041005635,-73.79975220844207 L 40.879800224550394,-73.7901391713327 L 40.87872564414774,-73.7849893300241 L 40.857533615809935,-73.78962418720184 L 40.83737380280887,-73.78258607074676 L 40.84604230007938,-73.79134080097137 L 40.85548869693003,-73.79288575336395 L 40.84857852720188,-73.79863140111765 L 40.8611871348291,-73.80477079953083 L 40.86160613917069,-73.81482876762452 L 40.83584540657383,-73.81573787862449 L 40.813192836740406,-73.80222743396038 L 40.80519634635972,-73.83470298928839 L 40.804794797576385,-73.8522755599053 L 40.81283869275497,-73.87019145327612 L 40.80139286186507,-73.87231449996725 L 40.80592901156586,-73.89864180080876 L 40.79539168596511,-73.91535606454093 L 40.808102661910745,-73.9302451632943 L 40.835595376944696,-73.93187089498073 L 40.872423309741876,-73.90877738838587 L 40.87950439499268,-73.92283341571746 L 40.91513058178467,-73.91080710258225 z\" /></g></svg>"
      ],
      "text/plain": [
       "<POLYGON ((40.9 -73.9, 40.9 -73.8, 40.9 -73.8, 40.9 -73.8, 40.9 -73.8, 40.9 ...>"
      ]
     },
     "execution_count": 10,
     "metadata": {},
     "output_type": "execute_result"
    }
   ],
   "source": [
    "#bronx polygon\n",
    "\n",
    "bronx_poly = Polygon([\n",
    "(40.91513058178467, -73.91080710258225),\n",
    "(40.88204341007443, -73.79356238212327),\n",
    "(40.86911004099939, -73.80326625829538),\n",
    "(40.866041005635, -73.79975220844207),\n",
    "(40.879800224550394, -73.7901391713327),\n",
    "(40.87872564414774, -73.7849893300241),\n",
    "(40.857533615809935, -73.78962418720184),\n",
    "(40.83737380280887, -73.78258607074676),\n",
    "(40.84604230007938, -73.79134080097137),\n",
    "(40.85548869693003, -73.79288575336395),\n",
    "(40.84857852720188, -73.79863140111765),\n",
    "(40.8611871348291, -73.80477079953083),\n",
    "(40.86160613917069, -73.81482876762452),\n",
    "(40.83584540657383, -73.81573787862449),\n",
    "(40.813192836740406, -73.80222743396038),\n",
    "(40.80519634635972, -73.83470298928839),\n",
    "(40.804794797576385, -73.8522755599053),\n",
    "(40.81283869275497, -73.87019145327612),\n",
    "(40.80139286186507, -73.87231449996725),\n",
    "(40.80592901156586, -73.89864180080876),\n",
    "(40.79539168596511, -73.91535606454093),\n",
    "(40.808102661910745, -73.9302451632943),\n",
    "(40.835595376944696, -73.93187089498073),\n",
    "(40.872423309741876, -73.90877738838587),\n",
    "(40.87950439499268, -73.92283341571746)\n",
    "])\n",
    "bronx_poly"
   ]
  },
  {
   "cell_type": "code",
   "execution_count": 11,
   "id": "3758ab91",
   "metadata": {},
   "outputs": [
    {
     "data": {
      "image/svg+xml": [
       "<svg xmlns=\"http://www.w3.org/2000/svg\" xmlns:xlink=\"http://www.w3.org/1999/xlink\" width=\"100.0\" height=\"100.0\" viewBox=\"40.694193147119435 -74.02440214584058 0.187046072118207 0.12067897252299531\" preserveAspectRatio=\"xMinYMin meet\"><g transform=\"matrix(1,0,0,-1,0,-147.92812531915817)\"><path fill-rule=\"evenodd\" fill=\"#66cc99\" stroke=\"#555555\" stroke-width=\"0.00374092144236414\" opacity=\"0.6\" d=\"M 40.70112077942011,-74.01424996444936 L 40.70658644332001,-73.9998304087853 L 40.7110106998642,-73.97614113876577 L 40.7281844393501,-73.9727079112267 L 40.73937100705069,-73.97579781601186 L 40.77629933343638,-73.94283883163686 L 40.7820187880502,-73.94386879989858 L 40.799434093408316,-73.92944924423452 L 40.83499869130992,-73.93549954885219 L 40.8721019057399,-73.91065080561826 L 40.87431158693697,-73.92697195081404 L 40.754526709299185,-74.00696615247419 L 40.72010588058742,-74.01290697851486 L 40.71850336599253,-74.01553406878129 L 40.7090937935794,-74.01747451353991 L 40.70112077942011,-74.01424996444936 z\" /></g></svg>"
      ],
      "text/plain": [
       "<POLYGON ((40.7 -74, 40.7 -74, 40.7 -74, 40.7 -74, 40.7 -74, 40.8 -73.9, 40....>"
      ]
     },
     "execution_count": 11,
     "metadata": {},
     "output_type": "execute_result"
    }
   ],
   "source": [
    "#manhattan polygon\n",
    "manhattan_poly = Polygon([\n",
    "    (40.70112077942011, -74.01424996444936),\n",
    "    (40.70658644332001, -73.9998304087853),\n",
    "    (40.7110106998642, -73.97614113876577),\n",
    "    (40.7281844393501, -73.9727079112267),\n",
    "    (40.73937100705069, -73.97579781601186),\n",
    "    (40.77629933343638, -73.94283883163686),\n",
    "    (40.7820187880502, -73.94386879989858),\n",
    "    (40.799434093408316, -73.92944924423452),\n",
    "    (40.83499869130992, -73.93549954885219),\n",
    "    (40.8721019057399, -73.91065080561826),\n",
    "    (40.87431158693697, -73.92697195081404),\n",
    "    (40.754526709299185, -74.00696615247419),\n",
    "    (40.72010588058742, -74.01290697851486),\n",
    "    (40.71850336599253, -74.01553406878129),\n",
    "    (40.7090937935794, -74.01747451353991),\n",
    "])\n",
    "manhattan_poly"
   ]
  },
  {
   "cell_type": "code",
   "execution_count": 12,
   "id": "8bd2a6c3",
   "metadata": {},
   "outputs": [],
   "source": [
    "# Defining the randomization generator\n",
    "#code adjusted from online source published by Ayush Sethi\n",
    "\n",
    "def polygon_random_points (poly, num_points):\n",
    "    min_x, min_y, max_x, max_y = poly.bounds\n",
    "    points = []\n",
    "    while len(points) < num_points:\n",
    "            random_point = Point([random.uniform(min_x, max_x), random.uniform(min_y, max_y)])\n",
    "            if (random_point.within(poly)):\n",
    "                points.append(random_point)\n",
    "    return points"
   ]
  },
  {
   "cell_type": "code",
   "execution_count": 13,
   "id": "df933d11",
   "metadata": {},
   "outputs": [],
   "source": [
    "# Choose the number of points desired. This method uses 100 points. \n",
    "r_points = polygon_random_points(staten_island_poly, 100)\n",
    "q_points = polygon_random_points(queens_poly, 100)\n",
    "k_points = polygon_random_points(brooklyn_poly, 100)\n",
    "x_points = polygon_random_points(bronx_poly, 100)\n",
    "m_points = polygon_random_points(manhattan_poly, 100)\n"
   ]
  },
  {
   "cell_type": "code",
   "execution_count": 14,
   "id": "756563c1",
   "metadata": {},
   "outputs": [],
   "source": [
    "def random_gdf(points):\n",
    "    random_gdf = gpd.GeoDataFrame(points,\n",
    "                                geometry= points,\n",
    "                                crs= \"EPSG:4326\")\n",
    "    #this step is for mapping later\n",
    "    random_gdf['Latitude'] = random_gdf['geometry'].x\n",
    "    random_gdf['Longitude'] = random_gdf['geometry'].y\n",
    "\n",
    "    #converting to meters\n",
    "    random_gdf = random_gdf.to_crs(3857)\n",
    "    return random_gdf"
   ]
  },
  {
   "cell_type": "code",
   "execution_count": 15,
   "id": "f08bc211",
   "metadata": {},
   "outputs": [],
   "source": [
    "#creating a gdf for each burough\n",
    "r_random_gdf = random_gdf(r_points)\n",
    "q_random_gdf = random_gdf(q_points)\n",
    "k_random_gdf = random_gdf(k_points)\n",
    "x_random_gdf = random_gdf(x_points)\n",
    "m_random_gdf = random_gdf(m_points)"
   ]
  },
  {
   "cell_type": "code",
   "execution_count": 16,
   "id": "bb6a5b7f",
   "metadata": {},
   "outputs": [],
   "source": [
    "#repeating method to get number of crimes within a mile radius of each random point\n",
    "#create empty list to hold the number of crimes commited within a 1 mile radius of each location\n",
    "crimes_per_location = []\n",
    "\n",
    "#NOTE: radius is in meters\n",
    "def crimesper (crimes_gdf, public_gdf, radius):\n",
    "    radius = radius\n",
    "    for offense in crimes_gdf[\"Offense\"]:\n",
    "        crimes_per_location = []\n",
    "        crimes_gdf_each = crimes_gdf[crimes_gdf[\"Offense\"] == offense]\n",
    "\n",
    "        for i in range(len(public_gdf)):\n",
    "\n",
    "            # Calculate the distances between all pairs of points\n",
    "            distances = gpd.GeoSeries(crimes_gdf_each.geometry).distance(public_gdf.geometry.iloc[i])\n",
    "\n",
    "            # Filter the pairs where the distance is within the radius\n",
    "            within_radius = distances <= radius\n",
    "\n",
    "            # Count the number of points within the radius for each point in gdf2\n",
    "            count_within_radius = within_radius.sum()\n",
    "            \n",
    "            crimes_per_location.append(count_within_radius)\n",
    "        public_gdf[offense] = crimes_per_location\n",
    "\n",
    "    #creating a column for the sum amount of offenses\n",
    "    public_gdf[\"Total Crimes\"] = public_gdf[['ROBBERY', 'MURDER & NON-NEGL. MANSLAUGHTER', 'RAPE']].sum(axis=1)"
   ]
  },
  {
   "cell_type": "code",
   "execution_count": 46,
   "id": "38b7dee3",
   "metadata": {},
   "outputs": [
    {
     "data": {
      "text/html": [
       "<div>\n",
       "<style scoped>\n",
       "    .dataframe tbody tr th:only-of-type {\n",
       "        vertical-align: middle;\n",
       "    }\n",
       "\n",
       "    .dataframe tbody tr th {\n",
       "        vertical-align: top;\n",
       "    }\n",
       "\n",
       "    .dataframe thead th {\n",
       "        text-align: right;\n",
       "    }\n",
       "</style>\n",
       "<table border=\"1\" class=\"dataframe\">\n",
       "  <thead>\n",
       "    <tr style=\"text-align: right;\">\n",
       "      <th></th>\n",
       "      <th>OBJECTID</th>\n",
       "      <th>Complaint ID</th>\n",
       "      <th>Offense</th>\n",
       "      <th>Latitude</th>\n",
       "      <th>Longitude</th>\n",
       "      <th>geometry</th>\n",
       "    </tr>\n",
       "  </thead>\n",
       "  <tbody>\n",
       "    <tr>\n",
       "      <th>0</th>\n",
       "      <td>1</td>\n",
       "      <td>261214832</td>\n",
       "      <td>ROBBERY</td>\n",
       "      <td>40.643566</td>\n",
       "      <td>-74.074001</td>\n",
       "      <td>POINT (4524421.071 -12545498.932)</td>\n",
       "    </tr>\n",
       "    <tr>\n",
       "      <th>1</th>\n",
       "      <td>2</td>\n",
       "      <td>261233859</td>\n",
       "      <td>ROBBERY</td>\n",
       "      <td>40.635961</td>\n",
       "      <td>-74.161365</td>\n",
       "      <td>POINT (4523574.486 -12581036.663)</td>\n",
       "    </tr>\n",
       "    <tr>\n",
       "      <th>2</th>\n",
       "      <td>3</td>\n",
       "      <td>261233841</td>\n",
       "      <td>ROBBERY</td>\n",
       "      <td>40.643569</td>\n",
       "      <td>-74.098338</td>\n",
       "      <td>POINT (4524421.405 -12555379.561)</td>\n",
       "    </tr>\n",
       "    <tr>\n",
       "      <th>3</th>\n",
       "      <td>4</td>\n",
       "      <td>261261343</td>\n",
       "      <td>ROBBERY</td>\n",
       "      <td>40.630408</td>\n",
       "      <td>-74.142977</td>\n",
       "      <td>POINT (4522956.329 -12573540.993)</td>\n",
       "    </tr>\n",
       "    <tr>\n",
       "      <th>4</th>\n",
       "      <td>5</td>\n",
       "      <td>261347872</td>\n",
       "      <td>ROBBERY</td>\n",
       "      <td>40.630539</td>\n",
       "      <td>-74.076641</td>\n",
       "      <td>POINT (4522970.912 -12546570.040)</td>\n",
       "    </tr>\n",
       "  </tbody>\n",
       "</table>\n",
       "</div>"
      ],
      "text/plain": [
       "   OBJECTID Complaint ID  Offense   Latitude  Longitude  \\\n",
       "0         1    261214832  ROBBERY  40.643566 -74.074001   \n",
       "1         2    261233859  ROBBERY  40.635961 -74.161365   \n",
       "2         3    261233841  ROBBERY  40.643569 -74.098338   \n",
       "3         4    261261343  ROBBERY  40.630408 -74.142977   \n",
       "4         5    261347872  ROBBERY  40.630539 -74.076641   \n",
       "\n",
       "                            geometry  \n",
       "0  POINT (4524421.071 -12545498.932)  \n",
       "1  POINT (4523574.486 -12581036.663)  \n",
       "2  POINT (4524421.405 -12555379.561)  \n",
       "3  POINT (4522956.329 -12573540.993)  \n",
       "4  POINT (4522970.912 -12546570.040)  "
      ]
     },
     "execution_count": 46,
     "metadata": {},
     "output_type": "execute_result"
    }
   ],
   "source": []
  },
  {
   "cell_type": "code",
   "execution_count": 43,
   "id": "b783d244",
   "metadata": {},
   "outputs": [
    {
     "data": {
      "text/html": [
       "<div>\n",
       "<style scoped>\n",
       "    .dataframe tbody tr th:only-of-type {\n",
       "        vertical-align: middle;\n",
       "    }\n",
       "\n",
       "    .dataframe tbody tr th {\n",
       "        vertical-align: top;\n",
       "    }\n",
       "\n",
       "    .dataframe thead th {\n",
       "        text-align: right;\n",
       "    }\n",
       "</style>\n",
       "<table border=\"1\" class=\"dataframe\">\n",
       "  <thead>\n",
       "    <tr style=\"text-align: right;\">\n",
       "      <th></th>\n",
       "      <th>OBJECTID</th>\n",
       "      <th>Offense</th>\n",
       "      <th>Latitude</th>\n",
       "      <th>Longitude</th>\n",
       "      <th>geometry</th>\n",
       "    </tr>\n",
       "  </thead>\n",
       "  <tbody>\n",
       "    <tr>\n",
       "      <th>0</th>\n",
       "      <td>1</td>\n",
       "      <td>ROBBERY</td>\n",
       "      <td>40.643566</td>\n",
       "      <td>-74.074001</td>\n",
       "      <td>POINT (4524421.071 -12545498.932)</td>\n",
       "    </tr>\n",
       "    <tr>\n",
       "      <th>1</th>\n",
       "      <td>2</td>\n",
       "      <td>ROBBERY</td>\n",
       "      <td>40.635961</td>\n",
       "      <td>-74.161365</td>\n",
       "      <td>POINT (4523574.486 -12581036.663)</td>\n",
       "    </tr>\n",
       "    <tr>\n",
       "      <th>2</th>\n",
       "      <td>3</td>\n",
       "      <td>ROBBERY</td>\n",
       "      <td>40.643569</td>\n",
       "      <td>-74.098338</td>\n",
       "      <td>POINT (4524421.405 -12555379.561)</td>\n",
       "    </tr>\n",
       "    <tr>\n",
       "      <th>3</th>\n",
       "      <td>4</td>\n",
       "      <td>ROBBERY</td>\n",
       "      <td>40.630408</td>\n",
       "      <td>-74.142977</td>\n",
       "      <td>POINT (4522956.329 -12573540.993)</td>\n",
       "    </tr>\n",
       "    <tr>\n",
       "      <th>4</th>\n",
       "      <td>5</td>\n",
       "      <td>ROBBERY</td>\n",
       "      <td>40.630539</td>\n",
       "      <td>-74.076641</td>\n",
       "      <td>POINT (4522970.912 -12546570.040)</td>\n",
       "    </tr>\n",
       "  </tbody>\n",
       "</table>\n",
       "</div>"
      ],
      "text/plain": [
       "   OBJECTID  Offense   Latitude  Longitude                           geometry\n",
       "0         1  ROBBERY  40.643566 -74.074001  POINT (4524421.071 -12545498.932)\n",
       "1         2  ROBBERY  40.635961 -74.161365  POINT (4523574.486 -12581036.663)\n",
       "2         3  ROBBERY  40.643569 -74.098338  POINT (4524421.405 -12555379.561)\n",
       "3         4  ROBBERY  40.630408 -74.142977  POINT (4522956.329 -12573540.993)\n",
       "4         5  ROBBERY  40.630539 -74.076641  POINT (4522970.912 -12546570.040)"
      ]
     },
     "execution_count": 43,
     "metadata": {},
     "output_type": "execute_result"
    }
   ],
   "source": [
    "k_crimes_gdf.head()"
   ]
  },
  {
   "cell_type": "markdown",
   "id": "74daad44",
   "metadata": {},
   "source": [
    "**Warning: Code will take a long time to run**\n",
    "- possibly up to 10 mins"
   ]
  },
  {
   "cell_type": "code",
   "execution_count": 17,
   "id": "155a5586",
   "metadata": {},
   "outputs": [],
   "source": [
    "#crimes near random locations in Staten Island\n",
    "crimesper(r_crimes_gdf, r_random_gdf, 1609)"
   ]
  },
  {
   "cell_type": "code",
   "execution_count": 18,
   "id": "bbc38863",
   "metadata": {},
   "outputs": [],
   "source": [
    "#crimes near random locations in Queens\n",
    "    #NOTE: this took 40 mins to run\n",
    "    # the data is already exported to a csv file so just look at it from there\n",
    "crimesper(q_crimes_gdf, q_random_gdf, 1609)"
   ]
  },
  {
   "cell_type": "code",
   "execution_count": 50,
   "id": "be0a17dd",
   "metadata": {},
   "outputs": [],
   "source": [
    "#crimes near random locations in Brooklyn\n",
    "    #i dont want to talk about how long this took to run\n",
    "crimesper(k_crimes_gdf, k_random_gdf, 1609)"
   ]
  },
  {
   "cell_type": "code",
   "execution_count": 20,
   "id": "3488f617",
   "metadata": {},
   "outputs": [],
   "source": [
    "#crimes near random locations in the Bronx\n",
    "crimesper(x_crimes_gdf, x_random_gdf, 1609)"
   ]
  },
  {
   "cell_type": "code",
   "execution_count": 21,
   "id": "4b954322",
   "metadata": {},
   "outputs": [],
   "source": [
    "#crimes near random locations in Manhattan\n",
    "crimesper(m_crimes_gdf, m_random_gdf, 1609)"
   ]
  },
  {
   "cell_type": "code",
   "execution_count": 51,
   "id": "7b3f97d7",
   "metadata": {},
   "outputs": [],
   "source": [
    "path = \"C:/Users/54qb3/Documents/Project-1/output_data/\"\n",
    "pd.DataFrame(r_random_gdf).to_csv(f\"{path}r_random_gdf.csv\")\n",
    "pd.DataFrame(q_random_gdf).to_csv(f\"{path}q_random_gdf.csv\")\n",
    "pd.DataFrame(k_random_gdf).to_csv(f\"{path}k_random_gdf.csv\")\n",
    "pd.DataFrame(x_random_gdf).to_csv(f\"{path}x_random_gdf.csv\")\n",
    "pd.DataFrame(m_random_gdf).to_csv(f\"{path}m_random_gdf.csv\")"
   ]
  },
  {
   "cell_type": "markdown",
   "id": "7ba6dd10",
   "metadata": {},
   "source": [
    "**Visuals to help conceptualize the data, unofficial**"
   ]
  },
  {
   "cell_type": "code",
   "execution_count": 49,
   "id": "26056d2f",
   "metadata": {},
   "outputs": [
    {
     "data": {},
     "metadata": {},
     "output_type": "display_data"
    },
    {
     "data": {
      "application/vnd.holoviews_exec.v0+json": "",
      "text/html": [
       "<div id='p1387'>\n",
       "  <div id=\"cafb0701-aecf-44da-a34a-c2f71979cb21\" data-root-id=\"p1387\" style=\"display: contents;\"></div>\n",
       "</div>\n",
       "<script type=\"application/javascript\">(function(root) {\n",
       "  var docs_json = {\"9e96552b-10e7-418d-af65-2d1a9acd9b89\":{\"version\":\"3.4.0\",\"title\":\"Bokeh Application\",\"roots\":[{\"type\":\"object\",\"name\":\"Row\",\"id\":\"p1387\",\"attributes\":{\"name\":\"Row02202\",\"tags\":[\"embedded\"],\"stylesheets\":[\"\\n:host(.pn-loading):before, .pn-loading:before {\\n  background-color: #c3c3c3;\\n  mask-size: auto calc(min(50%, 400px));\\n  -webkit-mask-size: auto calc(min(50%, 400px));\\n}\",{\"type\":\"object\",\"name\":\"ImportedStyleSheet\",\"id\":\"p1390\",\"attributes\":{\"url\":\"https://cdn.holoviz.org/panel/1.4.2/dist/css/loading.css\"}},{\"type\":\"object\",\"name\":\"ImportedStyleSheet\",\"id\":\"p1475\",\"attributes\":{\"url\":\"https://cdn.holoviz.org/panel/1.4.2/dist/css/listpanel.css\"}},{\"type\":\"object\",\"name\":\"ImportedStyleSheet\",\"id\":\"p1388\",\"attributes\":{\"url\":\"https://cdn.holoviz.org/panel/1.4.2/dist/bundled/theme/default.css\"}},{\"type\":\"object\",\"name\":\"ImportedStyleSheet\",\"id\":\"p1389\",\"attributes\":{\"url\":\"https://cdn.holoviz.org/panel/1.4.2/dist/bundled/theme/native.css\"}}],\"margin\":0,\"sizing_mode\":\"stretch_width\",\"align\":\"start\",\"children\":[{\"type\":\"object\",\"name\":\"Spacer\",\"id\":\"p1391\",\"attributes\":{\"name\":\"HSpacer02208\",\"stylesheets\":[\"\\n:host(.pn-loading):before, .pn-loading:before {\\n  background-color: #c3c3c3;\\n  mask-size: auto calc(min(50%, 400px));\\n  -webkit-mask-size: auto calc(min(50%, 400px));\\n}\",{\"id\":\"p1390\"},{\"id\":\"p1388\"},{\"id\":\"p1389\"}],\"margin\":0,\"sizing_mode\":\"stretch_width\",\"align\":\"start\"}},{\"type\":\"object\",\"name\":\"Figure\",\"id\":\"p1420\",\"attributes\":{\"width\":null,\"height\":null,\"margin\":[5,10],\"sizing_mode\":\"fixed\",\"align\":\"start\",\"x_range\":{\"type\":\"object\",\"name\":\"Range1d\",\"id\":\"p1401\",\"attributes\":{\"tags\":[[[\"Longitude\",\"Longitude\",null]],[]],\"start\":-8252169.129564622,\"end\":-8211690.899819295,\"reset_start\":-8252169.129564622,\"reset_end\":-8211690.899819295,\"min_interval\":5}},\"y_range\":{\"type\":\"object\",\"name\":\"Range1d\",\"id\":\"p1402\",\"attributes\":{\"tags\":[[[\"Latitude\",\"Latitude\",null]],{\"type\":\"map\",\"entries\":[[\"invert_yaxis\",false],[\"autorange\",false]]}],\"start\":4947112.391272433,\"end\":4976025.412519095,\"reset_start\":4947112.391272433,\"reset_end\":4976025.412519095,\"min_interval\":5}},\"x_scale\":{\"type\":\"object\",\"name\":\"LinearScale\",\"id\":\"p1430\"},\"y_scale\":{\"type\":\"object\",\"name\":\"LinearScale\",\"id\":\"p1431\"},\"title\":{\"type\":\"object\",\"name\":\"Title\",\"id\":\"p1423\",\"attributes\":{\"text_color\":\"black\",\"text_font_size\":\"12pt\"}},\"renderers\":[{\"type\":\"object\",\"name\":\"TileRenderer\",\"id\":\"p1453\",\"attributes\":{\"level\":\"underlay\",\"tile_source\":{\"type\":\"object\",\"name\":\"WMTSTileSource\",\"id\":\"p1449\",\"attributes\":{\"url\":\"https://c.tile.openstreetmap.org/{Z}/{X}/{Y}.png\",\"attribution\":\"&copy; <a href=\\\"https://www.openstreetmap.org/copyright\\\">OpenStreetMap</a> contributors\"}}}},{\"type\":\"object\",\"name\":\"GlyphRenderer\",\"id\":\"p1466\",\"attributes\":{\"data_source\":{\"type\":\"object\",\"name\":\"ColumnDataSource\",\"id\":\"p1457\",\"attributes\":{\"selected\":{\"type\":\"object\",\"name\":\"Selection\",\"id\":\"p1458\",\"attributes\":{\"indices\":[],\"line_indices\":[]}},\"selection_policy\":{\"type\":\"object\",\"name\":\"UnionRenderers\",\"id\":\"p1459\"},\"data\":{\"type\":\"map\",\"entries\":[[\"Longitude\",{\"type\":\"ndarray\",\"array\":{\"type\":\"bytes\",\"data\":\"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\"},\"shape\":[4767],\"dtype\":\"float64\",\"order\":\"little\"}],[\"Latitude\",{\"type\":\"ndarray\",\"array\":{\"type\":\"bytes\",\"data\":\"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\"},\"shape\":[4767],\"dtype\":\"float64\",\"order\":\"little\"}]]}}},\"view\":{\"type\":\"object\",\"name\":\"CDSView\",\"id\":\"p1467\",\"attributes\":{\"filter\":{\"type\":\"object\",\"name\":\"AllIndices\",\"id\":\"p1468\"}}},\"glyph\":{\"type\":\"object\",\"name\":\"Scatter\",\"id\":\"p1463\",\"attributes\":{\"tags\":[\"apply_ranges\"],\"x\":{\"type\":\"field\",\"field\":\"Longitude\"},\"y\":{\"type\":\"field\",\"field\":\"Latitude\"},\"size\":{\"type\":\"value\",\"value\":5.477225575051661},\"line_color\":{\"type\":\"value\",\"value\":\"#30a2da\"},\"line_alpha\":{\"type\":\"value\",\"value\":0.5},\"fill_color\":{\"type\":\"value\",\"value\":\"#30a2da\"},\"fill_alpha\":{\"type\":\"value\",\"value\":0.5},\"hatch_color\":{\"type\":\"value\",\"value\":\"#30a2da\"},\"hatch_alpha\":{\"type\":\"value\",\"value\":0.5}}},\"selection_glyph\":{\"type\":\"object\",\"name\":\"Scatter\",\"id\":\"p1471\",\"attributes\":{\"tags\":[\"apply_ranges\"],\"x\":{\"type\":\"field\",\"field\":\"Longitude\"},\"y\":{\"type\":\"field\",\"field\":\"Latitude\"},\"size\":{\"type\":\"value\",\"value\":5.477225575051661},\"angle\":{\"type\":\"value\",\"value\":0.0},\"line_color\":{\"type\":\"value\",\"value\":\"#30a2da\"},\"line_alpha\":{\"type\":\"value\",\"value\":0.5},\"line_width\":{\"type\":\"value\",\"value\":1},\"line_join\":{\"type\":\"value\",\"value\":\"bevel\"},\"line_cap\":{\"type\":\"value\",\"value\":\"butt\"},\"line_dash\":{\"type\":\"value\",\"value\":[]},\"line_dash_offset\":{\"type\":\"value\",\"value\":0},\"fill_color\":{\"type\":\"value\",\"value\":\"#30a2da\"},\"fill_alpha\":{\"type\":\"value\",\"value\":0.5},\"hatch_color\":{\"type\":\"value\",\"value\":\"#30a2da\"},\"hatch_alpha\":{\"type\":\"value\",\"value\":0.5},\"hatch_scale\":{\"type\":\"value\",\"value\":12.0},\"hatch_pattern\":{\"type\":\"value\",\"value\":null},\"hatch_weight\":{\"type\":\"value\",\"value\":1.0},\"marker\":{\"type\":\"value\",\"value\":\"circle\"}}},\"nonselection_glyph\":{\"type\":\"object\",\"name\":\"Scatter\",\"id\":\"p1464\",\"attributes\":{\"tags\":[\"apply_ranges\"],\"x\":{\"type\":\"field\",\"field\":\"Longitude\"},\"y\":{\"type\":\"field\",\"field\":\"Latitude\"},\"size\":{\"type\":\"value\",\"value\":5.477225575051661},\"line_color\":{\"type\":\"value\",\"value\":\"#30a2da\"},\"line_alpha\":{\"type\":\"value\",\"value\":0.5},\"fill_color\":{\"type\":\"value\",\"value\":\"#30a2da\"},\"fill_alpha\":{\"type\":\"value\",\"value\":0.5},\"hatch_color\":{\"type\":\"value\",\"value\":\"#30a2da\"},\"hatch_alpha\":{\"type\":\"value\",\"value\":0.1}}},\"muted_glyph\":{\"type\":\"object\",\"name\":\"Scatter\",\"id\":\"p1465\",\"attributes\":{\"tags\":[\"apply_ranges\"],\"x\":{\"type\":\"field\",\"field\":\"Longitude\"},\"y\":{\"type\":\"field\",\"field\":\"Latitude\"},\"size\":{\"type\":\"value\",\"value\":5.477225575051661},\"line_color\":{\"type\":\"value\",\"value\":\"#30a2da\"},\"line_alpha\":{\"type\":\"value\",\"value\":0.2},\"fill_color\":{\"type\":\"value\",\"value\":\"#30a2da\"},\"fill_alpha\":{\"type\":\"value\",\"value\":0.2},\"hatch_color\":{\"type\":\"value\",\"value\":\"#30a2da\"},\"hatch_alpha\":{\"type\":\"value\",\"value\":0.2}}}}}],\"toolbar\":{\"type\":\"object\",\"name\":\"Toolbar\",\"id\":\"p1429\",\"attributes\":{\"tools\":[{\"type\":\"object\",\"name\":\"WheelZoomTool\",\"id\":\"p1405\",\"attributes\":{\"renderers\":\"auto\",\"zoom_on_axis\":false}},{\"type\":\"object\",\"name\":\"BoxZoomTool\",\"id\":\"p1406\",\"attributes\":{\"overlay\":{\"type\":\"object\",\"name\":\"BoxAnnotation\",\"id\":\"p1006\",\"attributes\":{\"syncable\":false,\"level\":\"overlay\",\"visible\":false,\"left\":{\"type\":\"number\",\"value\":\"nan\"},\"right\":{\"type\":\"number\",\"value\":\"nan\"},\"top\":{\"type\":\"number\",\"value\":\"nan\"},\"bottom\":{\"type\":\"number\",\"value\":\"nan\"},\"left_units\":\"canvas\",\"right_units\":\"canvas\",\"top_units\":\"canvas\",\"bottom_units\":\"canvas\",\"line_color\":\"black\",\"line_alpha\":1.0,\"line_width\":2,\"line_dash\":[4,4],\"fill_color\":\"lightgrey\",\"fill_alpha\":0.5}},\"match_aspect\":true}},{\"type\":\"object\",\"name\":\"HoverTool\",\"id\":\"p1419\",\"attributes\":{\"tags\":[\"hv_created\"],\"renderers\":[{\"id\":\"p1466\"}],\"tooltips\":[[\"Longitude\",\"$x{custom}\"],[\"Latitude\",\"$y{custom}\"]],\"formatters\":{\"type\":\"map\",\"entries\":[[\"$x\",{\"type\":\"object\",\"name\":\"CustomJSHover\",\"id\":\"p1455\",\"attributes\":{\"code\":\"\\n        const projections = Bokeh.require(\\\"core/util/projections\\\");\\n        const {snap_x, snap_y} = special_vars\\n        const coords = projections.wgs84_mercator.invert(snap_x, snap_y)\\n        return \\\"\\\" + (coords[0]).toFixed(4)\\n    \"}}],[\"$y\",{\"type\":\"object\",\"name\":\"CustomJSHover\",\"id\":\"p1456\",\"attributes\":{\"code\":\"\\n        const projections = Bokeh.require(\\\"core/util/projections\\\");\\n        const {snap_x, snap_y} = special_vars\\n        const coords = projections.wgs84_mercator.invert(snap_x, snap_y)\\n        return \\\"\\\" + (coords[1]).toFixed(4)\\n    \"}}]]}}},{\"type\":\"object\",\"name\":\"PanTool\",\"id\":\"p1443\"},{\"type\":\"object\",\"name\":\"ResetTool\",\"id\":\"p1444\"}],\"active_drag\":{\"id\":\"p1443\"}}},\"left\":[{\"type\":\"object\",\"name\":\"LinearAxis\",\"id\":\"p1437\",\"attributes\":{\"ticker\":{\"type\":\"object\",\"name\":\"MercatorTicker\",\"id\":\"p1447\",\"attributes\":{\"mantissas\":[1,2,5],\"dimension\":\"lat\"}},\"formatter\":{\"type\":\"object\",\"name\":\"MercatorTickFormatter\",\"id\":\"p1448\",\"attributes\":{\"dimension\":\"lat\"}},\"axis_label\":\"Latitude\",\"major_label_policy\":{\"type\":\"object\",\"name\":\"AllLabels\",\"id\":\"p1440\"}}}],\"below\":[{\"type\":\"object\",\"name\":\"LinearAxis\",\"id\":\"p1432\",\"attributes\":{\"ticker\":{\"type\":\"object\",\"name\":\"MercatorTicker\",\"id\":\"p1445\",\"attributes\":{\"mantissas\":[1,2,5],\"dimension\":\"lon\"}},\"formatter\":{\"type\":\"object\",\"name\":\"MercatorTickFormatter\",\"id\":\"p1446\",\"attributes\":{\"dimension\":\"lon\"}},\"axis_label\":\"Longitude\",\"major_label_policy\":{\"type\":\"object\",\"name\":\"AllLabels\",\"id\":\"p1435\"}}}],\"center\":[{\"type\":\"object\",\"name\":\"Grid\",\"id\":\"p1436\",\"attributes\":{\"axis\":{\"id\":\"p1432\"},\"grid_line_color\":null}},{\"type\":\"object\",\"name\":\"Grid\",\"id\":\"p1441\",\"attributes\":{\"dimension\":1,\"axis\":{\"id\":\"p1437\"},\"grid_line_color\":null}}],\"frame_width\":700,\"frame_height\":500,\"min_border_top\":10,\"min_border_bottom\":10,\"min_border_left\":10,\"min_border_right\":10,\"output_backend\":\"webgl\",\"match_aspect\":true}},{\"type\":\"object\",\"name\":\"Spacer\",\"id\":\"p1473\",\"attributes\":{\"name\":\"HSpacer02209\",\"stylesheets\":[\"\\n:host(.pn-loading):before, .pn-loading:before {\\n  background-color: #c3c3c3;\\n  mask-size: auto calc(min(50%, 400px));\\n  -webkit-mask-size: auto calc(min(50%, 400px));\\n}\",{\"id\":\"p1390\"},{\"id\":\"p1388\"},{\"id\":\"p1389\"}],\"margin\":0,\"sizing_mode\":\"stretch_width\",\"align\":\"start\"}}]}}],\"defs\":[{\"type\":\"model\",\"name\":\"ReactiveHTML1\"},{\"type\":\"model\",\"name\":\"FlexBox1\",\"properties\":[{\"name\":\"align_content\",\"kind\":\"Any\",\"default\":\"flex-start\"},{\"name\":\"align_items\",\"kind\":\"Any\",\"default\":\"flex-start\"},{\"name\":\"flex_direction\",\"kind\":\"Any\",\"default\":\"row\"},{\"name\":\"flex_wrap\",\"kind\":\"Any\",\"default\":\"wrap\"},{\"name\":\"gap\",\"kind\":\"Any\",\"default\":\"\"},{\"name\":\"justify_content\",\"kind\":\"Any\",\"default\":\"flex-start\"}]},{\"type\":\"model\",\"name\":\"FloatPanel1\",\"properties\":[{\"name\":\"config\",\"kind\":\"Any\",\"default\":{\"type\":\"map\"}},{\"name\":\"contained\",\"kind\":\"Any\",\"default\":true},{\"name\":\"position\",\"kind\":\"Any\",\"default\":\"right-top\"},{\"name\":\"offsetx\",\"kind\":\"Any\",\"default\":null},{\"name\":\"offsety\",\"kind\":\"Any\",\"default\":null},{\"name\":\"theme\",\"kind\":\"Any\",\"default\":\"primary\"},{\"name\":\"status\",\"kind\":\"Any\",\"default\":\"normalized\"}]},{\"type\":\"model\",\"name\":\"GridStack1\",\"properties\":[{\"name\":\"mode\",\"kind\":\"Any\",\"default\":\"warn\"},{\"name\":\"ncols\",\"kind\":\"Any\",\"default\":null},{\"name\":\"nrows\",\"kind\":\"Any\",\"default\":null},{\"name\":\"allow_resize\",\"kind\":\"Any\",\"default\":true},{\"name\":\"allow_drag\",\"kind\":\"Any\",\"default\":true},{\"name\":\"state\",\"kind\":\"Any\",\"default\":[]}]},{\"type\":\"model\",\"name\":\"drag1\",\"properties\":[{\"name\":\"slider_width\",\"kind\":\"Any\",\"default\":5},{\"name\":\"slider_color\",\"kind\":\"Any\",\"default\":\"black\"},{\"name\":\"value\",\"kind\":\"Any\",\"default\":50}]},{\"type\":\"model\",\"name\":\"click1\",\"properties\":[{\"name\":\"terminal_output\",\"kind\":\"Any\",\"default\":\"\"},{\"name\":\"debug_name\",\"kind\":\"Any\",\"default\":\"\"},{\"name\":\"clears\",\"kind\":\"Any\",\"default\":0}]},{\"type\":\"model\",\"name\":\"FastWrapper1\",\"properties\":[{\"name\":\"object\",\"kind\":\"Any\",\"default\":null},{\"name\":\"style\",\"kind\":\"Any\",\"default\":null}]},{\"type\":\"model\",\"name\":\"NotificationAreaBase1\",\"properties\":[{\"name\":\"js_events\",\"kind\":\"Any\",\"default\":{\"type\":\"map\"}},{\"name\":\"position\",\"kind\":\"Any\",\"default\":\"bottom-right\"},{\"name\":\"_clear\",\"kind\":\"Any\",\"default\":0}]},{\"type\":\"model\",\"name\":\"NotificationArea1\",\"properties\":[{\"name\":\"js_events\",\"kind\":\"Any\",\"default\":{\"type\":\"map\"}},{\"name\":\"notifications\",\"kind\":\"Any\",\"default\":[]},{\"name\":\"position\",\"kind\":\"Any\",\"default\":\"bottom-right\"},{\"name\":\"_clear\",\"kind\":\"Any\",\"default\":0},{\"name\":\"types\",\"kind\":\"Any\",\"default\":[{\"type\":\"map\",\"entries\":[[\"type\",\"warning\"],[\"background\",\"#ffc107\"],[\"icon\",{\"type\":\"map\",\"entries\":[[\"className\",\"fas fa-exclamation-triangle\"],[\"tagName\",\"i\"],[\"color\",\"white\"]]}]]},{\"type\":\"map\",\"entries\":[[\"type\",\"info\"],[\"background\",\"#007bff\"],[\"icon\",{\"type\":\"map\",\"entries\":[[\"className\",\"fas fa-info-circle\"],[\"tagName\",\"i\"],[\"color\",\"white\"]]}]]}]}]},{\"type\":\"model\",\"name\":\"Notification\",\"properties\":[{\"name\":\"background\",\"kind\":\"Any\",\"default\":null},{\"name\":\"duration\",\"kind\":\"Any\",\"default\":3000},{\"name\":\"icon\",\"kind\":\"Any\",\"default\":null},{\"name\":\"message\",\"kind\":\"Any\",\"default\":\"\"},{\"name\":\"notification_type\",\"kind\":\"Any\",\"default\":null},{\"name\":\"_destroyed\",\"kind\":\"Any\",\"default\":false}]},{\"type\":\"model\",\"name\":\"TemplateActions1\",\"properties\":[{\"name\":\"open_modal\",\"kind\":\"Any\",\"default\":0},{\"name\":\"close_modal\",\"kind\":\"Any\",\"default\":0}]},{\"type\":\"model\",\"name\":\"BootstrapTemplateActions1\",\"properties\":[{\"name\":\"open_modal\",\"kind\":\"Any\",\"default\":0},{\"name\":\"close_modal\",\"kind\":\"Any\",\"default\":0}]},{\"type\":\"model\",\"name\":\"TemplateEditor1\",\"properties\":[{\"name\":\"layout\",\"kind\":\"Any\",\"default\":[]}]},{\"type\":\"model\",\"name\":\"MaterialTemplateActions1\",\"properties\":[{\"name\":\"open_modal\",\"kind\":\"Any\",\"default\":0},{\"name\":\"close_modal\",\"kind\":\"Any\",\"default\":0}]},{\"type\":\"model\",\"name\":\"copy_to_clipboard1\",\"properties\":[{\"name\":\"fill\",\"kind\":\"Any\",\"default\":\"none\"},{\"name\":\"value\",\"kind\":\"Any\",\"default\":null}]}]}};\n",
       "  var render_items = [{\"docid\":\"9e96552b-10e7-418d-af65-2d1a9acd9b89\",\"roots\":{\"p1387\":\"cafb0701-aecf-44da-a34a-c2f71979cb21\"},\"root_ids\":[\"p1387\"]}];\n",
       "  var docs = Object.values(docs_json)\n",
       "  if (!docs) {\n",
       "    return\n",
       "  }\n",
       "  const py_version = docs[0].version.replace('rc', '-rc.').replace('.dev', '-dev.')\n",
       "  function embed_document(root) {\n",
       "    var Bokeh = get_bokeh(root)\n",
       "    Bokeh.embed.embed_items_notebook(docs_json, render_items);\n",
       "    for (const render_item of render_items) {\n",
       "      for (const root_id of render_item.root_ids) {\n",
       "\tconst id_el = document.getElementById(root_id)\n",
       "\tif (id_el.children.length && (id_el.children[0].className === 'bk-root')) {\n",
       "\t  const root_el = id_el.children[0]\n",
       "\t  root_el.id = root_el.id + '-rendered'\n",
       "\t}\n",
       "      }\n",
       "    }\n",
       "  }\n",
       "  function get_bokeh(root) {\n",
       "    if (root.Bokeh === undefined) {\n",
       "      return null\n",
       "    } else if (root.Bokeh.version !== py_version) {\n",
       "      if (root.Bokeh.versions === undefined || !root.Bokeh.versions.has(py_version)) {\n",
       "\treturn null\n",
       "      }\n",
       "      return root.Bokeh.versions.get(py_version);\n",
       "    } else if (root.Bokeh.version === py_version) {\n",
       "      return root.Bokeh\n",
       "    }\n",
       "    return null\n",
       "  }\n",
       "  function is_loaded(root) {\n",
       "    var Bokeh = get_bokeh(root)\n",
       "    return (Bokeh != null && Bokeh.Panel !== undefined)\n",
       "  }\n",
       "  if (is_loaded(root)) {\n",
       "    embed_document(root);\n",
       "  } else {\n",
       "    var attempts = 0;\n",
       "    var timer = setInterval(function(root) {\n",
       "      if (is_loaded(root)) {\n",
       "        clearInterval(timer);\n",
       "        embed_document(root);\n",
       "      } else if (document.readyState == \"complete\") {\n",
       "        attempts++;\n",
       "        if (attempts > 200) {\n",
       "          clearInterval(timer);\n",
       "\t  var Bokeh = get_bokeh(root)\n",
       "\t  if (Bokeh == null || Bokeh.Panel == null) {\n",
       "            console.warn(\"Panel: ERROR: Unable to run Panel code because Bokeh or Panel library is missing\");\n",
       "\t  } else {\n",
       "\t    console.warn(\"Panel: WARNING: Attempting to render but not all required libraries could be resolved.\")\n",
       "\t    embed_document(root)\n",
       "\t  }\n",
       "        }\n",
       "      }\n",
       "    }, 25, root)\n",
       "  }\n",
       "})(window);</script>"
      ],
      "text/plain": [
       ":Overlay\n",
       "   .WMTS.I   :WMTS   [Longitude,Latitude]\n",
       "   .Points.I :Points   [Longitude,Latitude]"
      ]
     },
     "execution_count": 49,
     "metadata": {
      "application/vnd.holoviews_exec.v0+json": {
       "id": "p1387"
      }
     },
     "output_type": "execute_result"
    }
   ],
   "source": [
    "k_crimes_map = k_crimes_gdf.hvplot.points(\n",
    "    \"Longitude\",\n",
    "    \"Latitude\",\n",
    "    geo = True,\n",
    "    tiles = \"OSM\",\n",
    "    frame_width = 700,\n",
    "    frame_height = 500,\n",
    "    alpha = 0.5,\n",
    "    #hover_cols = ['ROBBERY', 'MURDER & NON-NEGL. MANSLAUGHTER', 'RAPE', 'Total Crimes']\n",
    ")\n",
    "k_crimes_map"
   ]
  },
  {
   "cell_type": "code",
   "execution_count": 52,
   "id": "ff4f2974",
   "metadata": {},
   "outputs": [
    {
     "data": {},
     "metadata": {},
     "output_type": "display_data"
    },
    {
     "data": {
      "application/vnd.holoviews_exec.v0+json": "",
      "text/html": [
       "<div id='p1479'>\n",
       "  <div id=\"a1c09725-c2d8-4ec0-8daa-9b842d83f927\" data-root-id=\"p1479\" style=\"display: contents;\"></div>\n",
       "</div>\n",
       "<script type=\"application/javascript\">(function(root) {\n",
       "  var docs_json = {\"e7525683-438d-4a94-951b-8d26b8d88733\":{\"version\":\"3.4.0\",\"title\":\"Bokeh Application\",\"roots\":[{\"type\":\"object\",\"name\":\"Row\",\"id\":\"p1479\",\"attributes\":{\"name\":\"Row02326\",\"tags\":[\"embedded\"],\"stylesheets\":[\"\\n:host(.pn-loading):before, .pn-loading:before {\\n  background-color: #c3c3c3;\\n  mask-size: auto calc(min(50%, 400px));\\n  -webkit-mask-size: auto calc(min(50%, 400px));\\n}\",{\"type\":\"object\",\"name\":\"ImportedStyleSheet\",\"id\":\"p1482\",\"attributes\":{\"url\":\"https://cdn.holoviz.org/panel/1.4.2/dist/css/loading.css\"}},{\"type\":\"object\",\"name\":\"ImportedStyleSheet\",\"id\":\"p1567\",\"attributes\":{\"url\":\"https://cdn.holoviz.org/panel/1.4.2/dist/css/listpanel.css\"}},{\"type\":\"object\",\"name\":\"ImportedStyleSheet\",\"id\":\"p1480\",\"attributes\":{\"url\":\"https://cdn.holoviz.org/panel/1.4.2/dist/bundled/theme/default.css\"}},{\"type\":\"object\",\"name\":\"ImportedStyleSheet\",\"id\":\"p1481\",\"attributes\":{\"url\":\"https://cdn.holoviz.org/panel/1.4.2/dist/bundled/theme/native.css\"}}],\"margin\":0,\"sizing_mode\":\"stretch_width\",\"align\":\"start\",\"children\":[{\"type\":\"object\",\"name\":\"Spacer\",\"id\":\"p1483\",\"attributes\":{\"name\":\"HSpacer02332\",\"stylesheets\":[\"\\n:host(.pn-loading):before, .pn-loading:before {\\n  background-color: #c3c3c3;\\n  mask-size: auto calc(min(50%, 400px));\\n  -webkit-mask-size: auto calc(min(50%, 400px));\\n}\",{\"id\":\"p1482\"},{\"id\":\"p1480\"},{\"id\":\"p1481\"}],\"margin\":0,\"sizing_mode\":\"stretch_width\",\"align\":\"start\"}},{\"type\":\"object\",\"name\":\"Figure\",\"id\":\"p1512\",\"attributes\":{\"width\":null,\"height\":null,\"margin\":[5,10],\"sizing_mode\":\"fixed\",\"align\":\"start\",\"x_range\":{\"type\":\"object\",\"name\":\"Range1d\",\"id\":\"p1493\",\"attributes\":{\"tags\":[[[\"Longitude\",\"Longitude\",null]],[]],\"start\":-8247459.33883623,\"end\":-8214612.39558083,\"reset_start\":-8247459.33883623,\"reset_end\":-8214612.39558083,\"min_interval\":5}},\"y_range\":{\"type\":\"object\",\"name\":\"Range1d\",\"id\":\"p1494\",\"attributes\":{\"tags\":[[[\"Latitude\",\"Latitude\",null]],{\"type\":\"map\",\"entries\":[[\"invert_yaxis\",false],[\"autorange\",false]]}],\"start\":4948267.989492041,\"end\":4971730.091817327,\"reset_start\":4948267.989492041,\"reset_end\":4971730.091817327,\"min_interval\":5}},\"x_scale\":{\"type\":\"object\",\"name\":\"LinearScale\",\"id\":\"p1522\"},\"y_scale\":{\"type\":\"object\",\"name\":\"LinearScale\",\"id\":\"p1523\"},\"title\":{\"type\":\"object\",\"name\":\"Title\",\"id\":\"p1515\",\"attributes\":{\"text_color\":\"black\",\"text_font_size\":\"12pt\"}},\"renderers\":[{\"type\":\"object\",\"name\":\"TileRenderer\",\"id\":\"p1545\",\"attributes\":{\"level\":\"underlay\",\"tile_source\":{\"type\":\"object\",\"name\":\"WMTSTileSource\",\"id\":\"p1541\",\"attributes\":{\"url\":\"https://c.tile.openstreetmap.org/{Z}/{X}/{Y}.png\",\"attribution\":\"&copy; <a href=\\\"https://www.openstreetmap.org/copyright\\\">OpenStreetMap</a> contributors\"}}}},{\"type\":\"object\",\"name\":\"GlyphRenderer\",\"id\":\"p1558\",\"attributes\":{\"data_source\":{\"type\":\"object\",\"name\":\"ColumnDataSource\",\"id\":\"p1549\",\"attributes\":{\"selected\":{\"type\":\"object\",\"name\":\"Selection\",\"id\":\"p1550\",\"attributes\":{\"indices\":[],\"line_indices\":[]}},\"selection_policy\":{\"type\":\"object\",\"name\":\"UnionRenderers\",\"id\":\"p1551\"},\"data\":{\"type\":\"map\",\"entries\":[[\"Longitude\",{\"type\":\"ndarray\",\"array\":{\"type\":\"bytes\",\"data\":\"J5HOeR5qX8Hqc2Ob8mVfwY1Uc6m1Z1/B+bNSG19jX8FK7+QpN2dfwY7VdAWuXF/BOxeCBrFsX8GXmjr+D3BfwU1Ybtm8ZV/B3N64efRbX8EMfsGNQmhfwWEa7X61ZV/B9NTxqH1vX8E3we9o/VxfwRAy/kOcY1/B01xO/TNsX8Hjkp3mQ2Ffwd/JYn74a1/BkgNTK0hrX8GeU6LyEWdfwfMu9aDEbF/Bx3M6y+doX8HmMPB0PG1fwXwpeVpfal/BrReXB7VvX8GkPzAD+2hfwbRyb/6paV/B6nGkbYFrX8GOhZydV11fwax5ictjaV/B0eFpz4hhX8Ge5gUr1V5fwTQloxg6aF/B2VFWSmxlX8FHCTX99F5fwcc/BZKncF/BuopFOaxqX8H2TZ07KV5fwbM5IaA8al/B1URRJAxjX8HmDjCIi2VfwbLF4ENIZl/BVBHd8wdnX8HLSsa3/WRfwWuqBVrKZ1/BFOo05htmX8Eq+RoJ3mtfwQdbSC0eZF/By4v2elhoX8E99PRFwW1fwTb4pkaEXV/B1SpH0WpfX8G9EdhQDW5fwRgZ+KsbbV/BNvNTJNheX8GJX8DChV9fwWPEQYMPY1/BM7oMc8hoX8EwYzAaBl1fwcUvDVe5Z1/Bit7UTr1dX8HWx0ljxWtfwSlMQuW6Zl/Byp6WclVhX8GgI4oXGWpfwbA9XTjCaF/BCw9zxvVlX8F9oxe8JWVfwVN4jReMaV/BuL7wFntrX8FOgCI6JWpfwdCtBCNSbF/BKjemoGNhX8GOanzBD2dfwTIOx5XZY1/BtCUra+VpX8E/wCgXlV1fwc5FoqFVX1/BFSgkUJ5dX8EJY4H2nW9fwYg2oW6NaF/BvQfz7j1jX8Fq8OipyWdfwQdfbAdjaF/Bn3D7XJZbX8EfH9zAXWpfwSPJvYC/Y1/BAzbW1R5pX8FeMXyVB2lfwaeQHXQvbV/BG9fSmzRmX8Gu3OvhAGJfwYKWowQkZV/BIkFGKwBnX8E3Y5TydWlfwWo44/AJa1/BC9Yiav9iX8G5jctGHm1fwQtxguIxXV/BOSNj23ppX8E=\"},\"shape\":[100],\"dtype\":\"float64\",\"order\":\"little\"}],[\"Latitude\",{\"type\":\"ndarray\",\"array\":{\"type\":\"bytes\",\"data\":\"XWttS0PiUkHVIAkKKvRSQSrnKMEz4lJB1gMTiPvxUkFFVvgv+/FSQSGcmPN38VJBUGQYqtLsUkFDtOEmBudSQabfg86H6FJBzoHZuRDvUkFTs7kWvPNSQSNRhmHN9FJBJoLzhODoUkEvDgAnkO1SQZLJL+8x71JBtNC1mJrkUkH7hQ2NVO1SQbjGvWPG8FJB+vI/qILqUkFAe65ONOdSQVRsSCnP7VJB67g1vojqUkGrA9LPkO1SQSzOjMDI6FJB/zz1hU7nUkGdlXMglO9SQRKIrDKz4lJB7+m+Eo3xUkHg+Kwkqu5SQS61gTHZ7lJB0z0rNgPuUkGThN5qy+5SQWR+Rhk/41JBI61RzIztUkEknmtLGu5SQUz5AKRM6FJBcygYgJftUkEnQ+89uO9SQe4NEj9F7FJBpgtXSK7xUkFpwjCRfOhSQX0Tekmu5lJBoZIpMcTiUkG4ERDES/VSQYiNnQOu6lJB6zGcdlrjUkFOCxIHQORSQZ7WwwGr51JB1SoTtzjkUkGIJX1OdetSQXTf/Dan71JBQCdIxdzvUkFLrGgpnetSQT01jc6s61JB881zG2frUkED7xoQ3u5SQZxs3G1b5lJBSgLdvTfpUkH5LVFFbu9SQRNuNn8m6lJB2flF/tTsUkHyCUK3bfJSQUh2QRB29FJBCEfBHlzuUkEqDW2BvetSQTx2+iiJ7lJBbCD//OHrUkHaVFyYI+9SQTbTZDsd9VJBBTgAyqDwUkHi1WY62+hSQT6UAKqb71JB/hFQR4TtUkH5Ix0uxuVSQdIsnTH/8FJBQcPAOnfkUkH5afKHhO1SQR4W4ydM71JBIhl76q3tUkER9qPQWOpSQbWCoqAv7lJBME8iq9boUkGMJuUSI+VSQbXwopso5VJBoaMl43DtUkEZnnrMaehSQc9mv4la6VJBI/lYTkXnUkHDCDFDWepSQYuY0Eab6FJB504/P0DoUkEXMWXyeOxSQaPFvAYk9FJBaZS64zryUkFgIfaBR/JSQVLMfsYZ5lJB9wOeLCPvUkFAnB3u/uhSQXZ+gDet7FJBSVi2ubDpUkE=\"},\"shape\":[100],\"dtype\":\"float64\",\"order\":\"little\"}],[\"ROBBERY\",{\"type\":\"ndarray\",\"array\":{\"type\":\"bytes\",\"data\":\"GgAAAHIAAAAXAAAAZQAAAGEAAAAAAAAALQAAAAgAAAALAAAAAAAAACIAAABMAAAAFAAAAAIAAABSAAAAFwAAAE4AAAASAAAABAAAAAUAAAAXAAAAGwAAACAAAAAOAAAACQAAABcAAAAhAAAANwAAABUAAAAOAAAAWAAAAEgAAAAjAAAAPQAAACwAAAACAAAADQAAAGkAAAALAAAAWQAAAA8AAAAKAAAADQAAACgAAAAgAAAAFwAAABoAAAAZAAAAIgAAAEUAAAAgAAAAVgAAADgAAAA/AAAAAQAAAEoAAAACAAAAFQAAAAcAAAAUAAAABgAAACwAAABFAAAAegAAAAoAAAAVAAAAIAAAAGAAAAAEAAAALAAAAAkAAAAMAAAAWAAAAA8AAABeAAAAGgAAAA4AAABRAAAAEgAAAA0AAAAzAAAADwAAACoAAAAfAAAAAAAAABAAAAASAAAACwAAABgAAAAVAAAADAAAACkAAABMAAAAVAAAAEIAAAARAAAAZgAAABwAAAAAAAAADgAAAA==\"},\"shape\":[100],\"dtype\":\"int32\",\"order\":\"little\"}],[\"MURDER_ampersand_NON_hyphen_minus_NEGL_full_stop_MANSLAUGHTER\",{\"type\":\"ndarray\",\"array\":{\"type\":\"bytes\",\"data\":\"AAAAAAUAAAAAAAAAAwAAAAQAAAAAAAAAAAAAAAAAAAAAAAAAAAAAAAEAAAABAAAAAAAAAAAAAAABAAAAAQAAAAUAAAAAAAAAAAAAAAAAAAAAAAAAAAAAAAEAAAABAAAAAAAAAAAAAAAAAAAAAAAAAAIAAAAAAAAABwAAAAAAAAABAAAABQAAAAAAAAABAAAAAAAAAAEAAAAAAAAAAQAAAAAAAAABAAAAAQAAAAEAAAABAAAAAQAAAAAAAAAAAAAAAQAAAAIAAAACAAAAAgAAAAEAAAABAAAAAAAAAAIAAAAAAAAAAAAAAAIAAAAAAAAAAAAAAAAAAAABAAAACAAAAAAAAAABAAAABAAAAAMAAAAAAAAAAAAAAAAAAAAAAAAABwAAAAAAAAACAAAAAAAAAAEAAAACAAAAAQAAAAAAAAABAAAAAAAAAAAAAAABAAAAAAAAAAEAAAABAAAAAAAAAAAAAAABAAAAAAAAAAEAAAADAAAABQAAAAEAAAABAAAAAAAAAAEAAAAAAAAAAQAAAA==\"},\"shape\":[100],\"dtype\":\"int32\",\"order\":\"little\"}],[\"RAPE\",{\"type\":\"ndarray\",\"array\":{\"type\":\"bytes\",\"data\":\"CgAAAAAAAAAAAAAAEAAAAAAAAAAAAAAADAAAAAAAAAAAAAAAAAAAAAkAAAAAAAAAAAAAAAAAAAAAAAAAAAAAAAAAAAAAAAAADgAAAAAAAAAMAAAAAAAAAAAAAAAAAAAAAAAAAAAAAAAKAAAAAAAAAAAAAAAAAAAAAAAAAAAAAAALAAAAAAAAAAAAAAAAAAAAAAAAAAAAAAAAAAAAAAAAAAAAAAAAAAAAAAAAAAAAAAAAAAAAAAAAAAAAAAAAAAAACwAAAAAAAAAAAAAAMQAAAAAAAAAAAAAAAAAAADEAAAAAAAAAAAAAAAAAAAAAAAAAAAAAAAAAAAAAAAAAAAAAAAAAAAAAAAAAAAAAABAAAAAAAAAAAAAAAAAAAAAAAAAAAAAAAAAAAAAAAAAAAAAAAAAAAAAxAAAAAAAAAAAAAAAAAAAAAAAAAAAAAAALAAAAAAAAAAAAAAAAAAAAAAAAAAAAAAAAAAAACwAAABAAAAAAAAAAEAAAAAcAAAAAAAAAHAAAAAAAAAAAAAAAEAAAAA==\"},\"shape\":[100],\"dtype\":\"int32\",\"order\":\"little\"}],[\"Total_Crimes\",{\"type\":\"ndarray\",\"array\":{\"type\":\"bytes\",\"data\":\"JAAAAHcAAAAXAAAAeAAAAGUAAAAAAAAAOQAAAAgAAAALAAAAAAAAACwAAABNAAAAFAAAAAIAAABTAAAAGAAAAFMAAAASAAAAEgAAAAUAAAAjAAAAGwAAACEAAAAPAAAACQAAABcAAAArAAAANwAAABcAAAAOAAAAXwAAAEgAAAAvAAAAQgAAACwAAAADAAAADQAAAGoAAAALAAAAWgAAAA8AAAALAAAADgAAACkAAAAhAAAAGAAAABoAAAAZAAAALgAAAEcAAAAiAAAAiQAAADkAAABAAAAAAQAAAH0AAAACAAAAFQAAAAkAAAAUAAAABgAAACwAAABGAAAAggAAAAoAAAAWAAAAJAAAAHMAAAAEAAAALAAAAAkAAAAMAAAAXwAAAA8AAABgAAAAGgAAAA8AAACEAAAAEwAAAA0AAAA0AAAADwAAACoAAAArAAAAAAAAABEAAAATAAAACwAAABgAAAAWAAAAFwAAADoAAABPAAAAaQAAAEoAAAASAAAAggAAAB0AAAAAAAAAHwAAAA==\"},\"shape\":[100],\"dtype\":\"int32\",\"order\":\"little\"}]]}}},\"view\":{\"type\":\"object\",\"name\":\"CDSView\",\"id\":\"p1559\",\"attributes\":{\"filter\":{\"type\":\"object\",\"name\":\"AllIndices\",\"id\":\"p1560\"}}},\"glyph\":{\"type\":\"object\",\"name\":\"Scatter\",\"id\":\"p1555\",\"attributes\":{\"tags\":[\"apply_ranges\"],\"x\":{\"type\":\"field\",\"field\":\"Longitude\"},\"y\":{\"type\":\"field\",\"field\":\"Latitude\"},\"size\":{\"type\":\"value\",\"value\":5.477225575051661},\"line_color\":{\"type\":\"value\",\"value\":\"#30a2da\"},\"line_alpha\":{\"type\":\"value\",\"value\":0.5},\"fill_color\":{\"type\":\"value\",\"value\":\"#30a2da\"},\"fill_alpha\":{\"type\":\"value\",\"value\":0.5},\"hatch_color\":{\"type\":\"value\",\"value\":\"#30a2da\"},\"hatch_alpha\":{\"type\":\"value\",\"value\":0.5}}},\"selection_glyph\":{\"type\":\"object\",\"name\":\"Scatter\",\"id\":\"p1563\",\"attributes\":{\"tags\":[\"apply_ranges\"],\"x\":{\"type\":\"field\",\"field\":\"Longitude\"},\"y\":{\"type\":\"field\",\"field\":\"Latitude\"},\"size\":{\"type\":\"value\",\"value\":5.477225575051661},\"angle\":{\"type\":\"value\",\"value\":0.0},\"line_color\":{\"type\":\"value\",\"value\":\"#30a2da\"},\"line_alpha\":{\"type\":\"value\",\"value\":0.5},\"line_width\":{\"type\":\"value\",\"value\":1},\"line_join\":{\"type\":\"value\",\"value\":\"bevel\"},\"line_cap\":{\"type\":\"value\",\"value\":\"butt\"},\"line_dash\":{\"type\":\"value\",\"value\":[]},\"line_dash_offset\":{\"type\":\"value\",\"value\":0},\"fill_color\":{\"type\":\"value\",\"value\":\"#30a2da\"},\"fill_alpha\":{\"type\":\"value\",\"value\":0.5},\"hatch_color\":{\"type\":\"value\",\"value\":\"#30a2da\"},\"hatch_alpha\":{\"type\":\"value\",\"value\":0.5},\"hatch_scale\":{\"type\":\"value\",\"value\":12.0},\"hatch_pattern\":{\"type\":\"value\",\"value\":null},\"hatch_weight\":{\"type\":\"value\",\"value\":1.0},\"marker\":{\"type\":\"value\",\"value\":\"circle\"}}},\"nonselection_glyph\":{\"type\":\"object\",\"name\":\"Scatter\",\"id\":\"p1556\",\"attributes\":{\"tags\":[\"apply_ranges\"],\"x\":{\"type\":\"field\",\"field\":\"Longitude\"},\"y\":{\"type\":\"field\",\"field\":\"Latitude\"},\"size\":{\"type\":\"value\",\"value\":5.477225575051661},\"line_color\":{\"type\":\"value\",\"value\":\"#30a2da\"},\"line_alpha\":{\"type\":\"value\",\"value\":0.5},\"fill_color\":{\"type\":\"value\",\"value\":\"#30a2da\"},\"fill_alpha\":{\"type\":\"value\",\"value\":0.5},\"hatch_color\":{\"type\":\"value\",\"value\":\"#30a2da\"},\"hatch_alpha\":{\"type\":\"value\",\"value\":0.1}}},\"muted_glyph\":{\"type\":\"object\",\"name\":\"Scatter\",\"id\":\"p1557\",\"attributes\":{\"tags\":[\"apply_ranges\"],\"x\":{\"type\":\"field\",\"field\":\"Longitude\"},\"y\":{\"type\":\"field\",\"field\":\"Latitude\"},\"size\":{\"type\":\"value\",\"value\":5.477225575051661},\"line_color\":{\"type\":\"value\",\"value\":\"#30a2da\"},\"line_alpha\":{\"type\":\"value\",\"value\":0.2},\"fill_color\":{\"type\":\"value\",\"value\":\"#30a2da\"},\"fill_alpha\":{\"type\":\"value\",\"value\":0.2},\"hatch_color\":{\"type\":\"value\",\"value\":\"#30a2da\"},\"hatch_alpha\":{\"type\":\"value\",\"value\":0.2}}}}}],\"toolbar\":{\"type\":\"object\",\"name\":\"Toolbar\",\"id\":\"p1521\",\"attributes\":{\"tools\":[{\"type\":\"object\",\"name\":\"WheelZoomTool\",\"id\":\"p1497\",\"attributes\":{\"renderers\":\"auto\",\"zoom_on_axis\":false}},{\"type\":\"object\",\"name\":\"BoxZoomTool\",\"id\":\"p1498\",\"attributes\":{\"overlay\":{\"type\":\"object\",\"name\":\"BoxAnnotation\",\"id\":\"p1006\",\"attributes\":{\"syncable\":false,\"level\":\"overlay\",\"visible\":false,\"left\":{\"type\":\"number\",\"value\":\"nan\"},\"right\":{\"type\":\"number\",\"value\":\"nan\"},\"top\":{\"type\":\"number\",\"value\":\"nan\"},\"bottom\":{\"type\":\"number\",\"value\":\"nan\"},\"left_units\":\"canvas\",\"right_units\":\"canvas\",\"top_units\":\"canvas\",\"bottom_units\":\"canvas\",\"line_color\":\"black\",\"line_alpha\":1.0,\"line_width\":2,\"line_dash\":[4,4],\"fill_color\":\"lightgrey\",\"fill_alpha\":0.5}},\"match_aspect\":true}},{\"type\":\"object\",\"name\":\"HoverTool\",\"id\":\"p1511\",\"attributes\":{\"tags\":[\"hv_created\"],\"renderers\":[{\"id\":\"p1558\"}],\"tooltips\":[[\"Longitude\",\"$x{custom}\"],[\"Latitude\",\"$y{custom}\"],[\"ROBBERY\",\"@{ROBBERY}\"],[\"MURDER & NON-NEGL. MANSLAUGHTER\",\"@{MURDER_ampersand_NON_hyphen_minus_NEGL_full_stop_MANSLAUGHTER}\"],[\"RAPE\",\"@{RAPE}\"],[\"Total Crimes\",\"@{Total_Crimes}\"]],\"formatters\":{\"type\":\"map\",\"entries\":[[\"$x\",{\"type\":\"object\",\"name\":\"CustomJSHover\",\"id\":\"p1547\",\"attributes\":{\"code\":\"\\n        const projections = Bokeh.require(\\\"core/util/projections\\\");\\n        const {snap_x, snap_y} = special_vars\\n        const coords = projections.wgs84_mercator.invert(snap_x, snap_y)\\n        return \\\"\\\" + (coords[0]).toFixed(4)\\n    \"}}],[\"$y\",{\"type\":\"object\",\"name\":\"CustomJSHover\",\"id\":\"p1548\",\"attributes\":{\"code\":\"\\n        const projections = Bokeh.require(\\\"core/util/projections\\\");\\n        const {snap_x, snap_y} = special_vars\\n        const coords = projections.wgs84_mercator.invert(snap_x, snap_y)\\n        return \\\"\\\" + (coords[1]).toFixed(4)\\n    \"}}]]}}},{\"type\":\"object\",\"name\":\"PanTool\",\"id\":\"p1535\"},{\"type\":\"object\",\"name\":\"ResetTool\",\"id\":\"p1536\"}],\"active_drag\":{\"id\":\"p1535\"}}},\"left\":[{\"type\":\"object\",\"name\":\"LinearAxis\",\"id\":\"p1529\",\"attributes\":{\"ticker\":{\"type\":\"object\",\"name\":\"MercatorTicker\",\"id\":\"p1539\",\"attributes\":{\"mantissas\":[1,2,5],\"dimension\":\"lat\"}},\"formatter\":{\"type\":\"object\",\"name\":\"MercatorTickFormatter\",\"id\":\"p1540\",\"attributes\":{\"dimension\":\"lat\"}},\"axis_label\":\"Latitude\",\"major_label_policy\":{\"type\":\"object\",\"name\":\"AllLabels\",\"id\":\"p1532\"}}}],\"below\":[{\"type\":\"object\",\"name\":\"LinearAxis\",\"id\":\"p1524\",\"attributes\":{\"ticker\":{\"type\":\"object\",\"name\":\"MercatorTicker\",\"id\":\"p1537\",\"attributes\":{\"mantissas\":[1,2,5],\"dimension\":\"lon\"}},\"formatter\":{\"type\":\"object\",\"name\":\"MercatorTickFormatter\",\"id\":\"p1538\",\"attributes\":{\"dimension\":\"lon\"}},\"axis_label\":\"Longitude\",\"major_label_policy\":{\"type\":\"object\",\"name\":\"AllLabels\",\"id\":\"p1527\"}}}],\"center\":[{\"type\":\"object\",\"name\":\"Grid\",\"id\":\"p1528\",\"attributes\":{\"axis\":{\"id\":\"p1524\"},\"grid_line_color\":null}},{\"type\":\"object\",\"name\":\"Grid\",\"id\":\"p1533\",\"attributes\":{\"dimension\":1,\"axis\":{\"id\":\"p1529\"},\"grid_line_color\":null}}],\"frame_width\":700,\"frame_height\":500,\"min_border_top\":10,\"min_border_bottom\":10,\"min_border_left\":10,\"min_border_right\":10,\"output_backend\":\"webgl\",\"match_aspect\":true}},{\"type\":\"object\",\"name\":\"Spacer\",\"id\":\"p1565\",\"attributes\":{\"name\":\"HSpacer02333\",\"stylesheets\":[\"\\n:host(.pn-loading):before, .pn-loading:before {\\n  background-color: #c3c3c3;\\n  mask-size: auto calc(min(50%, 400px));\\n  -webkit-mask-size: auto calc(min(50%, 400px));\\n}\",{\"id\":\"p1482\"},{\"id\":\"p1480\"},{\"id\":\"p1481\"}],\"margin\":0,\"sizing_mode\":\"stretch_width\",\"align\":\"start\"}}]}}],\"defs\":[{\"type\":\"model\",\"name\":\"ReactiveHTML1\"},{\"type\":\"model\",\"name\":\"FlexBox1\",\"properties\":[{\"name\":\"align_content\",\"kind\":\"Any\",\"default\":\"flex-start\"},{\"name\":\"align_items\",\"kind\":\"Any\",\"default\":\"flex-start\"},{\"name\":\"flex_direction\",\"kind\":\"Any\",\"default\":\"row\"},{\"name\":\"flex_wrap\",\"kind\":\"Any\",\"default\":\"wrap\"},{\"name\":\"gap\",\"kind\":\"Any\",\"default\":\"\"},{\"name\":\"justify_content\",\"kind\":\"Any\",\"default\":\"flex-start\"}]},{\"type\":\"model\",\"name\":\"FloatPanel1\",\"properties\":[{\"name\":\"config\",\"kind\":\"Any\",\"default\":{\"type\":\"map\"}},{\"name\":\"contained\",\"kind\":\"Any\",\"default\":true},{\"name\":\"position\",\"kind\":\"Any\",\"default\":\"right-top\"},{\"name\":\"offsetx\",\"kind\":\"Any\",\"default\":null},{\"name\":\"offsety\",\"kind\":\"Any\",\"default\":null},{\"name\":\"theme\",\"kind\":\"Any\",\"default\":\"primary\"},{\"name\":\"status\",\"kind\":\"Any\",\"default\":\"normalized\"}]},{\"type\":\"model\",\"name\":\"GridStack1\",\"properties\":[{\"name\":\"mode\",\"kind\":\"Any\",\"default\":\"warn\"},{\"name\":\"ncols\",\"kind\":\"Any\",\"default\":null},{\"name\":\"nrows\",\"kind\":\"Any\",\"default\":null},{\"name\":\"allow_resize\",\"kind\":\"Any\",\"default\":true},{\"name\":\"allow_drag\",\"kind\":\"Any\",\"default\":true},{\"name\":\"state\",\"kind\":\"Any\",\"default\":[]}]},{\"type\":\"model\",\"name\":\"drag1\",\"properties\":[{\"name\":\"slider_width\",\"kind\":\"Any\",\"default\":5},{\"name\":\"slider_color\",\"kind\":\"Any\",\"default\":\"black\"},{\"name\":\"value\",\"kind\":\"Any\",\"default\":50}]},{\"type\":\"model\",\"name\":\"click1\",\"properties\":[{\"name\":\"terminal_output\",\"kind\":\"Any\",\"default\":\"\"},{\"name\":\"debug_name\",\"kind\":\"Any\",\"default\":\"\"},{\"name\":\"clears\",\"kind\":\"Any\",\"default\":0}]},{\"type\":\"model\",\"name\":\"FastWrapper1\",\"properties\":[{\"name\":\"object\",\"kind\":\"Any\",\"default\":null},{\"name\":\"style\",\"kind\":\"Any\",\"default\":null}]},{\"type\":\"model\",\"name\":\"NotificationAreaBase1\",\"properties\":[{\"name\":\"js_events\",\"kind\":\"Any\",\"default\":{\"type\":\"map\"}},{\"name\":\"position\",\"kind\":\"Any\",\"default\":\"bottom-right\"},{\"name\":\"_clear\",\"kind\":\"Any\",\"default\":0}]},{\"type\":\"model\",\"name\":\"NotificationArea1\",\"properties\":[{\"name\":\"js_events\",\"kind\":\"Any\",\"default\":{\"type\":\"map\"}},{\"name\":\"notifications\",\"kind\":\"Any\",\"default\":[]},{\"name\":\"position\",\"kind\":\"Any\",\"default\":\"bottom-right\"},{\"name\":\"_clear\",\"kind\":\"Any\",\"default\":0},{\"name\":\"types\",\"kind\":\"Any\",\"default\":[{\"type\":\"map\",\"entries\":[[\"type\",\"warning\"],[\"background\",\"#ffc107\"],[\"icon\",{\"type\":\"map\",\"entries\":[[\"className\",\"fas fa-exclamation-triangle\"],[\"tagName\",\"i\"],[\"color\",\"white\"]]}]]},{\"type\":\"map\",\"entries\":[[\"type\",\"info\"],[\"background\",\"#007bff\"],[\"icon\",{\"type\":\"map\",\"entries\":[[\"className\",\"fas fa-info-circle\"],[\"tagName\",\"i\"],[\"color\",\"white\"]]}]]}]}]},{\"type\":\"model\",\"name\":\"Notification\",\"properties\":[{\"name\":\"background\",\"kind\":\"Any\",\"default\":null},{\"name\":\"duration\",\"kind\":\"Any\",\"default\":3000},{\"name\":\"icon\",\"kind\":\"Any\",\"default\":null},{\"name\":\"message\",\"kind\":\"Any\",\"default\":\"\"},{\"name\":\"notification_type\",\"kind\":\"Any\",\"default\":null},{\"name\":\"_destroyed\",\"kind\":\"Any\",\"default\":false}]},{\"type\":\"model\",\"name\":\"TemplateActions1\",\"properties\":[{\"name\":\"open_modal\",\"kind\":\"Any\",\"default\":0},{\"name\":\"close_modal\",\"kind\":\"Any\",\"default\":0}]},{\"type\":\"model\",\"name\":\"BootstrapTemplateActions1\",\"properties\":[{\"name\":\"open_modal\",\"kind\":\"Any\",\"default\":0},{\"name\":\"close_modal\",\"kind\":\"Any\",\"default\":0}]},{\"type\":\"model\",\"name\":\"TemplateEditor1\",\"properties\":[{\"name\":\"layout\",\"kind\":\"Any\",\"default\":[]}]},{\"type\":\"model\",\"name\":\"MaterialTemplateActions1\",\"properties\":[{\"name\":\"open_modal\",\"kind\":\"Any\",\"default\":0},{\"name\":\"close_modal\",\"kind\":\"Any\",\"default\":0}]},{\"type\":\"model\",\"name\":\"copy_to_clipboard1\",\"properties\":[{\"name\":\"fill\",\"kind\":\"Any\",\"default\":\"none\"},{\"name\":\"value\",\"kind\":\"Any\",\"default\":null}]}]}};\n",
       "  var render_items = [{\"docid\":\"e7525683-438d-4a94-951b-8d26b8d88733\",\"roots\":{\"p1479\":\"a1c09725-c2d8-4ec0-8daa-9b842d83f927\"},\"root_ids\":[\"p1479\"]}];\n",
       "  var docs = Object.values(docs_json)\n",
       "  if (!docs) {\n",
       "    return\n",
       "  }\n",
       "  const py_version = docs[0].version.replace('rc', '-rc.').replace('.dev', '-dev.')\n",
       "  function embed_document(root) {\n",
       "    var Bokeh = get_bokeh(root)\n",
       "    Bokeh.embed.embed_items_notebook(docs_json, render_items);\n",
       "    for (const render_item of render_items) {\n",
       "      for (const root_id of render_item.root_ids) {\n",
       "\tconst id_el = document.getElementById(root_id)\n",
       "\tif (id_el.children.length && (id_el.children[0].className === 'bk-root')) {\n",
       "\t  const root_el = id_el.children[0]\n",
       "\t  root_el.id = root_el.id + '-rendered'\n",
       "\t}\n",
       "      }\n",
       "    }\n",
       "  }\n",
       "  function get_bokeh(root) {\n",
       "    if (root.Bokeh === undefined) {\n",
       "      return null\n",
       "    } else if (root.Bokeh.version !== py_version) {\n",
       "      if (root.Bokeh.versions === undefined || !root.Bokeh.versions.has(py_version)) {\n",
       "\treturn null\n",
       "      }\n",
       "      return root.Bokeh.versions.get(py_version);\n",
       "    } else if (root.Bokeh.version === py_version) {\n",
       "      return root.Bokeh\n",
       "    }\n",
       "    return null\n",
       "  }\n",
       "  function is_loaded(root) {\n",
       "    var Bokeh = get_bokeh(root)\n",
       "    return (Bokeh != null && Bokeh.Panel !== undefined)\n",
       "  }\n",
       "  if (is_loaded(root)) {\n",
       "    embed_document(root);\n",
       "  } else {\n",
       "    var attempts = 0;\n",
       "    var timer = setInterval(function(root) {\n",
       "      if (is_loaded(root)) {\n",
       "        clearInterval(timer);\n",
       "        embed_document(root);\n",
       "      } else if (document.readyState == \"complete\") {\n",
       "        attempts++;\n",
       "        if (attempts > 200) {\n",
       "          clearInterval(timer);\n",
       "\t  var Bokeh = get_bokeh(root)\n",
       "\t  if (Bokeh == null || Bokeh.Panel == null) {\n",
       "            console.warn(\"Panel: ERROR: Unable to run Panel code because Bokeh or Panel library is missing\");\n",
       "\t  } else {\n",
       "\t    console.warn(\"Panel: WARNING: Attempting to render but not all required libraries could be resolved.\")\n",
       "\t    embed_document(root)\n",
       "\t  }\n",
       "        }\n",
       "      }\n",
       "    }, 25, root)\n",
       "  }\n",
       "})(window);</script>"
      ],
      "text/plain": [
       ":Overlay\n",
       "   .WMTS.I   :WMTS   [Longitude,Latitude]\n",
       "   .Points.I :Points   [Longitude,Latitude]   (ROBBERY,MURDER & NON-NEGL. MANSLAUGHTER,RAPE,Total Crimes)"
      ]
     },
     "execution_count": 52,
     "metadata": {
      "application/vnd.holoviews_exec.v0+json": {
       "id": "p1479"
      }
     },
     "output_type": "execute_result"
    }
   ],
   "source": [
    "k_random_map = k_random_gdf.hvplot.points(\n",
    "    \"Longitude\",\n",
    "    \"Latitude\",\n",
    "    geo = True,\n",
    "    tiles = \"OSM\",\n",
    "    frame_width = 700,\n",
    "    frame_height = 500,\n",
    "    alpha = 0.5,\n",
    "    hover_cols = ['ROBBERY', 'MURDER & NON-NEGL. MANSLAUGHTER', 'RAPE', 'Total Crimes']\n",
    ")\n",
    "k_random_map"
   ]
  },
  {
   "cell_type": "code",
   "execution_count": 35,
   "id": "83669dc7",
   "metadata": {},
   "outputs": [
    {
     "data": {
      "text/html": [
       "<div>\n",
       "<style scoped>\n",
       "    .dataframe tbody tr th:only-of-type {\n",
       "        vertical-align: middle;\n",
       "    }\n",
       "\n",
       "    .dataframe tbody tr th {\n",
       "        vertical-align: top;\n",
       "    }\n",
       "\n",
       "    .dataframe thead th {\n",
       "        text-align: right;\n",
       "    }\n",
       "</style>\n",
       "<table border=\"1\" class=\"dataframe\">\n",
       "  <thead>\n",
       "    <tr style=\"text-align: right;\">\n",
       "      <th></th>\n",
       "      <th>0</th>\n",
       "      <th>geometry</th>\n",
       "      <th>Latitude</th>\n",
       "      <th>Longitude</th>\n",
       "      <th>ROBBERY</th>\n",
       "      <th>MURDER &amp; NON-NEGL. MANSLAUGHTER</th>\n",
       "      <th>RAPE</th>\n",
       "      <th>Total Crimes</th>\n",
       "    </tr>\n",
       "  </thead>\n",
       "  <tbody>\n",
       "    <tr>\n",
       "      <th>95</th>\n",
       "      <td>POINT (40.60474369413559 -73.98589146588209)</td>\n",
       "      <td>POINT (4520099.392 -12509849.755)</td>\n",
       "      <td>40.604744</td>\n",
       "      <td>-73.985891</td>\n",
       "      <td>0</td>\n",
       "      <td>0</td>\n",
       "      <td>0</td>\n",
       "      <td>0</td>\n",
       "    </tr>\n",
       "    <tr>\n",
       "      <th>96</th>\n",
       "      <td>POINT (40.66782495435683 -73.91192323773511)</td>\n",
       "      <td>POINT (4527121.566 -12480069.337)</td>\n",
       "      <td>40.667825</td>\n",
       "      <td>-73.911923</td>\n",
       "      <td>0</td>\n",
       "      <td>0</td>\n",
       "      <td>0</td>\n",
       "      <td>0</td>\n",
       "    </tr>\n",
       "    <tr>\n",
       "      <th>97</th>\n",
       "      <td>POINT (40.62495983039095 -74.00501967326358)</td>\n",
       "      <td>POINT (4522349.842 -12517572.778)</td>\n",
       "      <td>40.624960</td>\n",
       "      <td>-74.005020</td>\n",
       "      <td>0</td>\n",
       "      <td>0</td>\n",
       "      <td>0</td>\n",
       "      <td>0</td>\n",
       "    </tr>\n",
       "    <tr>\n",
       "      <th>98</th>\n",
       "      <td>POINT (40.65065331578029 -73.85854427307797)</td>\n",
       "      <td>POINT (4525210.028 -12458661.078)</td>\n",
       "      <td>40.650653</td>\n",
       "      <td>-73.858544</td>\n",
       "      <td>0</td>\n",
       "      <td>0</td>\n",
       "      <td>0</td>\n",
       "      <td>0</td>\n",
       "    </tr>\n",
       "    <tr>\n",
       "      <th>99</th>\n",
       "      <td>POINT (40.62980856092299 -73.97155133612425)</td>\n",
       "      <td>POINT (4522889.600 -12504065.810)</td>\n",
       "      <td>40.629809</td>\n",
       "      <td>-73.971551</td>\n",
       "      <td>0</td>\n",
       "      <td>0</td>\n",
       "      <td>0</td>\n",
       "      <td>0</td>\n",
       "    </tr>\n",
       "  </tbody>\n",
       "</table>\n",
       "</div>"
      ],
      "text/plain": [
       "                                               0  \\\n",
       "95  POINT (40.60474369413559 -73.98589146588209)   \n",
       "96  POINT (40.66782495435683 -73.91192323773511)   \n",
       "97  POINT (40.62495983039095 -74.00501967326358)   \n",
       "98  POINT (40.65065331578029 -73.85854427307797)   \n",
       "99  POINT (40.62980856092299 -73.97155133612425)   \n",
       "\n",
       "                             geometry   Latitude  Longitude  ROBBERY  \\\n",
       "95  POINT (4520099.392 -12509849.755)  40.604744 -73.985891        0   \n",
       "96  POINT (4527121.566 -12480069.337)  40.667825 -73.911923        0   \n",
       "97  POINT (4522349.842 -12517572.778)  40.624960 -74.005020        0   \n",
       "98  POINT (4525210.028 -12458661.078)  40.650653 -73.858544        0   \n",
       "99  POINT (4522889.600 -12504065.810)  40.629809 -73.971551        0   \n",
       "\n",
       "    MURDER & NON-NEGL. MANSLAUGHTER  RAPE  Total Crimes  \n",
       "95                                0     0             0  \n",
       "96                                0     0             0  \n",
       "97                                0     0             0  \n",
       "98                                0     0             0  \n",
       "99                                0     0             0  "
      ]
     },
     "execution_count": 35,
     "metadata": {},
     "output_type": "execute_result"
    }
   ],
   "source": [
    "k_random_gdf.tail()"
   ]
  },
  {
   "cell_type": "code",
   "execution_count": 34,
   "id": "cee8be27",
   "metadata": {},
   "outputs": [
    {
     "data": {
      "text/html": [
       "<div>\n",
       "<style scoped>\n",
       "    .dataframe tbody tr th:only-of-type {\n",
       "        vertical-align: middle;\n",
       "    }\n",
       "\n",
       "    .dataframe tbody tr th {\n",
       "        vertical-align: top;\n",
       "    }\n",
       "\n",
       "    .dataframe thead th {\n",
       "        text-align: right;\n",
       "    }\n",
       "</style>\n",
       "<table border=\"1\" class=\"dataframe\">\n",
       "  <thead>\n",
       "    <tr style=\"text-align: right;\">\n",
       "      <th></th>\n",
       "      <th>0</th>\n",
       "      <th>geometry</th>\n",
       "      <th>Latitude</th>\n",
       "      <th>Longitude</th>\n",
       "      <th>ROBBERY</th>\n",
       "      <th>MURDER &amp; NON-NEGL. MANSLAUGHTER</th>\n",
       "      <th>RAPE</th>\n",
       "      <th>Total Crimes</th>\n",
       "    </tr>\n",
       "  </thead>\n",
       "  <tbody>\n",
       "    <tr>\n",
       "      <th>95</th>\n",
       "      <td>POINT (40.64010831469341 -74.08389195960821)</td>\n",
       "      <td>POINT (4524036.163 -12549512.808)</td>\n",
       "      <td>40.640108</td>\n",
       "      <td>-74.083892</td>\n",
       "      <td>26</td>\n",
       "      <td>0</td>\n",
       "      <td>0</td>\n",
       "      <td>26</td>\n",
       "    </tr>\n",
       "    <tr>\n",
       "      <th>96</th>\n",
       "      <td>POINT (40.52965352963101 -74.16480765953125)</td>\n",
       "      <td>POINT (4511740.393 -12582440.968)</td>\n",
       "      <td>40.529654</td>\n",
       "      <td>-74.164808</td>\n",
       "      <td>1</td>\n",
       "      <td>0</td>\n",
       "      <td>0</td>\n",
       "      <td>1</td>\n",
       "    </tr>\n",
       "    <tr>\n",
       "      <th>97</th>\n",
       "      <td>POINT (40.55062251058078 -74.20358195316417)</td>\n",
       "      <td>POINT (4514074.649 -12598278.082)</td>\n",
       "      <td>40.550623</td>\n",
       "      <td>-74.203582</td>\n",
       "      <td>1</td>\n",
       "      <td>0</td>\n",
       "      <td>0</td>\n",
       "      <td>1</td>\n",
       "    </tr>\n",
       "    <tr>\n",
       "      <th>98</th>\n",
       "      <td>POINT (40.62745330112673 -74.1731098166578)</td>\n",
       "      <td>POINT (4522627.414 -12585828.750)</td>\n",
       "      <td>40.627453</td>\n",
       "      <td>-74.173110</td>\n",
       "      <td>7</td>\n",
       "      <td>1</td>\n",
       "      <td>0</td>\n",
       "      <td>8</td>\n",
       "    </tr>\n",
       "    <tr>\n",
       "      <th>99</th>\n",
       "      <td>POINT (40.60826445067599 -74.16067278786251)</td>\n",
       "      <td>POINT (4520491.321 -12580754.337)</td>\n",
       "      <td>40.608264</td>\n",
       "      <td>-74.160673</td>\n",
       "      <td>1</td>\n",
       "      <td>0</td>\n",
       "      <td>0</td>\n",
       "      <td>1</td>\n",
       "    </tr>\n",
       "  </tbody>\n",
       "</table>\n",
       "</div>"
      ],
      "text/plain": [
       "                                               0  \\\n",
       "95  POINT (40.64010831469341 -74.08389195960821)   \n",
       "96  POINT (40.52965352963101 -74.16480765953125)   \n",
       "97  POINT (40.55062251058078 -74.20358195316417)   \n",
       "98   POINT (40.62745330112673 -74.1731098166578)   \n",
       "99  POINT (40.60826445067599 -74.16067278786251)   \n",
       "\n",
       "                             geometry   Latitude  Longitude  ROBBERY  \\\n",
       "95  POINT (4524036.163 -12549512.808)  40.640108 -74.083892       26   \n",
       "96  POINT (4511740.393 -12582440.968)  40.529654 -74.164808        1   \n",
       "97  POINT (4514074.649 -12598278.082)  40.550623 -74.203582        1   \n",
       "98  POINT (4522627.414 -12585828.750)  40.627453 -74.173110        7   \n",
       "99  POINT (4520491.321 -12580754.337)  40.608264 -74.160673        1   \n",
       "\n",
       "    MURDER & NON-NEGL. MANSLAUGHTER  RAPE  Total Crimes  \n",
       "95                                0     0            26  \n",
       "96                                0     0             1  \n",
       "97                                0     0             1  \n",
       "98                                1     0             8  \n",
       "99                                0     0             1  "
      ]
     },
     "execution_count": 34,
     "metadata": {},
     "output_type": "execute_result"
    }
   ],
   "source": [
    "r_random_gdf.tail()"
   ]
  }
 ],
 "metadata": {
  "kernelspec": {
   "display_name": "Python 3 (ipykernel)",
   "language": "python",
   "name": "python3"
  },
  "language_info": {
   "codemirror_mode": {
    "name": "ipython",
    "version": 3
   },
   "file_extension": ".py",
   "mimetype": "text/x-python",
   "name": "python",
   "nbconvert_exporter": "python",
   "pygments_lexer": "ipython3",
   "version": "3.10.14"
  }
 },
 "nbformat": 4,
 "nbformat_minor": 5
}
