{
 "cells": [
  {
   "cell_type": "code",
   "execution_count": 1,
   "id": "ae3c0ec6-3f85-460e-96f3-07027856bd0c",
   "metadata": {},
   "outputs": [],
   "source": [
    "#importing libraries\n",
    "import pandas as pd\n",
    "# import numpy as np\n",
    "# import matplotlib.pyplot as plt\n",
    "import geopandas as gpd\n",
    "from shapely.geometry import Point, Polygon, MultiPolygon\n",
    "# import hvplot.pandas\n",
    "import scipy.stats as stats\n",
    "# import random"
   ]
  },
  {
   "cell_type": "code",
   "execution_count": 2,
   "id": "d3be8545",
   "metadata": {},
   "outputs": [],
   "source": [
    "def read_gpd(path):\n",
    "    gdf = pd.read_csv(path)\n",
    "    gdf[\"geometry\"] = gpd.GeoSeries.from_wkt(gdf[\"geometry\"])\n",
    "    gdf = gpd.GeoDataFrame(gdf, geometry=\"geometry\")\n",
    "    return gdf"
   ]
  },
  {
   "cell_type": "code",
   "execution_count": 3,
   "id": "76df5065",
   "metadata": {},
   "outputs": [],
   "source": [
    "#importing data from previous chunk of code\n",
    "reduced_r_public_gdf = read_gpd(\"output_data/reduced_r_public_gdf.csv\")\n",
    "reduced_q_public_gdf = read_gpd(\"output_data/reduced_r_public_gdf.csv\")\n",
    "reduced_k_public_gdf = read_gpd(\"output_data/reduced_r_public_gdf.csv\")\n",
    "reduced_x_public_gdf = read_gpd(\"output_data/reduced_r_public_gdf.csv\")\n",
    "reduced_m_public_gdf = read_gpd(\"output_data/reduced_r_public_gdf.csv\")\n",
    "\n",
    "r_crimes_gdf = read_gpd(\"output_data/r_crimes_gdf.csv\")\n",
    "q_crimes_gdf = read_gpd(\"output_data/q_crimes_gdf.csv\")\n",
    "k_crimes_gdf = read_gpd(\"output_data/k_crimes_gdf.csv\")\n",
    "x_crimes_gdf = read_gpd(\"output_data/x_crimes_gdf.csv\")\n",
    "m_crimes_gdf = read_gpd(\"output_data/m_crimes_gdf.csv\")\n",
    "\n",
    "r_random_gdf = read_gpd(\"output_data/r_random_gdf.csv\")\n",
    "q_random_gdf = read_gpd(\"output_data/q_random_gdf.csv\")\n",
    "k_random_gdf = read_gpd(\"output_data/k_random_gdf.csv\")\n",
    "x_random_gdf = read_gpd(\"output_data/x_random_gdf.csv\")\n",
    "m_random_gdf = read_gpd(\"output_data/m_random_gdf.csv\")"
   ]
  },
  {
   "cell_type": "markdown",
   "id": "db33fb41",
   "metadata": {},
   "source": [
    "**Is There A Signficant Difference in the Amount of Crime Commited by a Public Institution vs Not?**\n",
    "- Null Hypothesis: there is no difference between the rate of crime by a public institution vs not near a public institution\n",
    "- Alternate Hypothesis: if within a 1 mile radius of a public institution, then there is a lower rate of crime\n",
    "\n",
    "- What am I comparing?\n",
    "    - the true mean of crime committed within a mile of a public library and park respectively\n",
    "    - the true mean of crime committed within a mile radius anywhere in Staten Island\n"
   ]
  },
  {
   "cell_type": "code",
   "execution_count": 26,
   "id": "de2d32c6",
   "metadata": {},
   "outputs": [],
   "source": [
    "#Significance Tests\n",
    "    #this won't be the same in the other boroughs because their sample sizes will be above 30, but because the sample size in staten island is <30 we will be using a t-test\n",
    "def ttests(df, df2):\n",
    "    for crime in df[[\"ROBBERY\", \"RAPE\", \"MURDER & NON-NEGL. MANSLAUGHTER\", \"Total Crimes\"]].columns:\n",
    "        try:\n",
    "            print(f\"{crime}\")\n",
    "            print(f\"Two-Sided:  {stats.ttest_ind(df[crime], df2[crime], equal_var=False)}\")\n",
    "            print(f\"Less:       {stats.ttest_ind(df[crime], df2[crime], equal_var=False, alternative='less')}\")\n",
    "            print(f\"Greater:    {stats.ttest_ind(df[crime], df2[crime], equal_var=False,alternative = 'greater')}\")\n",
    "            print(f\"-------------------------------------------------------------------------------------------\")\n",
    "        except:\n",
    "            print(\"NA\")\n",
    "\n",
    "#dividing public areas into libraries and other. not doing malls bc there is only one data point for that\n",
    "def bypublicarea(df):\n",
    "    libraries = df[df[\"Public Area\"] == \"PUBLIC LIBRARIES\"]\n",
    "    parks = df[df[\"Public Area\"] == \"Parks and Other Outdoor Areas\"]\n",
    "    return libraries, parks\n",
    "\n"
   ]
  },
  {
   "cell_type": "markdown",
   "id": "7a115eee",
   "metadata": {},
   "source": [
    "**Significance Tests for Staten Island**"
   ]
  },
  {
   "cell_type": "code",
   "execution_count": 27,
   "id": "edd25b90",
   "metadata": {},
   "outputs": [
    {
     "name": "stdout",
     "output_type": "stream",
     "text": [
      "ROBBERY\n",
      "Two-Sided:  TtestResult(statistic=1.3922461338044043, pvalue=0.17435677238612948, df=29.21216333892623)\n",
      "Less:       TtestResult(statistic=1.3922461338044043, pvalue=0.9128216138069353, df=29.21216333892623)\n",
      "Greater:    TtestResult(statistic=1.3922461338044043, pvalue=0.08717838619306474, df=29.21216333892623)\n",
      "-------------------------------------------------------------------------------------------\n",
      "RAPE\n",
      "Two-Sided:  TtestResult(statistic=0.2498381984390514, pvalue=0.8044992504470255, df=28.585056112825352)\n",
      "Less:       TtestResult(statistic=0.2498381984390514, pvalue=0.5977503747764872, df=28.585056112825352)\n",
      "Greater:    TtestResult(statistic=0.2498381984390514, pvalue=0.40224962522351276, df=28.585056112825352)\n",
      "-------------------------------------------------------------------------------------------\n",
      "MURDER & NON-NEGL. MANSLAUGHTER\n",
      "Two-Sided:  TtestResult(statistic=0.3674811118155598, pvalue=0.7149322158251639, df=46.36838295176494)\n",
      "Less:       TtestResult(statistic=0.3674811118155598, pvalue=0.642533892087418, df=46.36838295176494)\n",
      "Greater:    TtestResult(statistic=0.3674811118155598, pvalue=0.35746610791258193, df=46.36838295176494)\n",
      "-------------------------------------------------------------------------------------------\n",
      "Total Crimes\n",
      "Two-Sided:  TtestResult(statistic=1.1943307140128763, pvalue=0.24204210398993248, df=28.952063678805406)\n",
      "Less:       TtestResult(statistic=1.1943307140128763, pvalue=0.8789789480050337, df=28.952063678805406)\n",
      "Greater:    TtestResult(statistic=1.1943307140128763, pvalue=0.12102105199496624, df=28.952063678805406)\n",
      "-------------------------------------------------------------------------------------------\n"
     ]
    }
   ],
   "source": [
    "ttests(reduced_r_public_gdf, r_random_gdf)"
   ]
  },
  {
   "cell_type": "code",
   "execution_count": 28,
   "id": "1166f411",
   "metadata": {},
   "outputs": [
    {
     "name": "stdout",
     "output_type": "stream",
     "text": [
      "ROBBERY\n",
      "Two-Sided:  TtestResult(statistic=-1.3083267938159422, pvalue=0.2255014978815159, df=8.381138313656685)\n",
      "Less:       TtestResult(statistic=-1.3083267938159422, pvalue=0.11275074894075796, df=8.381138313656685)\n",
      "Greater:    TtestResult(statistic=-1.3083267938159422, pvalue=0.887249251059242, df=8.381138313656685)\n",
      "-------------------------------------------------------------------------------------------\n",
      "RAPE\n",
      "Two-Sided:  TtestResult(statistic=-2.1555803125601067, pvalue=0.03354013974715751, df=98.99999999999999)\n",
      "Less:       TtestResult(statistic=-2.1555803125601067, pvalue=0.016770069873578757, df=98.99999999999999)\n",
      "Greater:    TtestResult(statistic=-2.1555803125601067, pvalue=0.9832299301264212, df=98.99999999999999)\n",
      "-------------------------------------------------------------------------------------------\n",
      "MURDER & NON-NEGL. MANSLAUGHTER\n",
      "Two-Sided:  TtestResult(statistic=-3.4542652793092605, pvalue=0.0008137100501177325, df=99.0)\n",
      "Less:       TtestResult(statistic=-3.4542652793092605, pvalue=0.00040685502505886624, df=99.0)\n",
      "Greater:    TtestResult(statistic=-3.4542652793092605, pvalue=0.9995931449749411, df=99.0)\n",
      "-------------------------------------------------------------------------------------------\n",
      "Total Crimes\n",
      "Two-Sided:  TtestResult(statistic=-1.7369215339123079, pvalue=0.10816488638633033, df=11.911009551871413)\n",
      "Less:       TtestResult(statistic=-1.7369215339123079, pvalue=0.054082443193165165, df=11.911009551871413)\n",
      "Greater:    TtestResult(statistic=-1.7369215339123079, pvalue=0.9459175568068349, df=11.911009551871413)\n",
      "-------------------------------------------------------------------------------------------\n"
     ]
    }
   ],
   "source": [
    "df = bypublicarea(reduced_r_public_gdf)\n",
    "ttests(df[0], r_random_gdf)"
   ]
  },
  {
   "cell_type": "code",
   "execution_count": 29,
   "id": "18e036e4",
   "metadata": {},
   "outputs": [
    {
     "name": "stdout",
     "output_type": "stream",
     "text": [
      "ROBBERY\n",
      "Two-Sided:  TtestResult(statistic=1.5492207033505456, pvalue=0.13617372315759238, df=21.135236835209504)\n",
      "Less:       TtestResult(statistic=1.5492207033505456, pvalue=0.9319131384212038, df=21.135236835209504)\n",
      "Greater:    TtestResult(statistic=1.5492207033505456, pvalue=0.06808686157879619, df=21.135236835209504)\n",
      "-------------------------------------------------------------------------------------------\n",
      "RAPE\n",
      "Two-Sided:  TtestResult(statistic=0.40287467922828213, pvalue=0.691169758194419, df=20.706350864136034)\n",
      "Less:       TtestResult(statistic=0.40287467922828213, pvalue=0.6544151209027906, df=20.706350864136034)\n",
      "Greater:    TtestResult(statistic=0.40287467922828213, pvalue=0.3455848790972095, df=20.706350864136034)\n",
      "-------------------------------------------------------------------------------------------\n",
      "MURDER & NON-NEGL. MANSLAUGHTER\n",
      "Two-Sided:  TtestResult(statistic=0.8443012439298256, pvalue=0.40512484728488696, df=30.26918098930678)\n",
      "Less:       TtestResult(statistic=0.8443012439298256, pvalue=0.7974375763575565, df=30.26918098930678)\n",
      "Greater:    TtestResult(statistic=0.8443012439298256, pvalue=0.20256242364244348, df=30.26918098930678)\n",
      "-------------------------------------------------------------------------------------------\n",
      "Total Crimes\n",
      "Two-Sided:  TtestResult(statistic=1.3747304556699, pvalue=0.18371331710913516, df=20.991604666805767)\n",
      "Less:       TtestResult(statistic=1.3747304556699, pvalue=0.9081433414454324, df=20.991604666805767)\n",
      "Greater:    TtestResult(statistic=1.3747304556699, pvalue=0.09185665855456758, df=20.991604666805767)\n",
      "-------------------------------------------------------------------------------------------\n"
     ]
    }
   ],
   "source": [
    "ttests(df[1], r_random_gdf)"
   ]
  },
  {
   "cell_type": "markdown",
   "id": "9e3d5304",
   "metadata": {},
   "source": [
    "**Significance Tests for Queens**"
   ]
  },
  {
   "cell_type": "code",
   "execution_count": 30,
   "id": "6b55e1a4",
   "metadata": {},
   "outputs": [
    {
     "name": "stdout",
     "output_type": "stream",
     "text": [
      "ROBBERY\n",
      "Two-Sided:  TtestResult(statistic=-4.457632998571022, pvalue=1.968085983214471e-05, df=112.62720786570046)\n",
      "Less:       TtestResult(statistic=-4.457632998571022, pvalue=9.840429916072356e-06, df=112.62720786570046)\n",
      "Greater:    TtestResult(statistic=-4.457632998571022, pvalue=0.9999901595700839, df=112.62720786570046)\n",
      "-------------------------------------------------------------------------------------------\n",
      "RAPE\n",
      "Two-Sided:  TtestResult(statistic=-1.0671190593319695, pvalue=0.29013762569483587, df=60.791952311682195)\n",
      "Less:       TtestResult(statistic=-1.0671190593319695, pvalue=0.14506881284741793, df=60.791952311682195)\n",
      "Greater:    TtestResult(statistic=-1.0671190593319695, pvalue=0.8549311871525821, df=60.791952311682195)\n",
      "-------------------------------------------------------------------------------------------\n",
      "MURDER & NON-NEGL. MANSLAUGHTER\n",
      "Two-Sided:  TtestResult(statistic=0.09806448647930041, pvalue=0.9224136651110129, df=36.77383787154032)\n",
      "Less:       TtestResult(statistic=0.09806448647930041, pvalue=0.5387931674444936, df=36.77383787154032)\n",
      "Greater:    TtestResult(statistic=0.09806448647930041, pvalue=0.46120683255550643, df=36.77383787154032)\n",
      "-------------------------------------------------------------------------------------------\n",
      "Total Crimes\n",
      "Two-Sided:  TtestResult(statistic=-4.189315046751488, pvalue=6.061197747477636e-05, df=99.49337108746677)\n",
      "Less:       TtestResult(statistic=-4.189315046751488, pvalue=3.030598873738818e-05, df=99.49337108746677)\n",
      "Greater:    TtestResult(statistic=-4.189315046751488, pvalue=0.9999696940112627, df=99.49337108746677)\n",
      "-------------------------------------------------------------------------------------------\n"
     ]
    }
   ],
   "source": [
    "# no significance found for any crime, unable to reject null hypo\n",
    "\n",
    "ttests(reduced_q_public_gdf, q_random_gdf)"
   ]
  },
  {
   "cell_type": "code",
   "execution_count": 31,
   "id": "fb695cf7",
   "metadata": {},
   "outputs": [
    {
     "name": "stdout",
     "output_type": "stream",
     "text": [
      "ROBBERY\n",
      "Two-Sided:  TtestResult(statistic=-6.528456733192531, pvalue=3.249925689470247e-09, df=94.96452899454607)\n",
      "Less:       TtestResult(statistic=-6.528456733192531, pvalue=1.6249628447351234e-09, df=94.96452899454607)\n",
      "Greater:    TtestResult(statistic=-6.528456733192531, pvalue=0.9999999983750372, df=94.96452899454607)\n",
      "-------------------------------------------------------------------------------------------\n",
      "RAPE\n",
      "Two-Sided:  TtestResult(statistic=-2.8260809606716975, pvalue=0.005700977072956311, df=99.0)\n",
      "Less:       TtestResult(statistic=-2.8260809606716975, pvalue=0.0028504885364781557, df=99.0)\n",
      "Greater:    TtestResult(statistic=-2.8260809606716975, pvalue=0.9971495114635218, df=99.0)\n",
      "-------------------------------------------------------------------------------------------\n",
      "MURDER & NON-NEGL. MANSLAUGHTER\n",
      "Two-Sided:  TtestResult(statistic=-5.0636239759468875, pvalue=1.9053066970555595e-06, df=99.0)\n",
      "Less:       TtestResult(statistic=-5.0636239759468875, pvalue=9.526533485277797e-07, df=99.0)\n",
      "Greater:    TtestResult(statistic=-5.0636239759468875, pvalue=0.9999990473466515, df=99.0)\n",
      "-------------------------------------------------------------------------------------------\n",
      "Total Crimes\n",
      "Two-Sided:  TtestResult(statistic=-6.703660359169766, pvalue=1.3458806905147236e-09, df=97.0439692218707)\n",
      "Less:       TtestResult(statistic=-6.703660359169766, pvalue=6.729403452573618e-10, df=97.0439692218707)\n",
      "Greater:    TtestResult(statistic=-6.703660359169766, pvalue=0.9999999993270596, df=97.0439692218707)\n",
      "-------------------------------------------------------------------------------------------\n"
     ]
    }
   ],
   "source": [
    "# p-value = .001 for murder & non negl homocide, able to reject null hypo\n",
    "# no significance found for any other crime, unable to reject null hypo\n",
    "\n",
    "df = bypublicarea(reduced_q_public_gdf)\n",
    "ttests(df[0], q_random_gdf)"
   ]
  },
  {
   "cell_type": "code",
   "execution_count": null,
   "id": "6a4d4d05",
   "metadata": {},
   "outputs": [],
   "source": []
  },
  {
   "cell_type": "code",
   "execution_count": 32,
   "id": "c89d2163",
   "metadata": {},
   "outputs": [
    {
     "name": "stdout",
     "output_type": "stream",
     "text": [
      "ROBBERY\n",
      "Two-Sided:  TtestResult(statistic=-3.8743569012056507, pvalue=0.00021716242900518122, df=80.264310228104)\n",
      "Less:       TtestResult(statistic=-3.8743569012056507, pvalue=0.00010858121450259061, df=80.264310228104)\n",
      "Greater:    TtestResult(statistic=-3.8743569012056507, pvalue=0.9998914187854975, df=80.264310228104)\n",
      "-------------------------------------------------------------------------------------------\n",
      "RAPE\n",
      "Two-Sided:  TtestResult(statistic=-0.7468945120615227, pvalue=0.4598999437580098, df=36.5902626828789)\n",
      "Less:       TtestResult(statistic=-0.7468945120615227, pvalue=0.2299499718790049, df=36.5902626828789)\n",
      "Greater:    TtestResult(statistic=-0.7468945120615227, pvalue=0.7700500281209951, df=36.5902626828789)\n",
      "-------------------------------------------------------------------------------------------\n",
      "MURDER & NON-NEGL. MANSLAUGHTER\n",
      "Two-Sided:  TtestResult(statistic=0.63489082344588, pvalue=0.5312206961308394, df=25.207236537119282)\n",
      "Less:       TtestResult(statistic=0.63489082344588, pvalue=0.7343896519345803, df=25.207236537119282)\n",
      "Greater:    TtestResult(statistic=0.63489082344588, pvalue=0.2656103480654197, df=25.207236537119282)\n",
      "-------------------------------------------------------------------------------------------\n",
      "Total Crimes\n",
      "Two-Sided:  TtestResult(statistic=-3.538504945166348, pvalue=0.0007522977410395861, df=64.45534579457467)\n",
      "Less:       TtestResult(statistic=-3.538504945166348, pvalue=0.00037614887051979305, df=64.45534579457467)\n",
      "Greater:    TtestResult(statistic=-3.538504945166348, pvalue=0.9996238511294803, df=64.45534579457467)\n",
      "-------------------------------------------------------------------------------------------\n"
     ]
    }
   ],
   "source": [
    "# no significance found for any crime, unable to reject null hypo\n",
    "\n",
    "ttests(df[1], q_random_gdf)"
   ]
  },
  {
   "cell_type": "markdown",
   "id": "2918a22d",
   "metadata": {},
   "source": [
    "**Significance Tests for Brooklyn**"
   ]
  },
  {
   "cell_type": "code",
   "execution_count": 33,
   "id": "5fc0206e",
   "metadata": {},
   "outputs": [
    {
     "name": "stdout",
     "output_type": "stream",
     "text": [
      "ROBBERY\n",
      "Two-Sided:  TtestResult(statistic=-7.980374384255984, pvalue=1.203864517164232e-12, df=115.13158577115054)\n",
      "Less:       TtestResult(statistic=-7.980374384255984, pvalue=6.01932258582116e-13, df=115.13158577115054)\n",
      "Greater:    TtestResult(statistic=-7.980374384255984, pvalue=0.999999999999398, df=115.13158577115054)\n",
      "-------------------------------------------------------------------------------------------\n",
      "RAPE\n",
      "Two-Sided:  TtestResult(statistic=-2.705362470611086, pvalue=0.007876447472554789, df=113.35447723802376)\n",
      "Less:       TtestResult(statistic=-2.705362470611086, pvalue=0.003938223736277394, df=113.35447723802376)\n",
      "Greater:    TtestResult(statistic=-2.705362470611086, pvalue=0.9960617762637226, df=113.35447723802376)\n",
      "-------------------------------------------------------------------------------------------\n",
      "MURDER & NON-NEGL. MANSLAUGHTER\n",
      "Two-Sided:  TtestResult(statistic=-4.353554453420412, pvalue=2.824471016132381e-05, df=120.65689581190172)\n",
      "Less:       TtestResult(statistic=-4.353554453420412, pvalue=1.4122355080661905e-05, df=120.65689581190172)\n",
      "Greater:    TtestResult(statistic=-4.353554453420412, pvalue=0.9999858776449193, df=120.65689581190172)\n",
      "-------------------------------------------------------------------------------------------\n",
      "Total Crimes\n",
      "Two-Sided:  TtestResult(statistic=-7.575200303963861, pvalue=1.1536720315749776e-11, df=110.91878871053063)\n",
      "Less:       TtestResult(statistic=-7.575200303963861, pvalue=5.768360157874888e-12, df=110.91878871053063)\n",
      "Greater:    TtestResult(statistic=-7.575200303963861, pvalue=0.9999999999942316, df=110.91878871053063)\n",
      "-------------------------------------------------------------------------------------------\n"
     ]
    }
   ],
   "source": [
    "ttests(reduced_k_public_gdf, k_random_gdf)"
   ]
  },
  {
   "cell_type": "code",
   "execution_count": 34,
   "id": "12d42407",
   "metadata": {},
   "outputs": [
    {
     "name": "stdout",
     "output_type": "stream",
     "text": [
      "ROBBERY\n",
      "Two-Sided:  TtestResult(statistic=-10.443728199108625, pvalue=1.5692964496557797e-17, df=96.49283268287223)\n",
      "Less:       TtestResult(statistic=-10.443728199108625, pvalue=7.846482248278898e-18, df=96.49283268287223)\n",
      "Greater:    TtestResult(statistic=-10.443728199108625, pvalue=1.0, df=96.49283268287223)\n",
      "-------------------------------------------------------------------------------------------\n",
      "RAPE\n",
      "Two-Sided:  TtestResult(statistic=-3.8748413495893916, pvalue=0.00019180715494676899, df=99.0)\n",
      "Less:       TtestResult(statistic=-3.8748413495893916, pvalue=9.590357747338449e-05, df=99.0)\n",
      "Greater:    TtestResult(statistic=-3.8748413495893916, pvalue=0.9999040964225266, df=99.0)\n",
      "-------------------------------------------------------------------------------------------\n",
      "MURDER & NON-NEGL. MANSLAUGHTER\n",
      "Two-Sided:  TtestResult(statistic=-6.473061195266285, pvalue=3.7111268363306096e-09, df=99.0)\n",
      "Less:       TtestResult(statistic=-6.473061195266285, pvalue=1.8555634181653048e-09, df=99.0)\n",
      "Greater:    TtestResult(statistic=-6.473061195266285, pvalue=0.9999999981444365, df=99.0)\n",
      "-------------------------------------------------------------------------------------------\n",
      "Total Crimes\n",
      "Two-Sided:  TtestResult(statistic=-10.287083213716636, pvalue=2.2775104810519112e-17, df=100.19727595192654)\n",
      "Less:       TtestResult(statistic=-10.287083213716636, pvalue=1.1387552405259556e-17, df=100.19727595192654)\n",
      "Greater:    TtestResult(statistic=-10.287083213716636, pvalue=1.0, df=100.19727595192654)\n",
      "-------------------------------------------------------------------------------------------\n"
     ]
    }
   ],
   "source": [
    "df = bypublicarea(reduced_k_public_gdf)\n",
    "ttests(df[0], k_random_gdf)\n"
   ]
  },
  {
   "cell_type": "code",
   "execution_count": 35,
   "id": "a0e25ac5",
   "metadata": {},
   "outputs": [
    {
     "name": "stdout",
     "output_type": "stream",
     "text": [
      "ROBBERY\n",
      "Two-Sided:  TtestResult(statistic=-7.180786908350506, pvalue=2.5199700318467667e-10, df=84.39772963179409)\n",
      "Less:       TtestResult(statistic=-7.180786908350506, pvalue=1.2599850159233834e-10, df=84.39772963179409)\n",
      "Greater:    TtestResult(statistic=-7.180786908350506, pvalue=0.9999999998740016, df=84.39772963179409)\n",
      "-------------------------------------------------------------------------------------------\n",
      "RAPE\n",
      "Two-Sided:  TtestResult(statistic=-2.361959141064593, pvalue=0.020628267537520818, df=79.39971640963189)\n",
      "Less:       TtestResult(statistic=-2.361959141064593, pvalue=0.010314133768760409, df=79.39971640963189)\n",
      "Greater:    TtestResult(statistic=-2.361959141064593, pvalue=0.9896858662312396, df=79.39971640963189)\n",
      "-------------------------------------------------------------------------------------------\n",
      "MURDER & NON-NEGL. MANSLAUGHTER\n",
      "Two-Sided:  TtestResult(statistic=-3.803137373954458, pvalue=0.0002466481664359649, df=99.48787277944176)\n",
      "Less:       TtestResult(statistic=-3.803137373954458, pvalue=0.00012332408321798246, df=99.48787277944176)\n",
      "Greater:    TtestResult(statistic=-3.803137373954458, pvalue=0.999876675916782, df=99.48787277944176)\n",
      "-------------------------------------------------------------------------------------------\n",
      "Total Crimes\n",
      "Two-Sided:  TtestResult(statistic=-6.746663515416744, pvalue=2.4334999362399555e-09, df=77.54375967954309)\n",
      "Less:       TtestResult(statistic=-6.746663515416744, pvalue=1.2167499681199777e-09, df=77.54375967954309)\n",
      "Greater:    TtestResult(statistic=-6.746663515416744, pvalue=0.99999999878325, df=77.54375967954309)\n",
      "-------------------------------------------------------------------------------------------\n"
     ]
    }
   ],
   "source": [
    "ttests(df[1], k_random_gdf)"
   ]
  },
  {
   "cell_type": "markdown",
   "id": "7ed9a493",
   "metadata": {},
   "source": [
    "**Significance Test for the Bronx**"
   ]
  },
  {
   "cell_type": "code",
   "execution_count": 36,
   "id": "aa29d1dd",
   "metadata": {},
   "outputs": [
    {
     "name": "stdout",
     "output_type": "stream",
     "text": [
      "ROBBERY\n",
      "Two-Sided:  TtestResult(statistic=-9.229658554465235, pvalue=2.128963503679167e-15, df=110.95649995667614)\n",
      "Less:       TtestResult(statistic=-9.229658554465235, pvalue=1.0644817518395836e-15, df=110.95649995667614)\n",
      "Greater:    TtestResult(statistic=-9.229658554465235, pvalue=0.999999999999999, df=110.95649995667614)\n",
      "-------------------------------------------------------------------------------------------\n",
      "RAPE\n",
      "Two-Sided:  TtestResult(statistic=-4.315205791581398, pvalue=3.26197276907726e-05, df=121.90023561542546)\n",
      "Less:       TtestResult(statistic=-4.315205791581398, pvalue=1.63098638453863e-05, df=121.90023561542546)\n",
      "Greater:    TtestResult(statistic=-4.315205791581398, pvalue=0.9999836901361546, df=121.90023561542546)\n",
      "-------------------------------------------------------------------------------------------\n",
      "MURDER & NON-NEGL. MANSLAUGHTER\n",
      "Two-Sided:  TtestResult(statistic=-6.0426148140410465, pvalue=1.764751457903097e-08, df=119.68070683918708)\n",
      "Less:       TtestResult(statistic=-6.0426148140410465, pvalue=8.823757289515485e-09, df=119.68070683918708)\n",
      "Greater:    TtestResult(statistic=-6.0426148140410465, pvalue=0.9999999911762427, df=119.68070683918708)\n",
      "-------------------------------------------------------------------------------------------\n",
      "Total Crimes\n",
      "Two-Sided:  TtestResult(statistic=-9.319875267533373, pvalue=1.0664785426057484e-15, df=114.01590476422122)\n",
      "Less:       TtestResult(statistic=-9.319875267533373, pvalue=5.332392713028742e-16, df=114.01590476422122)\n",
      "Greater:    TtestResult(statistic=-9.319875267533373, pvalue=0.9999999999999994, df=114.01590476422122)\n",
      "-------------------------------------------------------------------------------------------\n"
     ]
    }
   ],
   "source": [
    "ttests(reduced_x_public_gdf, x_random_gdf)"
   ]
  },
  {
   "cell_type": "code",
   "execution_count": 37,
   "id": "f3fcd1b7",
   "metadata": {},
   "outputs": [
    {
     "name": "stdout",
     "output_type": "stream",
     "text": [
      "ROBBERY\n",
      "Two-Sided:  TtestResult(statistic=-10.064970070597631, pvalue=6.424219132850488e-17, df=101.04655612802188)\n",
      "Less:       TtestResult(statistic=-10.064970070597631, pvalue=3.212109566425244e-17, df=101.04655612802188)\n",
      "Greater:    TtestResult(statistic=-10.064970070597631, pvalue=1.0, df=101.04655612802188)\n",
      "-------------------------------------------------------------------------------------------\n",
      "RAPE\n",
      "Two-Sided:  TtestResult(statistic=-5.3232376712353915, pvalue=6.369654975425437e-07, df=99.0)\n",
      "Less:       TtestResult(statistic=-5.3232376712353915, pvalue=3.184827487712718e-07, df=99.0)\n",
      "Greater:    TtestResult(statistic=-5.3232376712353915, pvalue=0.9999996815172512, df=99.0)\n",
      "-------------------------------------------------------------------------------------------\n",
      "MURDER & NON-NEGL. MANSLAUGHTER\n",
      "Two-Sided:  TtestResult(statistic=-7.583120854499499, pvalue=1.854786743263863e-11, df=99.0)\n",
      "Less:       TtestResult(statistic=-7.583120854499499, pvalue=9.273933716319315e-12, df=99.0)\n",
      "Greater:    TtestResult(statistic=-7.583120854499499, pvalue=0.9999999999907261, df=99.0)\n",
      "-------------------------------------------------------------------------------------------\n",
      "Total Crimes\n",
      "Two-Sided:  TtestResult(statistic=-10.333369006114962, pvalue=1.6870531765835733e-17, df=100.81878120041873)\n",
      "Less:       TtestResult(statistic=-10.333369006114962, pvalue=8.435265882917867e-18, df=100.81878120041873)\n",
      "Greater:    TtestResult(statistic=-10.333369006114962, pvalue=1.0, df=100.81878120041873)\n",
      "-------------------------------------------------------------------------------------------\n"
     ]
    }
   ],
   "source": [
    "df = bypublicarea(reduced_x_public_gdf)\n",
    "ttests(df[0], x_random_gdf)\n"
   ]
  },
  {
   "cell_type": "code",
   "execution_count": 38,
   "id": "1a5c985a",
   "metadata": {},
   "outputs": [
    {
     "name": "stdout",
     "output_type": "stream",
     "text": [
      "ROBBERY\n",
      "Two-Sided:  TtestResult(statistic=-8.94387902903304, pvalue=7.879357040149965e-15, df=114.11262967969911)\n",
      "Less:       TtestResult(statistic=-8.94387902903304, pvalue=3.9396785200749824e-15, df=114.11262967969911)\n",
      "Greater:    TtestResult(statistic=-8.94387902903304, pvalue=0.999999999999996, df=114.11262967969911)\n",
      "-------------------------------------------------------------------------------------------\n",
      "RAPE\n",
      "Two-Sided:  TtestResult(statistic=-3.968233765171144, pvalue=0.00013382527298028637, df=103.38403204397233)\n",
      "Less:       TtestResult(statistic=-3.968233765171144, pvalue=6.691263649014318e-05, df=103.38403204397233)\n",
      "Greater:    TtestResult(statistic=-3.968233765171144, pvalue=0.9999330873635098, df=103.38403204397233)\n",
      "-------------------------------------------------------------------------------------------\n",
      "MURDER & NON-NEGL. MANSLAUGHTER\n",
      "Two-Sided:  TtestResult(statistic=-5.601132226208908, pvalue=1.4514260065960475e-07, df=116.09735584604702)\n",
      "Less:       TtestResult(statistic=-5.601132226208908, pvalue=7.257130032980237e-08, df=116.09735584604702)\n",
      "Greater:    TtestResult(statistic=-5.601132226208908, pvalue=0.9999999274286997, df=116.09735584604702)\n",
      "-------------------------------------------------------------------------------------------\n",
      "Total Crimes\n",
      "Two-Sided:  TtestResult(statistic=-8.96895566123721, pvalue=6.04734018506272e-15, df=116.26272338889297)\n",
      "Less:       TtestResult(statistic=-8.96895566123721, pvalue=3.02367009253136e-15, df=116.26272338889297)\n",
      "Greater:    TtestResult(statistic=-8.96895566123721, pvalue=0.999999999999997, df=116.26272338889297)\n",
      "-------------------------------------------------------------------------------------------\n"
     ]
    }
   ],
   "source": [
    "ttests(df[1], x_random_gdf)"
   ]
  },
  {
   "cell_type": "markdown",
   "id": "e0717a51",
   "metadata": {},
   "source": [
    "**Significance Tests for Manhattan**"
   ]
  },
  {
   "cell_type": "code",
   "execution_count": 39,
   "id": "349af9ab",
   "metadata": {},
   "outputs": [
    {
     "name": "stdout",
     "output_type": "stream",
     "text": [
      "ROBBERY\n",
      "Two-Sided:  TtestResult(statistic=-14.298691608159078, pvalue=6.583570220465456e-27, df=110.73159199269651)\n",
      "Less:       TtestResult(statistic=-14.298691608159078, pvalue=3.291785110232728e-27, df=110.73159199269651)\n",
      "Greater:    TtestResult(statistic=-14.298691608159078, pvalue=1.0, df=110.73159199269651)\n",
      "-------------------------------------------------------------------------------------------\n",
      "RAPE\n",
      "Two-Sided:  TtestResult(statistic=-6.171392624754514, pvalue=1.4786812447614945e-08, df=99.31923792944988)\n",
      "Less:       TtestResult(statistic=-6.171392624754514, pvalue=7.393406223807472e-09, df=99.31923792944988)\n",
      "Greater:    TtestResult(statistic=-6.171392624754514, pvalue=0.9999999926065938, df=99.31923792944988)\n",
      "-------------------------------------------------------------------------------------------\n",
      "MURDER & NON-NEGL. MANSLAUGHTER\n",
      "Two-Sided:  TtestResult(statistic=-7.595881305168012, pvalue=7.058585648119657e-12, df=121.30836620969723)\n",
      "Less:       TtestResult(statistic=-7.595881305168012, pvalue=3.5292928240598287e-12, df=121.30836620969723)\n",
      "Greater:    TtestResult(statistic=-7.595881305168012, pvalue=0.9999999999964707, df=121.30836620969723)\n",
      "-------------------------------------------------------------------------------------------\n",
      "Total Crimes\n",
      "Two-Sided:  TtestResult(statistic=-14.336656610752486, pvalue=2.6509402946467898e-27, df=114.33511323340753)\n",
      "Less:       TtestResult(statistic=-14.336656610752486, pvalue=1.3254701473233949e-27, df=114.33511323340753)\n",
      "Greater:    TtestResult(statistic=-14.336656610752486, pvalue=1.0, df=114.33511323340753)\n",
      "-------------------------------------------------------------------------------------------\n"
     ]
    }
   ],
   "source": [
    "ttests(reduced_m_public_gdf, m_random_gdf)\n"
   ]
  },
  {
   "cell_type": "code",
   "execution_count": 40,
   "id": "7854132b",
   "metadata": {},
   "outputs": [
    {
     "name": "stdout",
     "output_type": "stream",
     "text": [
      "ROBBERY\n",
      "Two-Sided:  TtestResult(statistic=-15.258246015715761, pvalue=5.688136681026808e-28, df=101.0129202796866)\n",
      "Less:       TtestResult(statistic=-15.258246015715761, pvalue=2.844068340513404e-28, df=101.0129202796866)\n",
      "Greater:    TtestResult(statistic=-15.258246015715761, pvalue=1.0, df=101.0129202796866)\n",
      "-------------------------------------------------------------------------------------------\n",
      "RAPE\n",
      "Two-Sided:  TtestResult(statistic=-8.584297584244156, pvalue=1.3229715105108922e-13, df=99.0)\n",
      "Less:       TtestResult(statistic=-8.584297584244156, pvalue=6.614857552554461e-14, df=99.0)\n",
      "Greater:    TtestResult(statistic=-8.584297584244156, pvalue=0.9999999999999338, df=99.0)\n",
      "-------------------------------------------------------------------------------------------\n",
      "MURDER & NON-NEGL. MANSLAUGHTER\n",
      "Two-Sided:  TtestResult(statistic=-9.486710758215882, pvalue=1.4416991603723288e-15, df=98.99999999999999)\n",
      "Less:       TtestResult(statistic=-9.486710758215882, pvalue=7.208495801861644e-16, df=98.99999999999999)\n",
      "Greater:    TtestResult(statistic=-9.486710758215882, pvalue=0.9999999999999992, df=98.99999999999999)\n",
      "-------------------------------------------------------------------------------------------\n",
      "Total Crimes\n",
      "Two-Sided:  TtestResult(statistic=-15.573728635571007, pvalue=1.380323609331345e-28, df=100.85882660490964)\n",
      "Less:       TtestResult(statistic=-15.573728635571007, pvalue=6.901618046656725e-29, df=100.85882660490964)\n",
      "Greater:    TtestResult(statistic=-15.573728635571007, pvalue=1.0, df=100.85882660490964)\n",
      "-------------------------------------------------------------------------------------------\n"
     ]
    }
   ],
   "source": [
    "df = bypublicarea(reduced_m_public_gdf)\n",
    "ttests(df[0], m_random_gdf)"
   ]
  },
  {
   "cell_type": "code",
   "execution_count": 41,
   "id": "32bdc61f",
   "metadata": {},
   "outputs": [
    {
     "name": "stdout",
     "output_type": "stream",
     "text": [
      "ROBBERY\n",
      "Two-Sided:  TtestResult(statistic=-8.94387902903304, pvalue=7.879357040149965e-15, df=114.11262967969911)\n",
      "Less:       TtestResult(statistic=-8.94387902903304, pvalue=3.9396785200749824e-15, df=114.11262967969911)\n",
      "Greater:    TtestResult(statistic=-8.94387902903304, pvalue=0.999999999999996, df=114.11262967969911)\n",
      "-------------------------------------------------------------------------------------------\n",
      "RAPE\n",
      "Two-Sided:  TtestResult(statistic=-3.968233765171144, pvalue=0.00013382527298028637, df=103.38403204397233)\n",
      "Less:       TtestResult(statistic=-3.968233765171144, pvalue=6.691263649014318e-05, df=103.38403204397233)\n",
      "Greater:    TtestResult(statistic=-3.968233765171144, pvalue=0.9999330873635098, df=103.38403204397233)\n",
      "-------------------------------------------------------------------------------------------\n",
      "MURDER & NON-NEGL. MANSLAUGHTER\n",
      "Two-Sided:  TtestResult(statistic=-5.601132226208908, pvalue=1.4514260065960475e-07, df=116.09735584604702)\n",
      "Less:       TtestResult(statistic=-5.601132226208908, pvalue=7.257130032980237e-08, df=116.09735584604702)\n",
      "Greater:    TtestResult(statistic=-5.601132226208908, pvalue=0.9999999274286997, df=116.09735584604702)\n",
      "-------------------------------------------------------------------------------------------\n",
      "Total Crimes\n",
      "Two-Sided:  TtestResult(statistic=-8.96895566123721, pvalue=6.04734018506272e-15, df=116.26272338889297)\n",
      "Less:       TtestResult(statistic=-8.96895566123721, pvalue=3.02367009253136e-15, df=116.26272338889297)\n",
      "Greater:    TtestResult(statistic=-8.96895566123721, pvalue=0.999999999999997, df=116.26272338889297)\n",
      "-------------------------------------------------------------------------------------------\n"
     ]
    }
   ],
   "source": [
    "ttests(df[1], x_random_gdf)"
   ]
  }
 ],
 "metadata": {
  "kernelspec": {
   "display_name": "Python 3 (ipykernel)",
   "language": "python",
   "name": "python3"
  },
  "language_info": {
   "codemirror_mode": {
    "name": "ipython",
    "version": 3
   },
   "file_extension": ".py",
   "mimetype": "text/x-python",
   "name": "python",
   "nbconvert_exporter": "python",
   "pygments_lexer": "ipython3",
   "version": "3.10.14"
  }
 },
 "nbformat": 4,
 "nbformat_minor": 5
}
