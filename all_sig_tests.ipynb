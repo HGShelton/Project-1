{
 "cells": [
  {
   "cell_type": "code",
   "execution_count": 7,
   "id": "ae3c0ec6-3f85-460e-96f3-07027856bd0c",
   "metadata": {},
   "outputs": [],
   "source": [
    "#importing libraries\n",
    "import pandas as pd\n",
    "import numpy as np\n",
    "# import matplotlib.pyplot as plt\n",
    "import geopandas as gpd\n",
    "from shapely.geometry import Point, Polygon, MultiPolygon\n",
    "# import hvplot.pandas\n",
    "import scipy.stats as stats\n",
    "import random"
   ]
  },
  {
   "cell_type": "code",
   "execution_count": 5,
   "id": "d3be8545",
   "metadata": {},
   "outputs": [],
   "source": [
    "def read_gpd(path):\n",
    "    gdf = pd.read_csv(path)\n",
    "    gdf[\"geometry\"] = gpd.GeoSeries.from_wkt(gdf[\"geometry\"])\n",
    "    gdf = gpd.GeoDataFrame(gdf, geometry=\"geometry\")\n",
    "    return gdf"
   ]
  },
  {
   "cell_type": "code",
   "execution_count": 15,
   "id": "76df5065",
   "metadata": {},
   "outputs": [],
   "source": [
    "#importing data from previous chunk of code\n",
    "reduced_r_public_gdf = read_gpd(\"output_data/reduced_r_public_gdf.csv\")\n",
    "reduced_q_public_gdf = read_gpd(\"output_data/reduced_r_public_gdf.csv\")\n",
    "reduced_k_public_gdf = read_gpd(\"output_data/reduced_r_public_gdf.csv\")\n",
    "reduced_x_public_gdf = read_gpd(\"output_data/reduced_r_public_gdf.csv\")\n",
    "reduced_m_public_gdf = read_gpd(\"output_data/reduced_r_public_gdf.csv\")\n",
    "\n",
    "r_crimes_gdf = read_gpd(\"output_data/r_crimes_gdf.csv\")\n",
    "q_crimes_gdf = read_gpd(\"output_data/q_crimes_gdf.csv\")\n",
    "k_crimes_gdf = read_gpd(\"output_data/k_crimes_gdf.csv\")\n",
    "x_crimes_gdf = read_gpd(\"output_data/x_crimes_gdf.csv\")\n",
    "m_crimes_gdf = read_gpd(\"output_data/m_crimes_gdf.csv\")\n",
    "\n",
    "r_random_gdf = read_gpd(\"output_data/r_random_gdf.csv\")\n",
    "q_random_gdf = read_gpd(\"output_data/q_random_gdf.csv\")\n",
    "k_random_gdf = read_gpd(\"output_data/k_random_gdf.csv\")\n",
    "x_random_gdf = read_gpd(\"output_data/x_random_gdf.csv\")\n",
    "m_random_gdf = read_gpd(\"output_data/m_random_gdf.csv\")"
   ]
  },
  {
   "cell_type": "markdown",
   "id": "db33fb41",
   "metadata": {},
   "source": [
    "**Is There A Signficant Difference in the Amount of Crime Commited by a Public Institution vs Not?**\n",
    "- Null Hypothesis: there is no difference between the rate of crime by a public institution vs not near a public institution\n",
    "- Alternate Hypothesis: if within a 1 mile radius of a public institution, then there is a lower rate of crime\n",
    "\n",
    "- What am I comparing?\n",
    "    - the true mean of crime committed within a mile of a public library and park respectively\n",
    "    - the true mean of crime committed within a mile radius anywhere in Staten Island\n"
   ]
  },
  {
   "cell_type": "code",
   "execution_count": 16,
   "id": "de2d32c6",
   "metadata": {},
   "outputs": [],
   "source": [
    "#Significance Tests\n",
    "    #this won't be the same in the other boroughs because their sample sizes will be above 30, but because the sample size in staten island is <30 we will be using a t-test\n",
    "def ttests(df, df2):\n",
    "    for crime in df.columns:\n",
    "        try:\n",
    "            print(f\"{crime}: {stats.ttest_ind(df[crime], df2[crime], equal_var=False)}\")\n",
    "        except:\n",
    "            print(\"NA\")\n",
    "\n",
    "#dividing public areas into libraries and other. not doing malls bc there is only one data point for that\n",
    "def bypublicarea(df):\n",
    "    libraries = df[df[\"Public Area\"] == \"PUBLIC LIBRARIES\"]\n",
    "    parks = df[df[\"Public Area\"] == \"Parks and Other Outdoor Areas\"]\n",
    "    return libraries, parks\n",
    "\n",
    "# libraries = reduced_q_public_gdf[reduced_q_public_gdf[\"Public Area\"] == \"PUBLIC LIBRARIES\"]\n",
    "# parks = reduced_q_public_gdf[reduced_q_public_gdf[\"Public Area\"] == \"Parks and Other Outdoor Areas\"]\n",
    "\n"
   ]
  },
  {
   "cell_type": "markdown",
   "id": "7a115eee",
   "metadata": {},
   "source": [
    "**Significance Tests for Staten Island**"
   ]
  },
  {
   "cell_type": "code",
   "execution_count": 9,
   "id": "edd25b90",
   "metadata": {},
   "outputs": [
    {
     "name": "stdout",
     "output_type": "stream",
     "text": [
      "Unnamed: 0: TtestResult(statistic=-11.727054597118984, pvalue=9.9939208002641e-22, df=121.92207704605087)\n",
      "NA\n",
      "NA\n",
      "Latitude: TtestResult(statistic=0.33118003933218976, pvalue=0.7427536192619424, df=30.767521913230965)\n",
      "Longitude: TtestResult(statistic=0.9237325233350904, pvalue=0.3623732593803548, df=32.79190191282413)\n",
      "NA\n",
      "ROBBERY: TtestResult(statistic=1.3922461338044043, pvalue=0.17435677238612948, df=29.21216333892623)\n",
      "MURDER & NON-NEGL. MANSLAUGHTER: TtestResult(statistic=0.3674811118155598, pvalue=0.7149322158251639, df=46.36838295176494)\n",
      "RAPE: TtestResult(statistic=0.2498381984390514, pvalue=0.8044992504470255, df=28.585056112825352)\n",
      "Total Crimes: TtestResult(statistic=1.1943307140128763, pvalue=0.24204210398993248, df=28.952063678805406)\n"
     ]
    }
   ],
   "source": [
    "ttests(reduced_r_public_gdf, r_random_gdf)"
   ]
  },
  {
   "cell_type": "code",
   "execution_count": 10,
   "id": "1166f411",
   "metadata": {},
   "outputs": [
    {
     "name": "stdout",
     "output_type": "stream",
     "text": [
      "Unnamed: 0: TtestResult(statistic=-8.758716269142948, pvalue=2.3811141388007316e-05, df=7.9343301725710464)\n",
      "NA\n",
      "NA\n",
      "Latitude: TtestResult(statistic=-1.2104269013496816, pvalue=0.30820083325525205, df=3.1859199621506846)\n",
      "Longitude: TtestResult(statistic=-0.05354852313893694, pvalue=0.9605811981144401, df=3.0785512199482947)\n",
      "NA\n",
      "ROBBERY: TtestResult(statistic=-1.3083267938159422, pvalue=0.2255014978815159, df=8.381138313656685)\n",
      "MURDER & NON-NEGL. MANSLAUGHTER: TtestResult(statistic=-3.4542652793092605, pvalue=0.0008137100501177325, df=99.0)\n",
      "RAPE: TtestResult(statistic=-2.1555803125601067, pvalue=0.03354013974715751, df=98.99999999999999)\n",
      "Total Crimes: TtestResult(statistic=-1.7369215339123079, pvalue=0.10816488638633033, df=11.911009551871413)\n"
     ]
    }
   ],
   "source": [
    "df = bypublicarea(reduced_r_public_gdf)\n",
    "ttests(df[0], r_random_gdf)"
   ]
  },
  {
   "cell_type": "code",
   "execution_count": 11,
   "id": "18e036e4",
   "metadata": {},
   "outputs": [
    {
     "name": "stdout",
     "output_type": "stream",
     "text": [
      "Unnamed: 0: TtestResult(statistic=-11.245695143279907, pvalue=5.630038194545264e-20, df=109.64232886825674)\n",
      "NA\n",
      "NA\n",
      "Latitude: TtestResult(statistic=0.6543467238146381, pvalue=0.5194094177763786, df=22.890445952332552)\n",
      "Longitude: TtestResult(statistic=0.9483928394036846, pvalue=0.3517659596202214, df=25.691054008957643)\n",
      "NA\n",
      "ROBBERY: TtestResult(statistic=1.5492207033505456, pvalue=0.13617372315759238, df=21.135236835209504)\n",
      "MURDER & NON-NEGL. MANSLAUGHTER: TtestResult(statistic=0.8443012439298256, pvalue=0.40512484728488696, df=30.26918098930678)\n",
      "RAPE: TtestResult(statistic=0.40287467922828213, pvalue=0.691169758194419, df=20.706350864136034)\n",
      "Total Crimes: TtestResult(statistic=1.3747304556699, pvalue=0.18371331710913516, df=20.991604666805767)\n"
     ]
    }
   ],
   "source": [
    "ttests(df[1], r_random_gdf)"
   ]
  },
  {
   "cell_type": "markdown",
   "id": "9e3d5304",
   "metadata": {},
   "source": [
    "**Significance Tests for Queens**"
   ]
  },
  {
   "cell_type": "code",
   "execution_count": 17,
   "id": "6b55e1a4",
   "metadata": {},
   "outputs": [
    {
     "name": "stdout",
     "output_type": "stream",
     "text": [
      "Unnamed: 0: TtestResult(statistic=-11.727054597118984, pvalue=9.9939208002641e-22, df=121.92207704605087)\n",
      "NA\n",
      "NA\n",
      "Latitude: TtestResult(statistic=-12.50974783695998, pvalue=7.796106482371077e-15, df=36.86691703493812)\n",
      "Longitude: TtestResult(statistic=-25.43519187089566, pvalue=4.851922774374293e-27, df=41.758249735909914)\n",
      "NA\n",
      "ROBBERY: TtestResult(statistic=-4.457632998571022, pvalue=1.968085983214471e-05, df=112.62720786570046)\n",
      "MURDER & NON-NEGL. MANSLAUGHTER: TtestResult(statistic=0.09806448647930041, pvalue=0.9224136651110129, df=36.77383787154032)\n",
      "RAPE: TtestResult(statistic=-1.0671190593319695, pvalue=0.29013762569483587, df=60.791952311682195)\n",
      "Total Crimes: TtestResult(statistic=-4.189315046751488, pvalue=6.061197747477636e-05, df=99.49337108746677)\n"
     ]
    }
   ],
   "source": [
    "# no significance found for any crime, unable to reject null hypo\n",
    "\n",
    "ttests(reduced_q_public_gdf, q_random_gdf)"
   ]
  },
  {
   "cell_type": "code",
   "execution_count": 13,
   "id": "fb695cf7",
   "metadata": {},
   "outputs": [
    {
     "name": "stdout",
     "output_type": "stream",
     "text": [
      "Unnamed: 0: TtestResult(statistic=-8.758716269142948, pvalue=2.3811141388007316e-05, df=7.9343301725710464)\n",
      "NA\n",
      "NA\n",
      "Latitude: TtestResult(statistic=-7.367984251629048, pvalue=0.0036073380096209875, df=3.3256059302762595)\n",
      "Longitude: TtestResult(statistic=-7.816365537778276, pvalue=0.0036733791996070154, df=3.145833678046163)\n",
      "NA\n",
      "ROBBERY: TtestResult(statistic=-6.528456733192531, pvalue=3.249925689470247e-09, df=94.96452899454607)\n",
      "MURDER & NON-NEGL. MANSLAUGHTER: TtestResult(statistic=-5.0636239759468875, pvalue=1.9053066970555595e-06, df=99.0)\n",
      "RAPE: TtestResult(statistic=-2.8260809606716975, pvalue=0.005700977072956311, df=99.0)\n",
      "Total Crimes: TtestResult(statistic=-6.703660359169766, pvalue=1.3458806905147236e-09, df=97.0439692218707)\n"
     ]
    }
   ],
   "source": [
    "# p-value = .001 for murder & non negl homocide, able to reject null hypo\n",
    "# no significance found for any other crime, unable to reject null hypo\n",
    "\n",
    "df = bypublicarea(reduced_q_public_gdf)\n",
    "ttests(df[0], q_random_gdf)"
   ]
  },
  {
   "cell_type": "code",
   "execution_count": 14,
   "id": "6a4d4d05",
   "metadata": {},
   "outputs": [
    {
     "data": {
      "text/html": [
       "<div>\n",
       "<style scoped>\n",
       "    .dataframe tbody tr th:only-of-type {\n",
       "        vertical-align: middle;\n",
       "    }\n",
       "\n",
       "    .dataframe tbody tr th {\n",
       "        vertical-align: top;\n",
       "    }\n",
       "\n",
       "    .dataframe thead th {\n",
       "        text-align: right;\n",
       "    }\n",
       "</style>\n",
       "<table border=\"1\" class=\"dataframe\">\n",
       "  <thead>\n",
       "    <tr style=\"text-align: right;\">\n",
       "      <th></th>\n",
       "      <th>Unnamed: 0</th>\n",
       "      <th>OBJECTID</th>\n",
       "      <th>Public Area</th>\n",
       "      <th>Latitude</th>\n",
       "      <th>Longitude</th>\n",
       "      <th>geometry</th>\n",
       "      <th>ROBBERY</th>\n",
       "      <th>MURDER &amp; NON-NEGL. MANSLAUGHTER</th>\n",
       "      <th>RAPE</th>\n",
       "      <th>Total Crimes</th>\n",
       "    </tr>\n",
       "  </thead>\n",
       "  <tbody>\n",
       "    <tr>\n",
       "      <th>2</th>\n",
       "      <td>2</td>\n",
       "      <td>369</td>\n",
       "      <td>PUBLIC LIBRARIES</td>\n",
       "      <td>40.595802</td>\n",
       "      <td>-74.063027</td>\n",
       "      <td>POINT (4519103.997 -12541048.240)</td>\n",
       "      <td>5</td>\n",
       "      <td>0</td>\n",
       "      <td>0</td>\n",
       "      <td>5</td>\n",
       "    </tr>\n",
       "    <tr>\n",
       "      <th>3</th>\n",
       "      <td>3</td>\n",
       "      <td>370</td>\n",
       "      <td>PUBLIC LIBRARIES</td>\n",
       "      <td>40.590395</td>\n",
       "      <td>-74.101138</td>\n",
       "      <td>POINT (4518502.095 -12556517.429)</td>\n",
       "      <td>2</td>\n",
       "      <td>0</td>\n",
       "      <td>0</td>\n",
       "      <td>2</td>\n",
       "    </tr>\n",
       "    <tr>\n",
       "      <th>14</th>\n",
       "      <td>14</td>\n",
       "      <td>381</td>\n",
       "      <td>PUBLIC LIBRARIES</td>\n",
       "      <td>40.534058</td>\n",
       "      <td>-74.193235</td>\n",
       "      <td>POINT (4512230.647 -12594048.322)</td>\n",
       "      <td>2</td>\n",
       "      <td>0</td>\n",
       "      <td>0</td>\n",
       "      <td>2</td>\n",
       "    </tr>\n",
       "    <tr>\n",
       "      <th>16</th>\n",
       "      <td>16</td>\n",
       "      <td>383</td>\n",
       "      <td>PUBLIC LIBRARIES</td>\n",
       "      <td>40.509530</td>\n",
       "      <td>-74.244105</td>\n",
       "      <td>POINT (4509500.293 -12614870.078)</td>\n",
       "      <td>1</td>\n",
       "      <td>0</td>\n",
       "      <td>0</td>\n",
       "      <td>1</td>\n",
       "    </tr>\n",
       "  </tbody>\n",
       "</table>\n",
       "</div>"
      ],
      "text/plain": [
       "    Unnamed: 0  OBJECTID       Public Area   Latitude  Longitude  \\\n",
       "2            2       369  PUBLIC LIBRARIES  40.595802 -74.063027   \n",
       "3            3       370  PUBLIC LIBRARIES  40.590395 -74.101138   \n",
       "14          14       381  PUBLIC LIBRARIES  40.534058 -74.193235   \n",
       "16          16       383  PUBLIC LIBRARIES  40.509530 -74.244105   \n",
       "\n",
       "                             geometry  ROBBERY  \\\n",
       "2   POINT (4519103.997 -12541048.240)        5   \n",
       "3   POINT (4518502.095 -12556517.429)        2   \n",
       "14  POINT (4512230.647 -12594048.322)        2   \n",
       "16  POINT (4509500.293 -12614870.078)        1   \n",
       "\n",
       "    MURDER & NON-NEGL. MANSLAUGHTER  RAPE  Total Crimes  \n",
       "2                                 0     0             5  \n",
       "3                                 0     0             2  \n",
       "14                                0     0             2  \n",
       "16                                0     0             1  "
      ]
     },
     "execution_count": 14,
     "metadata": {},
     "output_type": "execute_result"
    }
   ],
   "source": []
  },
  {
   "cell_type": "code",
   "execution_count": 95,
   "id": "c89d2163",
   "metadata": {},
   "outputs": [
    {
     "name": "stdout",
     "output_type": "stream",
     "text": [
      "NA\n",
      "NA\n",
      "NA\n",
      "NA\n",
      "Latitude: TtestResult(statistic=0.04932299587592418, pvalue=0.9608116801263041, df=65.63557518739952)\n",
      "Longitude: TtestResult(statistic=-0.4882122952525006, pvalue=0.6272402538099168, df=57.997594393510084)\n",
      "NA\n",
      "RAPE: TtestResult(statistic=-0.3003787745000457, pvalue=0.7648389704413361, df=65.54181734065713)\n",
      "ROBBERY: TtestResult(statistic=2.079748003501791, pvalue=0.04350209887837142, df=43.305335758228736)\n",
      "MURDER & NON-NEGL. MANSLAUGHTER: TtestResult(statistic=0.3821025583704071, pvalue=0.703990169791441, df=50.45028724876843)\n",
      "Total Crimes: TtestResult(statistic=1.9395509378502132, pvalue=0.058808231261839254, df=44.370018469903115)\n",
      "None\n"
     ]
    }
   ],
   "source": [
    "# no significance found for any crime, unable to reject null hypo\n",
    "\n",
    "ttests(df[1], q_random_gdf)"
   ]
  },
  {
   "cell_type": "markdown",
   "id": "2918a22d",
   "metadata": {},
   "source": [
    "**Significance Tests for Brooklyn**"
   ]
  },
  {
   "cell_type": "code",
   "execution_count": 18,
   "id": "5fc0206e",
   "metadata": {},
   "outputs": [
    {
     "name": "stdout",
     "output_type": "stream",
     "text": [
      "Unnamed: 0: TtestResult(statistic=-11.727054597118984, pvalue=9.9939208002641e-22, df=121.92207704605087)\n",
      "NA\n",
      "NA\n",
      "Latitude: TtestResult(statistic=-5.976044644778113, pvalue=1.609854523840437e-06, df=29.412629251155742)\n",
      "Longitude: TtestResult(statistic=-16.469675147820034, pvalue=1.0212647358201648e-17, df=33.806717706929945)\n",
      "NA\n",
      "ROBBERY: TtestResult(statistic=-7.980374384255984, pvalue=1.203864517164232e-12, df=115.13158577115054)\n",
      "MURDER & NON-NEGL. MANSLAUGHTER: TtestResult(statistic=-4.353554453420412, pvalue=2.824471016132381e-05, df=120.65689581190172)\n",
      "RAPE: TtestResult(statistic=-2.705362470611086, pvalue=0.007876447472554789, df=113.35447723802376)\n",
      "Total Crimes: TtestResult(statistic=-7.575200303963861, pvalue=1.1536720315749776e-11, df=110.91878871053063)\n"
     ]
    }
   ],
   "source": [
    "ttests(reduced_k_public_gdf, k_random_gdf)"
   ]
  },
  {
   "cell_type": "code",
   "execution_count": 19,
   "id": "12d42407",
   "metadata": {},
   "outputs": [
    {
     "name": "stdout",
     "output_type": "stream",
     "text": [
      "Unnamed: 0: TtestResult(statistic=-8.758716269142948, pvalue=2.3811141388007316e-05, df=7.9343301725710464)\n",
      "NA\n",
      "NA\n",
      "Latitude: TtestResult(statistic=-4.111477688091649, pvalue=0.023648230287786447, df=3.154335998634924)\n",
      "Longitude: TtestResult(statistic=-4.920392325896755, pvalue=0.015042992905665738, df=3.086306795944939)\n",
      "NA\n",
      "ROBBERY: TtestResult(statistic=-10.443728199108625, pvalue=1.5692964496557797e-17, df=96.49283268287223)\n",
      "MURDER & NON-NEGL. MANSLAUGHTER: TtestResult(statistic=-6.473061195266285, pvalue=3.7111268363306096e-09, df=99.0)\n",
      "RAPE: TtestResult(statistic=-3.8748413495893916, pvalue=0.00019180715494676899, df=99.0)\n",
      "Total Crimes: TtestResult(statistic=-10.287083213716636, pvalue=2.2775104810519112e-17, df=100.19727595192654)\n"
     ]
    }
   ],
   "source": [
    "df = bypublicarea(reduced_k_public_gdf)\n",
    "ttests(df[0], k_random_gdf)\n"
   ]
  },
  {
   "cell_type": "code",
   "execution_count": 20,
   "id": "a0e25ac5",
   "metadata": {},
   "outputs": [
    {
     "name": "stdout",
     "output_type": "stream",
     "text": [
      "Unnamed: 0: TtestResult(statistic=-11.245695143279907, pvalue=5.630038194545264e-20, df=109.64232886825674)\n",
      "NA\n",
      "NA\n",
      "Latitude: TtestResult(statistic=-5.0794044143039185, pvalue=4.325792256711021e-05, df=22.039017030402228)\n",
      "Longitude: TtestResult(statistic=-16.424773256401522, pvalue=2.064480810149539e-15, df=26.495075741793876)\n",
      "NA\n",
      "ROBBERY: TtestResult(statistic=-7.180786908350506, pvalue=2.5199700318467667e-10, df=84.39772963179409)\n",
      "MURDER & NON-NEGL. MANSLAUGHTER: TtestResult(statistic=-3.803137373954458, pvalue=0.0002466481664359649, df=99.48787277944176)\n",
      "RAPE: TtestResult(statistic=-2.361959141064593, pvalue=0.020628267537520818, df=79.39971640963189)\n",
      "Total Crimes: TtestResult(statistic=-6.746663515416744, pvalue=2.4334999362399555e-09, df=77.54375967954309)\n"
     ]
    }
   ],
   "source": [
    "ttests(df[1], k_random_gdf)"
   ]
  },
  {
   "cell_type": "markdown",
   "id": "7ed9a493",
   "metadata": {},
   "source": [
    "**Significance Test for the Bronx**"
   ]
  },
  {
   "cell_type": "code",
   "execution_count": 21,
   "id": "aa29d1dd",
   "metadata": {},
   "outputs": [
    {
     "name": "stdout",
     "output_type": "stream",
     "text": [
      "Unnamed: 0: TtestResult(statistic=-11.727054597118984, pvalue=9.9939208002641e-22, df=121.92207704605087)\n",
      "NA\n",
      "NA\n",
      "Latitude: TtestResult(statistic=-27.473942973019714, pvalue=1.247071906425969e-21, df=27.684017345909087)\n",
      "Longitude: TtestResult(statistic=-24.027674077667424, pvalue=2.6596042743092392e-20, df=28.15327658567899)\n",
      "NA\n",
      "ROBBERY: TtestResult(statistic=-9.229658554465235, pvalue=2.128963503679167e-15, df=110.95649995667614)\n",
      "MURDER & NON-NEGL. MANSLAUGHTER: TtestResult(statistic=-6.0426148140410465, pvalue=1.764751457903097e-08, df=119.68070683918708)\n",
      "RAPE: TtestResult(statistic=-4.315205791581398, pvalue=3.26197276907726e-05, df=121.90023561542546)\n",
      "Total Crimes: TtestResult(statistic=-9.319875267533373, pvalue=1.0664785426057484e-15, df=114.01590476422122)\n"
     ]
    }
   ],
   "source": [
    "ttests(reduced_x_public_gdf, x_random_gdf)"
   ]
  },
  {
   "cell_type": "code",
   "execution_count": 22,
   "id": "f3fcd1b7",
   "metadata": {},
   "outputs": [
    {
     "name": "stdout",
     "output_type": "stream",
     "text": [
      "Unnamed: 0: TtestResult(statistic=-8.758716269142948, pvalue=2.3811141388007316e-05, df=7.9343301725710464)\n",
      "NA\n",
      "NA\n",
      "Latitude: TtestResult(statistic=-13.832680643129164, pvalue=0.0006726261669954747, df=3.113610112414325)\n",
      "Longitude: TtestResult(statistic=-6.746029875801944, pvalue=0.006363360687173582, df=3.0423375070088112)\n",
      "NA\n",
      "ROBBERY: TtestResult(statistic=-10.064970070597631, pvalue=6.424219132850488e-17, df=101.04655612802188)\n",
      "MURDER & NON-NEGL. MANSLAUGHTER: TtestResult(statistic=-7.583120854499499, pvalue=1.854786743263863e-11, df=99.0)\n",
      "RAPE: TtestResult(statistic=-5.3232376712353915, pvalue=6.369654975425437e-07, df=99.0)\n",
      "Total Crimes: TtestResult(statistic=-10.333369006114962, pvalue=1.6870531765835733e-17, df=100.81878120041873)\n"
     ]
    }
   ],
   "source": [
    "df = bypublicarea(reduced_x_public_gdf)\n",
    "ttests(df[0], x_random_gdf)\n"
   ]
  },
  {
   "cell_type": "code",
   "execution_count": 23,
   "id": "1a5c985a",
   "metadata": {},
   "outputs": [
    {
     "name": "stdout",
     "output_type": "stream",
     "text": [
      "Unnamed: 0: TtestResult(statistic=-11.245695143279907, pvalue=5.630038194545264e-20, df=109.64232886825674)\n",
      "NA\n",
      "NA\n",
      "Latitude: TtestResult(statistic=-24.559526239876227, pvalue=6.316919313011041e-17, df=20.952585469038734)\n",
      "Longitude: TtestResult(statistic=-23.96981606506874, pvalue=2.820115051803774e-17, df=22.03390456946055)\n",
      "NA\n",
      "ROBBERY: TtestResult(statistic=-8.94387902903304, pvalue=7.879357040149965e-15, df=114.11262967969911)\n",
      "MURDER & NON-NEGL. MANSLAUGHTER: TtestResult(statistic=-5.601132226208908, pvalue=1.4514260065960475e-07, df=116.09735584604702)\n",
      "RAPE: TtestResult(statistic=-3.968233765171144, pvalue=0.00013382527298028637, df=103.38403204397233)\n",
      "Total Crimes: TtestResult(statistic=-8.96895566123721, pvalue=6.04734018506272e-15, df=116.26272338889297)\n"
     ]
    }
   ],
   "source": [
    "ttests(df[1], x_random_gdf)"
   ]
  },
  {
   "cell_type": "markdown",
   "id": "e0717a51",
   "metadata": {},
   "source": [
    "**Significance Tests for Manhattan**"
   ]
  },
  {
   "cell_type": "code",
   "execution_count": 24,
   "id": "349af9ab",
   "metadata": {},
   "outputs": [
    {
     "name": "stdout",
     "output_type": "stream",
     "text": [
      "Unnamed: 0: TtestResult(statistic=-11.727054597118984, pvalue=9.9939208002641e-22, df=121.92207704605087)\n",
      "NA\n",
      "NA\n",
      "Latitude: TtestResult(statistic=-18.277079595983853, pvalue=4.8656626150114313e-20, df=36.76374044436301)\n",
      "Longitude: TtestResult(statistic=-15.362246699698211, pvalue=1.1875405284970887e-14, df=26.29898926859066)\n",
      "NA\n",
      "ROBBERY: TtestResult(statistic=-14.298691608159078, pvalue=6.583570220465456e-27, df=110.73159199269651)\n",
      "MURDER & NON-NEGL. MANSLAUGHTER: TtestResult(statistic=-7.595881305168012, pvalue=7.058585648119657e-12, df=121.30836620969723)\n",
      "RAPE: TtestResult(statistic=-6.171392624754514, pvalue=1.4786812447614945e-08, df=99.31923792944988)\n",
      "Total Crimes: TtestResult(statistic=-14.336656610752486, pvalue=2.6509402946467898e-27, df=114.33511323340753)\n"
     ]
    }
   ],
   "source": [
    "ttests(reduced_m_public_gdf, m_random_gdf)\n"
   ]
  },
  {
   "cell_type": "code",
   "execution_count": 25,
   "id": "7854132b",
   "metadata": {},
   "outputs": [
    {
     "name": "stdout",
     "output_type": "stream",
     "text": [
      "Unnamed: 0: TtestResult(statistic=-8.758716269142948, pvalue=2.3811141388007316e-05, df=7.9343301725710464)\n",
      "NA\n",
      "NA\n",
      "Latitude: TtestResult(statistic=-10.137831341990497, pvalue=0.0012998619722526703, df=3.3232657925775713)\n",
      "Longitude: TtestResult(statistic=-4.359614891463714, pvalue=0.021892199317837965, df=3.0274120041015857)\n",
      "NA\n",
      "ROBBERY: TtestResult(statistic=-15.258246015715761, pvalue=5.688136681026808e-28, df=101.0129202796866)\n",
      "MURDER & NON-NEGL. MANSLAUGHTER: TtestResult(statistic=-9.486710758215882, pvalue=1.4416991603723288e-15, df=98.99999999999999)\n",
      "RAPE: TtestResult(statistic=-8.584297584244156, pvalue=1.3229715105108922e-13, df=99.0)\n",
      "Total Crimes: TtestResult(statistic=-15.573728635571007, pvalue=1.380323609331345e-28, df=100.85882660490964)\n"
     ]
    }
   ],
   "source": [
    "df = bypublicarea(reduced_m_public_gdf)\n",
    "ttests(df[0], m_random_gdf)"
   ]
  },
  {
   "cell_type": "code",
   "execution_count": 26,
   "id": "32bdc61f",
   "metadata": {},
   "outputs": [
    {
     "name": "stdout",
     "output_type": "stream",
     "text": [
      "Unnamed: 0: TtestResult(statistic=-11.245695143279907, pvalue=5.630038194545264e-20, df=109.64232886825674)\n",
      "NA\n",
      "NA\n",
      "Latitude: TtestResult(statistic=-24.559526239876227, pvalue=6.316919313011041e-17, df=20.952585469038734)\n",
      "Longitude: TtestResult(statistic=-23.96981606506874, pvalue=2.820115051803774e-17, df=22.03390456946055)\n",
      "NA\n",
      "ROBBERY: TtestResult(statistic=-8.94387902903304, pvalue=7.879357040149965e-15, df=114.11262967969911)\n",
      "MURDER & NON-NEGL. MANSLAUGHTER: TtestResult(statistic=-5.601132226208908, pvalue=1.4514260065960475e-07, df=116.09735584604702)\n",
      "RAPE: TtestResult(statistic=-3.968233765171144, pvalue=0.00013382527298028637, df=103.38403204397233)\n",
      "Total Crimes: TtestResult(statistic=-8.96895566123721, pvalue=6.04734018506272e-15, df=116.26272338889297)\n"
     ]
    }
   ],
   "source": [
    "ttests(df[1], x_random_gdf)"
   ]
  },
  {
   "cell_type": "code",
   "execution_count": null,
   "id": "f0a4c6dd",
   "metadata": {},
   "outputs": [],
   "source": []
  }
 ],
 "metadata": {
  "kernelspec": {
   "display_name": "Python 3 (ipykernel)",
   "language": "python",
   "name": "python3"
  },
  "language_info": {
   "codemirror_mode": {
    "name": "ipython",
    "version": 3
   },
   "file_extension": ".py",
   "mimetype": "text/x-python",
   "name": "python",
   "nbconvert_exporter": "python",
   "pygments_lexer": "ipython3",
   "version": "3.10.14"
  }
 },
 "nbformat": 4,
 "nbformat_minor": 5
}
