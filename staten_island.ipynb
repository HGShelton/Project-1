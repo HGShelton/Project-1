{
 "cells": [
  {
   "cell_type": "code",
   "execution_count": 7,
   "id": "0e1e9d5c-97de-4fa3-95f9-bf5207cc89b8",
   "metadata": {},
   "outputs": [],
   "source": [
    "import matplotlib.pyplot as plt\n",
    "import pandas as pd\n",
    "import numpy as np\n",
    "import requests\n",
    "import time\n",
    "from scipy.stats import linregress\n",
    "from pathlib import Path"
   ]
  },
  {
   "cell_type": "code",
   "execution_count": 9,
   "id": "fad48e8b-f39f-4252-99bc-337cd4800e41",
   "metadata": {},
   "outputs": [
    {
     "data": {
      "text/html": [
       "<div>\n",
       "<style scoped>\n",
       "    .dataframe tbody tr th:only-of-type {\n",
       "        vertical-align: middle;\n",
       "    }\n",
       "\n",
       "    .dataframe tbody tr th {\n",
       "        vertical-align: top;\n",
       "    }\n",
       "\n",
       "    .dataframe thead th {\n",
       "        text-align: right;\n",
       "    }\n",
       "</style>\n",
       "<table border=\"1\" class=\"dataframe\">\n",
       "  <thead>\n",
       "    <tr style=\"text-align: right;\">\n",
       "      <th></th>\n",
       "      <th>OBJECTID</th>\n",
       "      <th>Complaint ID</th>\n",
       "      <th>Offense</th>\n",
       "      <th>Latitude</th>\n",
       "      <th>Longitude</th>\n",
       "      <th>Borough</th>\n",
       "      <th>Public Area</th>\n",
       "    </tr>\n",
       "  </thead>\n",
       "  <tbody>\n",
       "    <tr>\n",
       "      <th>0</th>\n",
       "      <td>1</td>\n",
       "      <td>261214832</td>\n",
       "      <td>ROBBERY</td>\n",
       "      <td>40.643566</td>\n",
       "      <td>-74.074001</td>\n",
       "      <td>NaN</td>\n",
       "      <td>NaN</td>\n",
       "    </tr>\n",
       "    <tr>\n",
       "      <th>1</th>\n",
       "      <td>2</td>\n",
       "      <td>261233859</td>\n",
       "      <td>ROBBERY</td>\n",
       "      <td>40.635961</td>\n",
       "      <td>-74.161365</td>\n",
       "      <td>NaN</td>\n",
       "      <td>NaN</td>\n",
       "    </tr>\n",
       "    <tr>\n",
       "      <th>2</th>\n",
       "      <td>3</td>\n",
       "      <td>261233841</td>\n",
       "      <td>ROBBERY</td>\n",
       "      <td>40.643569</td>\n",
       "      <td>-74.098338</td>\n",
       "      <td>NaN</td>\n",
       "      <td>NaN</td>\n",
       "    </tr>\n",
       "    <tr>\n",
       "      <th>3</th>\n",
       "      <td>4</td>\n",
       "      <td>261261343</td>\n",
       "      <td>ROBBERY</td>\n",
       "      <td>40.630408</td>\n",
       "      <td>-74.142977</td>\n",
       "      <td>NaN</td>\n",
       "      <td>NaN</td>\n",
       "    </tr>\n",
       "    <tr>\n",
       "      <th>4</th>\n",
       "      <td>5</td>\n",
       "      <td>261347872</td>\n",
       "      <td>ROBBERY</td>\n",
       "      <td>40.630539</td>\n",
       "      <td>-74.076641</td>\n",
       "      <td>NaN</td>\n",
       "      <td>NaN</td>\n",
       "    </tr>\n",
       "  </tbody>\n",
       "</table>\n",
       "</div>"
      ],
      "text/plain": [
       "   OBJECTID Complaint ID  Offense   Latitude  Longitude Borough Public Area\n",
       "0         1    261214832  ROBBERY  40.643566 -74.074001     NaN         NaN\n",
       "1         2    261233859  ROBBERY  40.635961 -74.161365     NaN         NaN\n",
       "2         3    261233841  ROBBERY  40.643569 -74.098338     NaN         NaN\n",
       "3         4    261261343  ROBBERY  40.630408 -74.142977     NaN         NaN\n",
       "4         5    261347872  ROBBERY  40.630539 -74.076641     NaN         NaN"
      ]
     },
     "execution_count": 9,
     "metadata": {},
     "output_type": "execute_result"
    }
   ],
   "source": [
    "# create path\n",
    "staten_island = Path('Resources/staten_island.xlsx')\n",
    "\n",
    "# read file\n",
    "SI = pd.read_excel(staten_island)\n",
    "\n",
    "SI.head()"
   ]
  },
  {
   "cell_type": "code",
   "execution_count": null,
   "id": "dedf5e96-fc82-462e-ba2b-e11e5aab7ee0",
   "metadata": {},
   "outputs": [],
   "source": []
  }
 ],
 "metadata": {
  "kernelspec": {
   "display_name": "Python 3 (ipykernel)",
   "language": "python",
   "name": "python3"
  },
  "language_info": {
   "codemirror_mode": {
    "name": "ipython",
    "version": 3
   },
   "file_extension": ".py",
   "mimetype": "text/x-python",
   "name": "python",
   "nbconvert_exporter": "python",
   "pygments_lexer": "ipython3",
   "version": "3.10.14"
  }
 },
 "nbformat": 4,
 "nbformat_minor": 5
}
